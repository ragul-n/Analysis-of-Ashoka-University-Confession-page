{
  "nbformat": 4,
  "nbformat_minor": 0,
  "metadata": {
    "colab": {
      "name": "Extracting Sentiments from confessions.ipynb",
      "provenance": [],
      "collapsed_sections": [],
      "mount_file_id": "1QGGm-zX9hLiQ6Uslik2bIXE5-jlwAUDW",
      "authorship_tag": "ABX9TyMtSatzGKh3tUgfFrKpulKx",
      "include_colab_link": true
    },
    "kernelspec": {
      "name": "python3",
      "display_name": "Python 3"
    },
    "language_info": {
      "name": "python"
    }
  },
  "cells": [
    {
      "cell_type": "markdown",
      "metadata": {
        "id": "view-in-github",
        "colab_type": "text"
      },
      "source": [
        "<a href=\"https://colab.research.google.com/github/ragul-n/Analysis-of-Ashoka-University-Confession-page/blob/master/Extracting_Sentiments_from_confessions.ipynb\" target=\"_parent\"><img src=\"https://colab.research.google.com/assets/colab-badge.svg\" alt=\"Open In Colab\"/></a>"
      ]
    },
    {
      "cell_type": "code",
      "metadata": {
        "id": "sPDipf5t-pTu"
      },
      "source": [
        "!pip install instaloader\n",
        "!pip install ftfy\n",
        "!pip install text2emotion\n"
      ],
      "execution_count": null,
      "outputs": []
    },
    {
      "cell_type": "code",
      "metadata": {
        "id": "idXz5JtvluwH"
      },
      "source": [
        "!pip install --upgrade azure-cognitiveservices-vision-computervision\n",
        "!pip install pillow\n",
        "!pip install azure-ai-textanalytics==5.1.0"
      ],
      "execution_count": null,
      "outputs": []
    },
    {
      "cell_type": "code",
      "metadata": {
        "colab": {
          "base_uri": "https://localhost:8080/"
        },
        "id": "EUDzi5RY-wX6",
        "outputId": "4534ed3a-a1c4-4c32-f952-9cf78cb207ab"
      },
      "source": [
        "import pandas as pd\n",
        "import matplotlib.pyplot as plt\n",
        "import numpy as np\n",
        "import seaborn as sns\n",
        "\n",
        "import shutil\n",
        "import os\n",
        "import random\n",
        "try:\n",
        " from PIL import Image\n",
        "except ImportError:\n",
        " import Image\n",
        "import text2emotion as te\n",
        "import cv2\n",
        "import ftfy\n",
        "import uuid\n",
        "import nltk\n",
        "import random\n",
        "import IPython.display\n",
        "\n",
        "from azure.cognitiveservices.vision.computervision import ComputerVisionClient\n",
        "from azure.cognitiveservices.vision.computervision.models import OperationStatusCodes\n",
        "from azure.cognitiveservices.vision.computervision.models import VisualFeatureTypes\n",
        "from msrest.authentication import CognitiveServicesCredentials\n",
        "\n",
        "from array import array\n",
        "import os\n",
        "from PIL import Image\n",
        "import sys\n",
        "import time\n",
        "\n",
        "\n",
        "nltk.download(\"vader_lexicon\")\n",
        "\n",
        "from nltk.sentiment.vader import SentimentIntensityAnalyzer"
      ],
      "execution_count": null,
      "outputs": [
        {
          "output_type": "stream",
          "text": [
            "[nltk_data] Downloading package stopwords to /root/nltk_data...\n",
            "[nltk_data]   Unzipping corpora/stopwords.zip.\n",
            "[nltk_data] Downloading package punkt to /root/nltk_data...\n",
            "[nltk_data]   Unzipping tokenizers/punkt.zip.\n",
            "[nltk_data] Downloading package wordnet to /root/nltk_data...\n",
            "[nltk_data]   Unzipping corpora/wordnet.zip.\n",
            "[nltk_data] Downloading package vader_lexicon to /root/nltk_data...\n"
          ],
          "name": "stdout"
        },
        {
          "output_type": "stream",
          "text": [
            "/usr/local/lib/python3.7/dist-packages/nltk/twitter/__init__.py:20: UserWarning: The twython library has not been installed. Some functionality from the twitter package will not be available.\n",
            "  warnings.warn(\"The twython library has not been installed. \"\n"
          ],
          "name": "stderr"
        }
      ]
    },
    {
      "cell_type": "code",
      "metadata": {
        "colab": {
          "base_uri": "https://localhost:8080/"
        },
        "id": "t1SCjzSoctTY",
        "outputId": "ad8050dc-53b1-4cb4-9143-6afd514307a1"
      },
      "source": [
        "image_list=[]\n",
        "\n",
        "for file in os.listdir(\"/content/drive/MyDrive/au.rants.23\"):\n",
        "    if file.endswith(\".jpg\"):\n",
        "        image_list.append(os.path.join(\"/content/drive/MyDrive/au.rants.23\", file))\n",
        "\n",
        "len(image_list)"
      ],
      "execution_count": null,
      "outputs": [
        {
          "output_type": "execute_result",
          "data": {
            "text/plain": [
              "1365"
            ]
          },
          "metadata": {
            "tags": []
          },
          "execution_count": 4
        }
      ]
    },
    {
      "cell_type": "code",
      "metadata": {
        "id": "hymz8y3pt2yT"
      },
      "source": [
        ""
      ],
      "execution_count": null,
      "outputs": []
    },
    {
      "cell_type": "markdown",
      "metadata": {
        "id": "j6UOJiesmHxY"
      },
      "source": [
        "OCR with Microsoft Azure"
      ]
    },
    {
      "cell_type": "code",
      "metadata": {
        "colab": {
          "base_uri": "https://localhost:8080/",
          "height": 35
        },
        "id": "5tJrWXlcloU9",
        "outputId": "4aecf24f-ed68-466a-f0ef-2ff8d12a38b6"
      },
      "source": [
        "'''\n",
        "Authenticate\n",
        "Authenticates your credentials and creates a client.\n",
        "'''\n",
        "subscription_key = \"ab1b27f9f3fe48a6aac6b3de0224e94a\"\n",
        "endpoint = \"https://ragul.cognitiveservices.azure.com/\"\n",
        "\n",
        "\n",
        "computervision_client = ComputerVisionClient(endpoint, CognitiveServicesCredentials(subscription_key))\n",
        "\n",
        "\n",
        "\n",
        "def read_image(read_image_path):\n",
        "\n",
        "    # Open the image\n",
        "    read_image = open(read_image_path, \"rb\")\n",
        "\n",
        "    # Call API with image and raw response (allows you to get the operation location)\n",
        "    read_response = computervision_client.read_in_stream(read_image, raw=True)\n",
        "    # Get the operation location (URL with ID as last appendage)\n",
        "    read_operation_location = read_response.headers[\"Operation-Location\"]\n",
        "    # Take the ID off and use to get results\n",
        "    operation_id = read_operation_location.split(\"/\")[-1]\n",
        "\n",
        "    # Call the \"GET\" API and wait for the retrieval of the results\n",
        "    while True:\n",
        "        read_result = computervision_client.get_read_result(operation_id)\n",
        "        if read_result.status.lower () not in ['notstarted', 'running']:\n",
        "            break\n",
        "        \n",
        "    # Print results, line by line\n",
        "    string=\"\"\n",
        "    \n",
        "    if read_result.status == OperationStatusCodes.succeeded:\n",
        "        for text_result in read_result.analyze_result.read_results:\n",
        "            for line in text_result.lines:\n",
        "                string = string + \" \" + line.text\n",
        "                #print(line.bounding_box)\n",
        "    return string\n",
        "\n",
        "read_image(image_list[0])"
      ],
      "execution_count": null,
      "outputs": [
        {
          "output_type": "execute_result",
          "data": {
            "application/vnd.google.colaboratory.intrinsic+json": {
              "type": "string"
            },
            "text/plain": [
              "' CUPCAKES ROCK'"
            ]
          },
          "metadata": {
            "tags": []
          },
          "execution_count": 5
        }
      ]
    },
    {
      "cell_type": "code",
      "metadata": {
        "colab": {
          "base_uri": "https://localhost:8080/",
          "height": 35
        },
        "id": "cpLpeamYoQjZ",
        "outputId": "459d9359-eba4-4a0e-8890-4f17b2cd03b0"
      },
      "source": [
        "sentiments=[]\n",
        "\n",
        "sia = SentimentIntensityAnalyzer()\n",
        "\n",
        "count=0\n",
        "length= str(len(image_list))\n",
        "info = display(str(count) + \"/\"+ length, display_id=True)\n",
        "\n",
        "for image in image_list:\n",
        "\n",
        "    info.update(str(count) + \"/\"+ length)\n",
        "\n",
        "    string = read_image(image)\n",
        "\n",
        "    temp=te.get_emotion(string)\n",
        "    temp.update(sia.polarity_scores(string))\n",
        "    temp.update({\"rant\":string})\n",
        "\n",
        "    sentiments.append(temp)\n",
        "    count+=1\n",
        "      \n",
        "    "
      ],
      "execution_count": null,
      "outputs": [
        {
          "output_type": "display_data",
          "data": {
            "application/vnd.google.colaboratory.intrinsic+json": {
              "type": "string"
            },
            "text/plain": [
              "'1364/1365'"
            ]
          },
          "metadata": {
            "tags": []
          }
        }
      ]
    },
    {
      "cell_type": "code",
      "metadata": {
        "colab": {
          "base_uri": "https://localhost:8080/"
        },
        "id": "7S2k89PJou_A",
        "outputId": "6cfda468-bfc6-4969-9df2-13a89ae5c8da"
      },
      "source": [
        "sentiments[976]"
      ],
      "execution_count": null,
      "outputs": [
        {
          "output_type": "execute_result",
          "data": {
            "text/plain": [
              "{'Angry': 0.09,\n",
              " 'Fear': 0.36,\n",
              " 'Happy': 0.09,\n",
              " 'Sad': 0.36,\n",
              " 'Surprise': 0.09,\n",
              " 'compound': 0.5232,\n",
              " 'neg': 0.126,\n",
              " 'neu': 0.712,\n",
              " 'pos': 0.162,\n",
              " 'rant': \" I am sorry for saying this. There are some people who are opening petitions and not signing them. How petty and selfish can you be? In times of need, who will support you, when you're not ready to support anyone? This is not a hateful message. But please be mindful about others situations. Let's all be wholesome.\"}"
            ]
          },
          "metadata": {
            "tags": []
          },
          "execution_count": 20
        }
      ]
    },
    {
      "cell_type": "markdown",
      "metadata": {
        "id": "9uNnQjcGoTkv"
      },
      "source": [
        "Saving Dataset"
      ]
    },
    {
      "cell_type": "code",
      "metadata": {
        "id": "UN7cQLb8WRAD"
      },
      "source": [
        ""
      ],
      "execution_count": null,
      "outputs": []
    },
    {
      "cell_type": "markdown",
      "metadata": {
        "id": "-xOtzaZQ-yRe"
      },
      "source": [
        "##Microsoft Azure's Text Analytics"
      ]
    },
    {
      "cell_type": "code",
      "metadata": {
        "colab": {
          "base_uri": "https://localhost:8080/",
          "height": 35
        },
        "id": "cnjQNMCX-x_N",
        "outputId": "b07c542e-3811-42a7-c4ee-ad52221db76a"
      },
      "source": [
        "key = \"384eb6ff06b9458bb15231adce28ba5f\"\n",
        "endpoint = \"https://ragul-text.cognitiveservices.azure.com/\"\n",
        "\n",
        "from azure.ai.textanalytics import TextAnalyticsClient\n",
        "from azure.core.credentials import AzureKeyCredential\n",
        "\n",
        "def authenticate_client():\n",
        "    ta_credential = AzureKeyCredential(key)\n",
        "    text_analytics_client = TextAnalyticsClient(\n",
        "            endpoint=endpoint, \n",
        "            credential=ta_credential)\n",
        "    return text_analytics_client\n",
        "\n",
        "client = authenticate_client()\n",
        "\n",
        "\n",
        "\n",
        "def sentiment_analysis(rant, client):\n",
        "\n",
        "\n",
        "    if len(rant) != 0:\n",
        "        documents = [rant]\n",
        "        response = client.analyze_sentiment(documents=documents)[0]\n",
        "        sentiment= {\n",
        "            \"positive\":response.confidence_scores.positive,\n",
        "            \"neutral\":response.confidence_scores.neutral,\n",
        "            \"negative\":response.confidence_scores.negative,\n",
        "        }\n",
        "\n",
        "        return sentiment\n",
        "    else:\n",
        "        return {\n",
        "            \"positive\":np.nan,\n",
        "            \"neutral\":np.nan,\n",
        "            \"negative\":np.nan,\n",
        "        }\n",
        "\n",
        "\n",
        "sentiments=[]\n",
        "\n",
        "count=0\n",
        "length= str(len(image_list))\n",
        "info = display(str(count) + \"/\"+ length, display_id=True)\n",
        "\n",
        "for rant in data[\"rant\"]:\n",
        "    info.update(str(count) + \"/\"+ length)\n",
        "    sentiment = sentiment_analysis(rant, client)\n",
        "    sentiment.update({\"rant\":rant})\n",
        "    sentiments.append(sentiment)\n",
        "    count+=1\n"
      ],
      "execution_count": null,
      "outputs": [
        {
          "output_type": "display_data",
          "data": {
            "application/vnd.google.colaboratory.intrinsic+json": {
              "type": "string"
            },
            "text/plain": [
              "'1364/1365'"
            ]
          },
          "metadata": {
            "tags": []
          }
        }
      ]
    },
    {
      "cell_type": "code",
      "metadata": {
        "id": "J6Sv3QnNNXck"
      },
      "source": [
        "sentiments"
      ],
      "execution_count": null,
      "outputs": []
    },
    {
      "cell_type": "code",
      "metadata": {
        "id": "moQB2ehM0v7V",
        "colab": {
          "base_uri": "https://localhost:8080/",
          "height": 206
        },
        "outputId": "c380b602-d3cf-4142-e2be-1f455c42a953"
      },
      "source": [
        "\n",
        "data= pd.DataFrame(sentiments)\n",
        "data[\"image_adress\"] = image_list\n",
        "\n",
        "import re\n",
        "from datetime import datetime\n",
        "\n",
        "date_list = []\n",
        "for img in image_list:\n",
        "    match = re.search(r'\\d{4}-\\d{2}-\\d{2}', img)\n",
        "    date = datetime.strptime(match.group(), '%Y-%m-%d').date()\n",
        "    date_list.append(date)\n",
        "\n",
        "data[\"Date\"] = date_list\n",
        "data['Date'] = pd.to_datetime(data['Date'], format = '%Y-%m-%d')\n",
        "\n",
        "data= data.drop(\"image_adress\", axis=1)\n",
        "data= data.assign(id= data['rant'].astype('category').cat.codes)\n",
        "\n",
        "data.head()"
      ],
      "execution_count": null,
      "outputs": [
        {
          "output_type": "execute_result",
          "data": {
            "text/html": [
              "<div>\n",
              "<style scoped>\n",
              "    .dataframe tbody tr th:only-of-type {\n",
              "        vertical-align: middle;\n",
              "    }\n",
              "\n",
              "    .dataframe tbody tr th {\n",
              "        vertical-align: top;\n",
              "    }\n",
              "\n",
              "    .dataframe thead th {\n",
              "        text-align: right;\n",
              "    }\n",
              "</style>\n",
              "<table border=\"1\" class=\"dataframe\">\n",
              "  <thead>\n",
              "    <tr style=\"text-align: right;\">\n",
              "      <th></th>\n",
              "      <th>positive</th>\n",
              "      <th>neutral</th>\n",
              "      <th>negative</th>\n",
              "      <th>rant</th>\n",
              "      <th>Date</th>\n",
              "      <th>id</th>\n",
              "    </tr>\n",
              "  </thead>\n",
              "  <tbody>\n",
              "    <tr>\n",
              "      <th>0</th>\n",
              "      <td>0.56</td>\n",
              "      <td>0.41</td>\n",
              "      <td>0.03</td>\n",
              "      <td>CUPCAKES ROCK</td>\n",
              "      <td>2021-06-25</td>\n",
              "      <td>145</td>\n",
              "    </tr>\n",
              "    <tr>\n",
              "      <th>1</th>\n",
              "      <td>0.04</td>\n",
              "      <td>0.94</td>\n",
              "      <td>0.02</td>\n",
              "      <td>Would you connect with your ex on Linkedin? A...</td>\n",
              "      <td>2021-06-25</td>\n",
              "      <td>1098</td>\n",
              "    </tr>\n",
              "    <tr>\n",
              "      <th>2</th>\n",
              "      <td>0.00</td>\n",
              "      <td>0.00</td>\n",
              "      <td>1.00</td>\n",
              "      <td>\"I have a crush on this, I have a crush on th...</td>\n",
              "      <td>2021-06-25</td>\n",
              "      <td>3</td>\n",
              "    </tr>\n",
              "    <tr>\n",
              "      <th>3</th>\n",
              "      <td>0.35</td>\n",
              "      <td>0.13</td>\n",
              "      <td>0.52</td>\n",
              "      <td>AHOY I have a phone worth 8k, a laptop that I...</td>\n",
              "      <td>2021-06-25</td>\n",
              "      <td>39</td>\n",
              "    </tr>\n",
              "    <tr>\n",
              "      <th>4</th>\n",
              "      <td>0.02</td>\n",
              "      <td>0.44</td>\n",
              "      <td>0.54</td>\n",
              "      <td>It's not real you've never even met the dude</td>\n",
              "      <td>2021-06-25</td>\n",
              "      <td>649</td>\n",
              "    </tr>\n",
              "  </tbody>\n",
              "</table>\n",
              "</div>"
            ],
            "text/plain": [
              "   positive  neutral  ...       Date    id\n",
              "0      0.56     0.41  ... 2021-06-25   145\n",
              "1      0.04     0.94  ... 2021-06-25  1098\n",
              "2      0.00     0.00  ... 2021-06-25     3\n",
              "3      0.35     0.13  ... 2021-06-25    39\n",
              "4      0.02     0.44  ... 2021-06-25   649\n",
              "\n",
              "[5 rows x 6 columns]"
            ]
          },
          "metadata": {
            "tags": []
          },
          "execution_count": 114
        }
      ]
    },
    {
      "cell_type": "code",
      "metadata": {
        "id": "n6ZvhQ75UbF7"
      },
      "source": [
        "data.to_csv(\"/content/drive/MyDrive/au.rants.23/emotions.csv\")"
      ],
      "execution_count": null,
      "outputs": []
    },
    {
      "cell_type": "markdown",
      "metadata": {
        "id": "fgH3kJJhoZN9"
      },
      "source": [
        "Visualizing Dataset"
      ]
    },
    {
      "cell_type": "code",
      "metadata": {
        "colab": {
          "base_uri": "https://localhost:8080/",
          "height": 367
        },
        "id": "9b6_zAhWXWv_",
        "outputId": "4cea564d-0528-4432-f69f-469ba686d7bc"
      },
      "source": [
        "sentiments = data.mean().drop(\"id\").sort_values()\n",
        "index=list(sentiments.index)\n",
        "\n",
        "ax=sns.barplot(x=index, y=sentiments.values)\n",
        "ax.set_title(\"Average Emotions of a Rant\")\n",
        "ax.set_xlabel(\"Polarity\")\n",
        "ax.set_ylabel(\"Emotions\")"
      ],
      "execution_count": null,
      "outputs": [
        {
          "output_type": "stream",
          "text": [
            "/usr/local/lib/python3.7/dist-packages/ipykernel_launcher.py:1: FutureWarning: DataFrame.mean and DataFrame.median with numeric_only=None will include datetime64 and datetime64tz columns in a future version.\n",
            "  \"\"\"Entry point for launching an IPython kernel.\n"
          ],
          "name": "stderr"
        },
        {
          "output_type": "execute_result",
          "data": {
            "text/plain": [
              "Text(0, 0.5, 'Emotions')"
            ]
          },
          "metadata": {
            "tags": []
          },
          "execution_count": 135
        },
        {
          "output_type": "display_data",
          "data": {
            "image/png": "[encoded data removed]",
            "text/plain": [
              "<Figure size 432x288 with 1 Axes>"
            ]
          },
          "metadata": {
            "tags": [],
            "needs_background": "light"
          }
        }
      ]
    },
    {
      "cell_type": "code",
      "metadata": {
        "colab": {
          "base_uri": "https://localhost:8080/",
          "height": 235
        },
        "id": "h33QRLHxD_XT",
        "outputId": "9b9fcee4-2577-4fb9-dc53-526dfa6dcf3a"
      },
      "source": [
        "import matplotlib.dates as md\n",
        "\n",
        "def moving_average(x, w):\n",
        "    return np.convolve(x, np.ones(w), 'valid') / w\n",
        "\n",
        "mean_by_date= data.groupby(\"Date\").agg(np.mean)\n",
        "\n",
        "fig, ax= plt.subplots(figsize=(10,6))\n",
        "\n",
        "ax=sns.lineplot(y=moving_average(mean_by_date[\"positive\"].values,5),color=\"green\", x=mean_by_date.index[4:] , label=\"Positive\")\n",
        "ax.axhline(data.positive.mean(), ls=\"--\", color=\"green\")\n",
        "\n",
        "ax=sns.lineplot(y=moving_average(mean_by_date[\"neutral\"].values, 5), x=mean_by_date.index[4:],  label=\"neutral\",  color=\"blue\" )\n",
        "ax.axhline(data.neutral.mean(), ls=\"--\", color=\"blue\")\n",
        "\n",
        "ax=sns.lineplot(y=moving_average(mean_by_date[\"negative\"].values, 5),color=\"red\", x=mean_by_date.index[4:],  label=\"Negative\", ax=ax, alpha=0.7 )\n",
        "ax.axhline(data.negative.mean(), ls=\"--\", color=\"red\" )\n",
        "\n",
        "\n",
        "# specify the position of the major ticks at the beginning of the week\n",
        "ax.xaxis.set_major_locator(md.WeekdayLocator(byweekday = 1))\n",
        "# specify the format of the labels as 'year-month-day'\n",
        "ax.xaxis.set_major_formatter(md.DateFormatter('%Y-%m-%d'))\n",
        "# (optional) rotate by 90° the labels in order to improve their spacing\n",
        "plt.setp(ax.xaxis.get_majorticklabels(), rotation = 90)\n",
        "\n",
        "# specify the position of the minor ticks at each day\n",
        "ax.xaxis.set_minor_locator(md.DayLocator(interval = 1))\n",
        "\n",
        "# set ticks length\n",
        "ax.tick_params(axis = 'x', which = 'major', length = 10)\n",
        "ax.tick_params(axis = 'x', which = 'minor', length = 5)\n",
        "\n",
        "ax.text(mean_by_date.index[-1], 0.42, \"Mean: Negative\")\n",
        "ax.text(mean_by_date.index[-1], 0.29, \"Mean: Positve\")\n",
        "ax.text(mean_by_date.index[-1], 0.26, \"Mean: Neutral\")\n",
        "\n",
        "\n",
        "ax.set_title(\"Average sentiments by Date\")"
      ],
      "execution_count": null,
      "outputs": [
        {
          "output_type": "error",
          "ename": "NameError",
          "evalue": "ignored",
          "traceback": [
            "\u001b[0;31m---------------------------------------------------------------------------\u001b[0m",
            "\u001b[0;31mNameError\u001b[0m                                 Traceback (most recent call last)",
            "\u001b[0;32m<ipython-input-2-6aa5ed5de2c8>\u001b[0m in \u001b[0;36m<module>\u001b[0;34m()\u001b[0m\n\u001b[1;32m      4\u001b[0m     \u001b[0;32mreturn\u001b[0m \u001b[0mnp\u001b[0m\u001b[0;34m.\u001b[0m\u001b[0mconvolve\u001b[0m\u001b[0;34m(\u001b[0m\u001b[0mx\u001b[0m\u001b[0;34m,\u001b[0m \u001b[0mnp\u001b[0m\u001b[0;34m.\u001b[0m\u001b[0mones\u001b[0m\u001b[0;34m(\u001b[0m\u001b[0mw\u001b[0m\u001b[0;34m)\u001b[0m\u001b[0;34m,\u001b[0m \u001b[0;34m'valid'\u001b[0m\u001b[0;34m)\u001b[0m \u001b[0;34m/\u001b[0m \u001b[0mw\u001b[0m\u001b[0;34m\u001b[0m\u001b[0;34m\u001b[0m\u001b[0m\n\u001b[1;32m      5\u001b[0m \u001b[0;34m\u001b[0m\u001b[0m\n\u001b[0;32m----> 6\u001b[0;31m \u001b[0mmean_by_date\u001b[0m\u001b[0;34m=\u001b[0m \u001b[0mdata\u001b[0m\u001b[0;34m.\u001b[0m\u001b[0mgroupby\u001b[0m\u001b[0;34m(\u001b[0m\u001b[0;34m\"Date\"\u001b[0m\u001b[0;34m)\u001b[0m\u001b[0;34m.\u001b[0m\u001b[0magg\u001b[0m\u001b[0;34m(\u001b[0m\u001b[0mnp\u001b[0m\u001b[0;34m.\u001b[0m\u001b[0mmean\u001b[0m\u001b[0;34m)\u001b[0m\u001b[0;34m\u001b[0m\u001b[0;34m\u001b[0m\u001b[0m\n\u001b[0m\u001b[1;32m      7\u001b[0m \u001b[0;34m\u001b[0m\u001b[0m\n\u001b[1;32m      8\u001b[0m \u001b[0mfig\u001b[0m\u001b[0;34m,\u001b[0m \u001b[0max\u001b[0m\u001b[0;34m=\u001b[0m \u001b[0mplt\u001b[0m\u001b[0;34m.\u001b[0m\u001b[0msubplots\u001b[0m\u001b[0;34m(\u001b[0m\u001b[0mfigsize\u001b[0m\u001b[0;34m=\u001b[0m\u001b[0;34m(\u001b[0m\u001b[0;36m10\u001b[0m\u001b[0;34m,\u001b[0m\u001b[0;36m6\u001b[0m\u001b[0;34m)\u001b[0m\u001b[0;34m)\u001b[0m\u001b[0;34m\u001b[0m\u001b[0;34m\u001b[0m\u001b[0m\n",
            "\u001b[0;31mNameError\u001b[0m: name 'data' is not defined"
          ]
        }
      ]
    },
    {
      "cell_type": "code",
      "metadata": {
        "colab": {
          "base_uri": "https://localhost:8080/"
        },
        "id": "x47c215xaBne",
        "outputId": "3043bfca-d1ed-4b54-945c-27e36f1d0c78"
      },
      "source": [
        "#len(moving_average(mean_by_date[\"negative\"].values, 5))\n",
        "len(mean_by_date[\"negative\"].values)"
      ],
      "execution_count": null,
      "outputs": [
        {
          "output_type": "execute_result",
          "data": {
            "text/plain": [
              "75"
            ]
          },
          "metadata": {
            "tags": []
          },
          "execution_count": 140
        }
      ]
    },
    {
      "cell_type": "code",
      "metadata": {
        "colab": {
          "base_uri": "https://localhost:8080/",
          "height": 35
        },
        "id": "V199BzAU_uUS",
        "outputId": "2b97171f-0f50-40df-9d85-d2e32ee15fbe"
      },
      "source": [
        "def opinion_mining(rant, id, client):\n",
        "\n",
        "    documents = [rant]\n",
        "\n",
        "    if len(rant) ==0:\n",
        "        return  {\n",
        "                        \"rant_id\": id,\n",
        "                        \"target_text\": np.nan,\n",
        "                        \"target_sentiment\": np.nan,\n",
        "                        \"assesment_text\": np.nan,\n",
        "                        \"assesment_sentiment\": np.nan,\n",
        "\n",
        "                        \"target_positive_score\": np.nan,\n",
        "                        \"target_negative_score\": np.nan,\n",
        "                        \"assesment_positive_score\":  np.nan,\n",
        "                        \"assesment_negative_score\": np.nan\n",
        "                    }\n",
        "\n",
        "    result = client.analyze_sentiment(documents, show_opinion_mining=True)\n",
        "    doc_result = [doc for doc in result if not doc.is_error]\n",
        "\n",
        "    positive_reviews = [doc for doc in doc_result if doc.sentiment == \"positive\"]\n",
        "    negative_reviews = [doc for doc in doc_result if doc.sentiment == \"negative\"]\n",
        "\n",
        "    positive_mined_opinions = []\n",
        "    mixed_mined_opinions = []\n",
        "    negative_mined_opinions = []\n",
        "\n",
        "    for document in doc_result:\n",
        "        \n",
        "        for sentence in document.sentences:\n",
        "          \n",
        "            for mined_opinion in sentence.mined_opinions:\n",
        "                target = mined_opinion.target\n",
        "\n",
        "                for assessment in mined_opinion.assessments:\n",
        "                    opnion= {\n",
        "                        \"rant_id\": id,\n",
        "                        \"target_text\": target.text,\n",
        "                        \"target_sentiment\":target.sentiment,\n",
        "                        \"assesment_text\":assessment.text,\n",
        "                        \"assesment_sentiment\": assessment.sentiment,\n",
        "\n",
        "                        \"target_positive_score\": target.confidence_scores.positive,\n",
        "                        \"target_negative_score\":target.confidence_scores.negative,\n",
        "                        \"assesment_positive_score\": assessment.confidence_scores.positive,\n",
        "                        \"assesment_negative_score\": assessment.confidence_scores.negative\n",
        "                    }\n",
        "\n",
        "                    return opnion\n",
        "\n",
        "\n",
        "opnions=[]\n",
        "\n",
        "count=0\n",
        "length= str(len(image_list))\n",
        "info = display(\"Compleated: \"+str(count) + \"/\"+ length, display_id=True)   \n",
        "          \n",
        "for (rant, id) in data.loc[: , [\"rant\", \"id\"]].values:\n",
        "    \n",
        "    opnions.append(opinion_mining(rant, id, client))\n",
        "    count+=1\n",
        "    info.update(str(count) + \"/\"+ length)   \n",
        "\n",
        "    \n",
        "opnions = list(filter(None, opnions))\n"
      ],
      "execution_count": null,
      "outputs": [
        {
          "output_type": "display_data",
          "data": {
            "application/vnd.google.colaboratory.intrinsic+json": {
              "type": "string"
            },
            "text/plain": [
              "'1365/1365'"
            ]
          },
          "metadata": {
            "tags": []
          }
        }
      ]
    },
    {
      "cell_type": "code",
      "metadata": {
        "id": "Oh1SCIjrdhAd"
      },
      "source": [
        "\n"
      ],
      "execution_count": null,
      "outputs": []
    },
    {
      "cell_type": "code",
      "metadata": {
        "id": "bgpcdCx9fRNh"
      },
      "source": [
        "opnions = pd.DataFrame(opnions)\n",
        "opnions= opnions.merge(data.loc[:, [\"id\", \"Date\"]], left_on=\"rant_id\", right_on= \"id\").drop(\"id\", axis=1)\n",
        "opnions.to_csv(\"/content/drive/MyDrive/au.rants.23/opnion.csv\")"
      ],
      "execution_count": null,
      "outputs": []
    },
    {
      "cell_type": "code",
      "metadata": {
        "colab": {
          "base_uri": "https://localhost:8080/",
          "height": 313
        },
        "id": "MWHfM0rjrN6-",
        "outputId": "eb5ed863-1c93-4682-a4b9-1a862ec65672"
      },
      "source": [
        "opnions.head()"
      ],
      "execution_count": null,
      "outputs": [
        {
          "output_type": "execute_result",
          "data": {
            "text/html": [
              "<div>\n",
              "<style scoped>\n",
              "    .dataframe tbody tr th:only-of-type {\n",
              "        vertical-align: middle;\n",
              "    }\n",
              "\n",
              "    .dataframe tbody tr th {\n",
              "        vertical-align: top;\n",
              "    }\n",
              "\n",
              "    .dataframe thead th {\n",
              "        text-align: right;\n",
              "    }\n",
              "</style>\n",
              "<table border=\"1\" class=\"dataframe\">\n",
              "  <thead>\n",
              "    <tr style=\"text-align: right;\">\n",
              "      <th></th>\n",
              "      <th>rant_id</th>\n",
              "      <th>target_text</th>\n",
              "      <th>target_sentiment</th>\n",
              "      <th>assesment_text</th>\n",
              "      <th>assesment_sentiment</th>\n",
              "      <th>target_positive_score</th>\n",
              "      <th>target_negative_score</th>\n",
              "      <th>assesment_positive_score</th>\n",
              "      <th>assesment_negative_score</th>\n",
              "      <th>Date_x</th>\n",
              "      <th>Date_y</th>\n",
              "    </tr>\n",
              "  </thead>\n",
              "  <tbody>\n",
              "    <tr>\n",
              "      <th>0</th>\n",
              "      <td>1337</td>\n",
              "      <td>suspense</td>\n",
              "      <td>negative</td>\n",
              "      <td>killing</td>\n",
              "      <td>negative</td>\n",
              "      <td>0.02</td>\n",
              "      <td>0.98</td>\n",
              "      <td>0.02</td>\n",
              "      <td>0.98</td>\n",
              "      <td>2021-06-25</td>\n",
              "      <td>2021-06-25</td>\n",
              "    </tr>\n",
              "    <tr>\n",
              "      <th>1</th>\n",
              "      <td>709</td>\n",
              "      <td>vibe</td>\n",
              "      <td>positive</td>\n",
              "      <td>positive</td>\n",
              "      <td>positive</td>\n",
              "      <td>1.00</td>\n",
              "      <td>0.00</td>\n",
              "      <td>1.00</td>\n",
              "      <td>0.00</td>\n",
              "      <td>2021-06-25</td>\n",
              "      <td>2021-06-25</td>\n",
              "    </tr>\n",
              "    <tr>\n",
              "      <th>2</th>\n",
              "      <td>959</td>\n",
              "      <td>humans</td>\n",
              "      <td>positive</td>\n",
              "      <td>worthwhile</td>\n",
              "      <td>positive</td>\n",
              "      <td>1.00</td>\n",
              "      <td>0.00</td>\n",
              "      <td>1.00</td>\n",
              "      <td>0.00</td>\n",
              "      <td>2021-06-26</td>\n",
              "      <td>2021-06-26</td>\n",
              "    </tr>\n",
              "    <tr>\n",
              "      <th>3</th>\n",
              "      <td>854</td>\n",
              "      <td>guy</td>\n",
              "      <td>positive</td>\n",
              "      <td>like</td>\n",
              "      <td>positive</td>\n",
              "      <td>1.00</td>\n",
              "      <td>0.00</td>\n",
              "      <td>1.00</td>\n",
              "      <td>0.00</td>\n",
              "      <td>2021-06-26</td>\n",
              "      <td>2021-06-26</td>\n",
              "    </tr>\n",
              "    <tr>\n",
              "      <th>4</th>\n",
              "      <td>208</td>\n",
              "      <td>copy</td>\n",
              "      <td>negative</td>\n",
              "      <td>cheap</td>\n",
              "      <td>negative</td>\n",
              "      <td>0.21</td>\n",
              "      <td>0.79</td>\n",
              "      <td>0.21</td>\n",
              "      <td>0.79</td>\n",
              "      <td>2021-06-27</td>\n",
              "      <td>2021-06-27</td>\n",
              "    </tr>\n",
              "  </tbody>\n",
              "</table>\n",
              "</div>"
            ],
            "text/plain": [
              "   rant_id target_text  ...     Date_x     Date_y\n",
              "0     1337    suspense  ... 2021-06-25 2021-06-25\n",
              "1      709        vibe  ... 2021-06-25 2021-06-25\n",
              "2      959      humans  ... 2021-06-26 2021-06-26\n",
              "3      854         guy  ... 2021-06-26 2021-06-26\n",
              "4      208        copy  ... 2021-06-27 2021-06-27\n",
              "\n",
              "[5 rows x 11 columns]"
            ]
          },
          "metadata": {
            "tags": []
          },
          "execution_count": 225
        }
      ]
    },
    {
      "cell_type": "code",
      "metadata": {
        "id": "xRQUowZbqFsE"
      },
      "source": [
        "temp=opnions.groupby('target_text')[\"target_positive_score\", \"target_negative_score\", \"assesment_positive_score\", \"assesment_negative_score\"].agg(np.mean)\n",
        "\n",
        "temp.target_negative_score.sort_values(ascending=False)[50:100]"
      ],
      "execution_count": null,
      "outputs": []
    },
    {
      "cell_type": "code",
      "metadata": {
        "colab": {
          "base_uri": "https://localhost:8080/",
          "height": 35
        },
        "id": "jktyg1q5587L",
        "outputId": "e7a26201-3041-4c5b-ef8d-bae013d693bd"
      },
      "source": [
        "\n",
        "\n",
        "entities=[]\n",
        "\n",
        "count=0\n",
        "length= str(len(image_list))\n",
        "info = display(\"Compleated: \"+str(count) + \"/\"+ length, display_id=True)   \n",
        "          \n",
        "\n",
        "for (rant, id, date) in data.loc[: , [\"rant\", \"id\", \"Date\"]].values:\n",
        "    if len(rant) ==0:\n",
        "        continue\n",
        "\n",
        "    documents = [rant]\n",
        "\n",
        "    response = client.recognize_pii_entities(documents, language=\"en\")\n",
        "    result = [doc for doc in response if not doc.is_error]\n",
        "    for doc in result:\n",
        "        for entity in doc.entities:\n",
        "            ent= {\n",
        "                \"rant_id\": id,\n",
        "                \"entity\": entity.text,\n",
        "                \"category\": entity.category,\n",
        "                \"subcategory\": np.nan,\n",
        "                \"confidence_score\":entity.confidence_score,\n",
        "                \"Date\":date\n",
        "            }\n",
        "            entities.append(ent)\n",
        "\n",
        "    try:\n",
        "        result = client.recognize_entities(documents = documents)[0]\n",
        "\n",
        "        for entity in result.entities:\n",
        "\n",
        "            ent= {\n",
        "                \"rant_id\": id,\n",
        "                \"entity\": entity.text,\n",
        "                \"category\": entity.category,\n",
        "                \"subcategory\": entity.subcategory,\n",
        "                \"confidence_score\":entity.confidence_score,\n",
        "                \"Date\":date\n",
        "            }\n",
        "\n",
        "            entities.append(ent)\n",
        "    except Exception as err:\n",
        "        print(\"Encountered exception. {}\".format(err))\n",
        "\n",
        "    count+=1\n",
        "    info.update(\"Compleated: \"+str(count) + \"/\"+ length) \n",
        "\n"
      ],
      "execution_count": null,
      "outputs": [
        {
          "output_type": "display_data",
          "data": {
            "application/vnd.google.colaboratory.intrinsic+json": {
              "type": "string"
            },
            "text/plain": [
              "'Compleated: 1358/1365'"
            ]
          },
          "metadata": {
            "tags": []
          }
        }
      ]
    },
    {
      "cell_type": "code",
      "metadata": {
        "id": "nL1RnqnrCIDB"
      },
      "source": [
        "entities_df= pd.DataFrame(entities)\n",
        "entities_df.to_csv(\"/content/drive/MyDrive/au.rants.23/entities.csv\")"
      ],
      "execution_count": null,
      "outputs": []
    },
    {
      "cell_type": "code",
      "metadata": {
        "colab": {
          "base_uri": "https://localhost:8080/",
          "height": 439
        },
        "id": "rHj7Q6IM0cmF",
        "outputId": "2a10a2ec-f792-443a-ad14-c51b97d92b66"
      },
      "source": [
        "entities_df[entities_df.category==\"PersonType\"]"
      ],
      "execution_count": null,
      "outputs": [
        {
          "output_type": "execute_result",
          "data": {
            "text/html": [
              "<div>\n",
              "<style scoped>\n",
              "    .dataframe tbody tr th:only-of-type {\n",
              "        vertical-align: middle;\n",
              "    }\n",
              "\n",
              "    .dataframe tbody tr th {\n",
              "        vertical-align: top;\n",
              "    }\n",
              "\n",
              "    .dataframe thead th {\n",
              "        text-align: right;\n",
              "    }\n",
              "</style>\n",
              "<table border=\"1\" class=\"dataframe\">\n",
              "  <thead>\n",
              "    <tr style=\"text-align: right;\">\n",
              "      <th></th>\n",
              "      <th>rant_id</th>\n",
              "      <th>entity</th>\n",
              "      <th>category</th>\n",
              "      <th>subcategory</th>\n",
              "      <th>confidence_score</th>\n",
              "      <th>Date</th>\n",
              "    </tr>\n",
              "  </thead>\n",
              "  <tbody>\n",
              "    <tr>\n",
              "      <th>0</th>\n",
              "      <td>1098</td>\n",
              "      <td>ex</td>\n",
              "      <td>PersonType</td>\n",
              "      <td>NaN</td>\n",
              "      <td>0.95</td>\n",
              "      <td>2021-06-25</td>\n",
              "    </tr>\n",
              "    <tr>\n",
              "      <th>2</th>\n",
              "      <td>1098</td>\n",
              "      <td>friend</td>\n",
              "      <td>PersonType</td>\n",
              "      <td>NaN</td>\n",
              "      <td>0.97</td>\n",
              "      <td>2021-06-25</td>\n",
              "    </tr>\n",
              "    <tr>\n",
              "      <th>3</th>\n",
              "      <td>1098</td>\n",
              "      <td>ex</td>\n",
              "      <td>PersonType</td>\n",
              "      <td>None</td>\n",
              "      <td>0.94</td>\n",
              "      <td>2021-06-25</td>\n",
              "    </tr>\n",
              "    <tr>\n",
              "      <th>5</th>\n",
              "      <td>1098</td>\n",
              "      <td>friend</td>\n",
              "      <td>PersonType</td>\n",
              "      <td>None</td>\n",
              "      <td>0.99</td>\n",
              "      <td>2021-06-25</td>\n",
              "    </tr>\n",
              "    <tr>\n",
              "      <th>7</th>\n",
              "      <td>3</td>\n",
              "      <td>admin</td>\n",
              "      <td>PersonType</td>\n",
              "      <td>None</td>\n",
              "      <td>0.94</td>\n",
              "      <td>2021-06-25</td>\n",
              "    </tr>\n",
              "    <tr>\n",
              "      <th>...</th>\n",
              "      <td>...</td>\n",
              "      <td>...</td>\n",
              "      <td>...</td>\n",
              "      <td>...</td>\n",
              "      <td>...</td>\n",
              "      <td>...</td>\n",
              "    </tr>\n",
              "    <tr>\n",
              "      <th>3703</th>\n",
              "      <td>804</td>\n",
              "      <td>Professor</td>\n",
              "      <td>PersonType</td>\n",
              "      <td>None</td>\n",
              "      <td>0.98</td>\n",
              "      <td>2021-05-22</td>\n",
              "    </tr>\n",
              "    <tr>\n",
              "      <th>3705</th>\n",
              "      <td>394</td>\n",
              "      <td>mumbai</td>\n",
              "      <td>PersonType</td>\n",
              "      <td>NaN</td>\n",
              "      <td>0.74</td>\n",
              "      <td>2021-05-23</td>\n",
              "    </tr>\n",
              "    <tr>\n",
              "      <th>3706</th>\n",
              "      <td>394</td>\n",
              "      <td>delhi</td>\n",
              "      <td>PersonType</td>\n",
              "      <td>NaN</td>\n",
              "      <td>0.77</td>\n",
              "      <td>2021-05-23</td>\n",
              "    </tr>\n",
              "    <tr>\n",
              "      <th>3707</th>\n",
              "      <td>394</td>\n",
              "      <td>mumbai</td>\n",
              "      <td>PersonType</td>\n",
              "      <td>None</td>\n",
              "      <td>0.85</td>\n",
              "      <td>2021-05-23</td>\n",
              "    </tr>\n",
              "    <tr>\n",
              "      <th>3708</th>\n",
              "      <td>394</td>\n",
              "      <td>delhi</td>\n",
              "      <td>PersonType</td>\n",
              "      <td>None</td>\n",
              "      <td>0.61</td>\n",
              "      <td>2021-05-23</td>\n",
              "    </tr>\n",
              "  </tbody>\n",
              "</table>\n",
              "<p>1015 rows × 6 columns</p>\n",
              "</div>"
            ],
            "text/plain": [
              "      rant_id     entity    category subcategory  confidence_score       Date\n",
              "0        1098         ex  PersonType         NaN              0.95 2021-06-25\n",
              "2        1098     friend  PersonType         NaN              0.97 2021-06-25\n",
              "3        1098         ex  PersonType        None              0.94 2021-06-25\n",
              "5        1098     friend  PersonType        None              0.99 2021-06-25\n",
              "7           3      admin  PersonType        None              0.94 2021-06-25\n",
              "...       ...        ...         ...         ...               ...        ...\n",
              "3703      804  Professor  PersonType        None              0.98 2021-05-22\n",
              "3705      394     mumbai  PersonType         NaN              0.74 2021-05-23\n",
              "3706      394      delhi  PersonType         NaN              0.77 2021-05-23\n",
              "3707      394     mumbai  PersonType        None              0.85 2021-05-23\n",
              "3708      394      delhi  PersonType        None              0.61 2021-05-23\n",
              "\n",
              "[1015 rows x 6 columns]"
            ]
          },
          "metadata": {
            "tags": []
          },
          "execution_count": 261
        }
      ]
    }
  ]
}