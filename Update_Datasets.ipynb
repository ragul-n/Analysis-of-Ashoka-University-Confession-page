{
  "nbformat": 4,
  "nbformat_minor": 0,
  "metadata": {
    "colab": {
      "name": "Update Datasets.ipynb",
      "provenance": [],
      "collapsed_sections": [],
      "mount_file_id": "1CP4Y2Z6CtSQ2sLm9wUz_ljbnfmyzOIkd",
      "authorship_tag": "ABX9TyMKu0q1Go8NUvNK1zapUDVm",
      "include_colab_link": true
    },
    "kernelspec": {
      "display_name": "Python 3",
      "name": "python3"
    },
    "language_info": {
      "name": "python"
    }
  },
  "cells": [
    {
      "cell_type": "markdown",
      "metadata": {
        "id": "view-in-github",
        "colab_type": "text"
      },
      "source": [
        "<a href=\"https://colab.research.google.com/github/ragul-n/Analysis-of-Ashoka-University-Confession-page/blob/master/Update_Datasets.ipynb\" target=\"_parent\"><img src=\"https://colab.research.google.com/assets/colab-badge.svg\" alt=\"Open In Colab\"/></a>"
      ]
    },
    {
      "cell_type": "code",
      "metadata": {
        "id": "AO3jxsHaumVm"
      },
      "source": [
        "\n",
        "SINCE = datetime(2021, 8, 5)\n",
        "UNTIL = datetime(2021, 8, 6 )\n"
      ],
      "execution_count": null,
      "outputs": []
    },
    {
      "cell_type": "code",
      "metadata": {
        "id": "xP6SU_rFusHU"
      },
      "source": [
        "!pip install instaloader\n",
        "!pip install --upgrade azure-cognitiveservices-vision-computervision\n",
        "!pip install pillow\n",
        "!pip install azure-ai-textanalytics==5.1.0"
      ],
      "execution_count": null,
      "outputs": []
    },
    {
      "cell_type": "code",
      "metadata": {
        "colab": {
          "base_uri": "https://localhost:8080/"
        },
        "id": "1YJ-KR97uyYf",
        "outputId": "02eeafd0-e2c3-4ed9-c630-3f0f926b6526"
      },
      "source": [
        "import pandas as pd\n",
        "import matplotlib.pyplot as plt\n",
        "import numpy as np\n",
        "import seaborn as sns\n",
        "\n",
        "import shutil\n",
        "import os\n",
        "import random\n",
        "try:\n",
        " from PIL import Image\n",
        "except ImportError:\n",
        " import Image\n",
        "import nltk\n",
        "import random\n",
        "import re\n",
        "import IPython.display\n",
        "from datetime import datetime\n",
        "\n",
        "\n",
        "from azure.cognitiveservices.vision.computervision import ComputerVisionClient\n",
        "from azure.cognitiveservices.vision.computervision.models import OperationStatusCodes\n",
        "from azure.cognitiveservices.vision.computervision.models import VisualFeatureTypes\n",
        "from msrest.authentication import CognitiveServicesCredentials\n",
        "\n",
        "from array import array\n",
        "import os\n",
        "from PIL import Image\n",
        "import sys\n",
        "import time\n",
        "\n",
        "\n",
        "nltk.download(\"vader_lexicon\")\n",
        "\n",
        "from nltk.sentiment.vader import SentimentIntensityAnalyzer"
      ],
      "execution_count": 2,
      "outputs": [
        {
          "output_type": "stream",
          "text": [
            "[nltk_data] Downloading package vader_lexicon to /root/nltk_data...\n"
          ],
          "name": "stdout"
        },
        {
          "output_type": "stream",
          "text": [
            "/usr/local/lib/python3.7/dist-packages/nltk/twitter/__init__.py:20: UserWarning: The twython library has not been installed. Some functionality from the twitter package will not be available.\n",
            "  warnings.warn(\"The twython library has not been installed. \"\n"
          ],
          "name": "stderr"
        }
      ]
    },
    {
      "cell_type": "markdown",
      "metadata": {
        "id": "tSrquUz2vYLh"
      },
      "source": [
        "## Downloding Posts"
      ]
    },
    {
      "cell_type": "code",
      "metadata": {
        "id": "lMfvFatRvD2c",
        "colab": {
          "base_uri": "https://localhost:8080/"
        },
        "outputId": "9c0fa9e1-1af4-44a5-f7b2-c0e4051f7b7f"
      },
      "source": [
        "import instaloader\n",
        "\n",
        "from datetime import datetime\n",
        "from itertools import dropwhile, takewhile\n",
        "\n",
        "\n",
        "L = instaloader.Instaloader()\n",
        "\n",
        "L.interactive_login(\"ragulnatarajan\") \n",
        "\n",
        "profile = instaloader.Profile.from_username(L.context, \"au.rants.23\")\n",
        "\n",
        "posts= profile.get_posts()\n",
        "posts = list(posts)\n"
      ],
      "execution_count": 3,
      "outputs": [
        {
          "output_type": "stream",
          "text": [
            "Enter Instagram password for ragulnatarajan: ··········\n"
          ],
          "name": "stdout"
        }
      ]
    },
    {
      "cell_type": "code",
      "metadata": {
        "colab": {
          "base_uri": "https://localhost:8080/",
          "height": 1000
        },
        "id": "a1ZbnrFyvTrw",
        "outputId": "0230accf-b9d0-47df-bfcd-83426d00b1c1"
      },
      "source": [
        "\n",
        "\n",
        "\n",
        "new_posts= list(takewhile(lambda p: p.date > SINCE, dropwhile(lambda p: p.date > UNTIL, posts)))\n",
        "\n",
        "count=0\n",
        "length=len(new_posts)\n",
        "info = display(str(count) + \"/\"+ str(length), display_id=True)\n",
        "\n",
        "for post in new_posts:\n",
        "\n",
        "    info = display(str(count) + \"/\"+ str(length), display_id=True)\n",
        "\n",
        "    print(post.date)\n",
        "    L.download_post(post, \"instagram\")\n",
        "    count+=1\n",
        "\n"
      ],
      "execution_count": 4,
      "outputs": [
        {
          "output_type": "display_data",
          "data": {
            "application/vnd.google.colaboratory.intrinsic+json": {
              "type": "string"
            },
            "text/plain": [
              "'0/180'"
            ]
          },
          "metadata": {
            "tags": []
          }
        },
        {
          "output_type": "display_data",
          "data": {
            "application/vnd.google.colaboratory.intrinsic+json": {
              "type": "string"
            },
            "text/plain": [
              "'0/180'"
            ]
          },
          "metadata": {
            "tags": []
          }
        },
        {
          "output_type": "stream",
          "text": [
            "2021-07-30 16:00:02\n",
            "instagram/2021-07-30_16-00-02_UTC_1.jpg instagram/2021-07-30_16-00-02_UTC_2.jpg [points were made. 🤔] json \n"
          ],
          "name": "stdout"
        },
        {
          "output_type": "display_data",
          "data": {
            "application/vnd.google.colaboratory.intrinsic+json": {
              "type": "string"
            },
            "text/plain": [
              "'1/180'"
            ]
          },
          "metadata": {
            "tags": []
          }
        },
        {
          "output_type": "stream",
          "text": [
            "2021-07-30 15:41:42\n",
            "instagram/2021-07-30_15-41-42_UTC_1.jpg instagram/2021-07-30_15-41-42_UTC_2.jpg [anon, permission to frame thi…] json \n"
          ],
          "name": "stdout"
        },
        {
          "output_type": "display_data",
          "data": {
            "application/vnd.google.colaboratory.intrinsic+json": {
              "type": "string"
            },
            "text/plain": [
              "'2/180'"
            ]
          },
          "metadata": {
            "tags": []
          }
        },
        {
          "output_type": "stream",
          "text": [
            "2021-07-30 15:36:09\n",
            "instagram/2021-07-30_15-36-09_UTC.jpg [some people have remained san…] json \n"
          ],
          "name": "stdout"
        },
        {
          "output_type": "display_data",
          "data": {
            "application/vnd.google.colaboratory.intrinsic+json": {
              "type": "string"
            },
            "text/plain": [
              "'3/180'"
            ]
          },
          "metadata": {
            "tags": []
          }
        },
        {
          "output_type": "stream",
          "text": [
            "2021-07-30 15:30:05\n",
            "instagram/2021-07-30_15-30-05_UTC.jpg [💔💔💔] json \n"
          ],
          "name": "stdout"
        },
        {
          "output_type": "display_data",
          "data": {
            "application/vnd.google.colaboratory.intrinsic+json": {
              "type": "string"
            },
            "text/plain": [
              "'4/180'"
            ]
          },
          "metadata": {
            "tags": []
          }
        },
        {
          "output_type": "stream",
          "text": [
            "2021-07-30 15:29:06\n",
            "instagram/2021-07-30_15-29-06_UTC.jpg [💔💔💔  (this probably requires …] json \n"
          ],
          "name": "stdout"
        },
        {
          "output_type": "display_data",
          "data": {
            "application/vnd.google.colaboratory.intrinsic+json": {
              "type": "string"
            },
            "text/plain": [
              "'5/180'"
            ]
          },
          "metadata": {
            "tags": []
          }
        },
        {
          "output_type": "stream",
          "text": [
            "2021-07-30 15:24:16\n",
            "instagram/2021-07-30_15-24-16_UTC.jpg [anon be dropping truth bombs. 💣] json \n"
          ],
          "name": "stdout"
        },
        {
          "output_type": "display_data",
          "data": {
            "application/vnd.google.colaboratory.intrinsic+json": {
              "type": "string"
            },
            "text/plain": [
              "'6/180'"
            ]
          },
          "metadata": {
            "tags": []
          }
        },
        {
          "output_type": "stream",
          "text": [
            "2021-07-30 15:20:35\n",
            "instagram/2021-07-30_15-20-35_UTC.jpg [this is standard procedure fo…] json \n"
          ],
          "name": "stdout"
        },
        {
          "output_type": "display_data",
          "data": {
            "application/vnd.google.colaboratory.intrinsic+json": {
              "type": "string"
            },
            "text/plain": [
              "'7/180'"
            ]
          },
          "metadata": {
            "tags": []
          }
        },
        {
          "output_type": "stream",
          "text": [
            "2021-07-30 15:18:10\n",
            "instagram/2021-07-30_15-18-10_UTC.jpg [this nourished every fibre of…] json \n"
          ],
          "name": "stdout"
        },
        {
          "output_type": "display_data",
          "data": {
            "application/vnd.google.colaboratory.intrinsic+json": {
              "type": "string"
            },
            "text/plain": [
              "'8/180'"
            ]
          },
          "metadata": {
            "tags": []
          }
        },
        {
          "output_type": "stream",
          "text": [
            "2021-07-30 15:16:39\n",
            "instagram/2021-07-30_15-16-39_UTC.jpg [we just might be, anon! we ju…] json \n"
          ],
          "name": "stdout"
        },
        {
          "output_type": "display_data",
          "data": {
            "application/vnd.google.colaboratory.intrinsic+json": {
              "type": "string"
            },
            "text/plain": [
              "'9/180'"
            ]
          },
          "metadata": {
            "tags": []
          }
        },
        {
          "output_type": "stream",
          "text": [
            "2021-07-30 07:21:42\n",
            "instagram/2021-07-30_07-21-42_UTC.jpg [your order has been shipped. …] json \n"
          ],
          "name": "stdout"
        },
        {
          "output_type": "display_data",
          "data": {
            "application/vnd.google.colaboratory.intrinsic+json": {
              "type": "string"
            },
            "text/plain": [
              "'10/180'"
            ]
          },
          "metadata": {
            "tags": []
          }
        },
        {
          "output_type": "stream",
          "text": [
            "2021-07-30 07:19:42\n",
            "instagram/2021-07-30_07-19-42_UTC.jpg [completely agreed, anon. plea…] json \n"
          ],
          "name": "stdout"
        },
        {
          "output_type": "display_data",
          "data": {
            "application/vnd.google.colaboratory.intrinsic+json": {
              "type": "string"
            },
            "text/plain": [
              "'11/180'"
            ]
          },
          "metadata": {
            "tags": []
          }
        },
        {
          "output_type": "stream",
          "text": [
            "2021-07-30 07:17:20\n",
            "instagram/2021-07-30_07-17-20_UTC.jpg [The One With Anon in a Box. (…] json \n"
          ],
          "name": "stdout"
        },
        {
          "output_type": "display_data",
          "data": {
            "application/vnd.google.colaboratory.intrinsic+json": {
              "type": "string"
            },
            "text/plain": [
              "'12/180'"
            ]
          },
          "metadata": {
            "tags": []
          }
        },
        {
          "output_type": "stream",
          "text": [
            "2021-07-30 07:15:49\n",
            "instagram/2021-07-30_07-15-49_UTC.jpg [legend behaviour. respect. 🙌] json \n"
          ],
          "name": "stdout"
        },
        {
          "output_type": "display_data",
          "data": {
            "application/vnd.google.colaboratory.intrinsic+json": {
              "type": "string"
            },
            "text/plain": [
              "'13/180'"
            ]
          },
          "metadata": {
            "tags": []
          }
        },
        {
          "output_type": "stream",
          "text": [
            "2021-07-30 07:11:38\n",
            "instagram/2021-07-30_07-11-38_UTC.jpg [is this the real life, is thi…] json \n"
          ],
          "name": "stdout"
        },
        {
          "output_type": "display_data",
          "data": {
            "application/vnd.google.colaboratory.intrinsic+json": {
              "type": "string"
            },
            "text/plain": [
              "'14/180'"
            ]
          },
          "metadata": {
            "tags": []
          }
        },
        {
          "output_type": "stream",
          "text": [
            "2021-07-30 07:10:14\n",
            "instagram/2021-07-30_07-10-14_UTC.jpg [breaks are for the WEAK. 🥶🥵😷] json \n"
          ],
          "name": "stdout"
        },
        {
          "output_type": "display_data",
          "data": {
            "application/vnd.google.colaboratory.intrinsic+json": {
              "type": "string"
            },
            "text/plain": [
              "'15/180'"
            ]
          },
          "metadata": {
            "tags": []
          }
        },
        {
          "output_type": "stream",
          "text": [
            "2021-07-30 07:09:29\n",
            "instagram/2021-07-30_07-09-29_UTC.jpg [reciprocation is a requiremen…] json \n"
          ],
          "name": "stdout"
        },
        {
          "output_type": "display_data",
          "data": {
            "application/vnd.google.colaboratory.intrinsic+json": {
              "type": "string"
            },
            "text/plain": [
              "'16/180'"
            ]
          },
          "metadata": {
            "tags": []
          }
        },
        {
          "output_type": "stream",
          "text": [
            "2021-07-30 07:08:12\n",
            "instagram/2021-07-30_07-08-12_UTC.jpg [nobody is transferring anywhe…] json \n"
          ],
          "name": "stdout"
        },
        {
          "output_type": "display_data",
          "data": {
            "application/vnd.google.colaboratory.intrinsic+json": {
              "type": "string"
            },
            "text/plain": [
              "'17/180'"
            ]
          },
          "metadata": {
            "tags": []
          }
        },
        {
          "output_type": "stream",
          "text": [
            "2021-07-30 07:07:32\n",
            "instagram/2021-07-30_07-07-32_UTC.jpg [i hope the comments engender …] json \n"
          ],
          "name": "stdout"
        },
        {
          "output_type": "display_data",
          "data": {
            "application/vnd.google.colaboratory.intrinsic+json": {
              "type": "string"
            },
            "text/plain": [
              "'18/180'"
            ]
          },
          "metadata": {
            "tags": []
          }
        },
        {
          "output_type": "stream",
          "text": [
            "2021-07-29 17:34:04\n",
            "instagram/2021-07-29_17-34-04_UTC.jpg [y'all are daredevils, imma si…] json \n"
          ],
          "name": "stdout"
        },
        {
          "output_type": "display_data",
          "data": {
            "application/vnd.google.colaboratory.intrinsic+json": {
              "type": "string"
            },
            "text/plain": [
              "'19/180'"
            ]
          },
          "metadata": {
            "tags": []
          }
        },
        {
          "output_type": "stream",
          "text": [
            "2021-07-29 17:30:36\n",
            "instagram/2021-07-29_17-30-36_UTC.jpg [y'all are thinking beyond ash…] json \n"
          ],
          "name": "stdout"
        },
        {
          "output_type": "display_data",
          "data": {
            "application/vnd.google.colaboratory.intrinsic+json": {
              "type": "string"
            },
            "text/plain": [
              "'20/180'"
            ]
          },
          "metadata": {
            "tags": []
          }
        },
        {
          "output_type": "stream",
          "text": [
            "2021-07-29 17:28:23\n",
            "instagram/2021-07-29_17-28-23_UTC.jpg [🤡 campus life 🤡] json \n"
          ],
          "name": "stdout"
        },
        {
          "output_type": "display_data",
          "data": {
            "application/vnd.google.colaboratory.intrinsic+json": {
              "type": "string"
            },
            "text/plain": [
              "'21/180'"
            ]
          },
          "metadata": {
            "tags": []
          }
        },
        {
          "output_type": "stream",
          "text": [
            "2021-07-29 17:23:42\n",
            "instagram/2021-07-29_17-23-42_UTC.jpg [am i the only one who used an…] json \n"
          ],
          "name": "stdout"
        },
        {
          "output_type": "display_data",
          "data": {
            "application/vnd.google.colaboratory.intrinsic+json": {
              "type": "string"
            },
            "text/plain": [
              "'22/180'"
            ]
          },
          "metadata": {
            "tags": []
          }
        },
        {
          "output_type": "stream",
          "text": [
            "2021-07-29 17:22:16\n",
            "instagram/2021-07-29_17-22-16_UTC.jpg [i don't need friends, they di…] json \n"
          ],
          "name": "stdout"
        },
        {
          "output_type": "display_data",
          "data": {
            "application/vnd.google.colaboratory.intrinsic+json": {
              "type": "string"
            },
            "text/plain": [
              "'23/180'"
            ]
          },
          "metadata": {
            "tags": []
          }
        },
        {
          "output_type": "stream",
          "text": [
            "2021-07-29 17:19:07\n",
            "instagram/2021-07-29_17-19-07_UTC.jpg [@au.dates.23 at your service!] json \n"
          ],
          "name": "stdout"
        },
        {
          "output_type": "display_data",
          "data": {
            "application/vnd.google.colaboratory.intrinsic+json": {
              "type": "string"
            },
            "text/plain": [
              "'24/180'"
            ]
          },
          "metadata": {
            "tags": []
          }
        },
        {
          "output_type": "stream",
          "text": [
            "2021-07-29 17:18:09\n",
            "instagram/2021-07-29_17-18-09_UTC.jpg [😔😔😔] json \n"
          ],
          "name": "stdout"
        },
        {
          "output_type": "display_data",
          "data": {
            "application/vnd.google.colaboratory.intrinsic+json": {
              "type": "string"
            },
            "text/plain": [
              "'25/180'"
            ]
          },
          "metadata": {
            "tags": []
          }
        },
        {
          "output_type": "stream",
          "text": [
            "2021-07-29 17:16:54\n",
            "instagram/2021-07-29_17-16-54_UTC.jpg [it's a free country! go forth…] json \n"
          ],
          "name": "stdout"
        },
        {
          "output_type": "display_data",
          "data": {
            "application/vnd.google.colaboratory.intrinsic+json": {
              "type": "string"
            },
            "text/plain": [
              "'26/180'"
            ]
          },
          "metadata": {
            "tags": []
          }
        },
        {
          "output_type": "stream",
          "text": [
            "2021-07-29 17:15:36\n",
            "instagram/2021-07-29_17-15-36_UTC.jpg [oof. that's definitely a situ…] json \n"
          ],
          "name": "stdout"
        },
        {
          "output_type": "display_data",
          "data": {
            "application/vnd.google.colaboratory.intrinsic+json": {
              "type": "string"
            },
            "text/plain": [
              "'27/180'"
            ]
          },
          "metadata": {
            "tags": []
          }
        },
        {
          "output_type": "stream",
          "text": [
            "2021-07-29 07:50:56\n",
            "instagram/2021-07-29_07-50-56_UTC.jpg [someone else pls volunteer, b…] json \n"
          ],
          "name": "stdout"
        },
        {
          "output_type": "display_data",
          "data": {
            "application/vnd.google.colaboratory.intrinsic+json": {
              "type": "string"
            },
            "text/plain": [
              "'28/180'"
            ]
          },
          "metadata": {
            "tags": []
          }
        },
        {
          "output_type": "stream",
          "text": [
            "2021-07-29 07:49:56\n",
            "instagram/2021-07-29_07-49-56_UTC.jpg [did i miss something? what's …] json \n"
          ],
          "name": "stdout"
        },
        {
          "output_type": "display_data",
          "data": {
            "application/vnd.google.colaboratory.intrinsic+json": {
              "type": "string"
            },
            "text/plain": [
              "'29/180'"
            ]
          },
          "metadata": {
            "tags": []
          }
        },
        {
          "output_type": "stream",
          "text": [
            "2021-07-29 07:46:42\n",
            "instagram/2021-07-29_07-46-42_UTC.jpg [regardless of political stanc…] json \n"
          ],
          "name": "stdout"
        },
        {
          "output_type": "display_data",
          "data": {
            "application/vnd.google.colaboratory.intrinsic+json": {
              "type": "string"
            },
            "text/plain": [
              "'30/180'"
            ]
          },
          "metadata": {
            "tags": []
          }
        },
        {
          "output_type": "stream",
          "text": [
            "2021-07-29 07:44:40\n",
            "instagram/2021-07-29_07-44-40_UTC.jpg [i really hope you're doing ok…] json \n"
          ],
          "name": "stdout"
        },
        {
          "output_type": "display_data",
          "data": {
            "application/vnd.google.colaboratory.intrinsic+json": {
              "type": "string"
            },
            "text/plain": [
              "'31/180'"
            ]
          },
          "metadata": {
            "tags": []
          }
        },
        {
          "output_type": "stream",
          "text": [
            "2021-07-29 07:43:21\n",
            "instagram/2021-07-29_07-43-21_UTC.jpg [points were made. 🤔] json \n"
          ],
          "name": "stdout"
        },
        {
          "output_type": "display_data",
          "data": {
            "application/vnd.google.colaboratory.intrinsic+json": {
              "type": "string"
            },
            "text/plain": [
              "'32/180'"
            ]
          },
          "metadata": {
            "tags": []
          }
        },
        {
          "output_type": "stream",
          "text": [
            "2021-07-29 07:42:31\n",
            "instagram/2021-07-29_07-42-31_UTC.jpg [i respect your opinion, anon.…] json \n"
          ],
          "name": "stdout"
        },
        {
          "output_type": "display_data",
          "data": {
            "application/vnd.google.colaboratory.intrinsic+json": {
              "type": "string"
            },
            "text/plain": [
              "'33/180'"
            ]
          },
          "metadata": {
            "tags": []
          }
        },
        {
          "output_type": "stream",
          "text": [
            "2021-07-29 07:41:14\n",
            "instagram/2021-07-29_07-41-14_UTC.jpg [haters back off! 💄] json \n"
          ],
          "name": "stdout"
        },
        {
          "output_type": "display_data",
          "data": {
            "application/vnd.google.colaboratory.intrinsic+json": {
              "type": "string"
            },
            "text/plain": [
              "'34/180'"
            ]
          },
          "metadata": {
            "tags": []
          }
        },
        {
          "output_type": "stream",
          "text": [
            "2021-07-29 07:40:15\n",
            "instagram/2021-07-29_07-40-15_UTC.jpg [points were made. 🤔] json \n"
          ],
          "name": "stdout"
        },
        {
          "output_type": "display_data",
          "data": {
            "application/vnd.google.colaboratory.intrinsic+json": {
              "type": "string"
            },
            "text/plain": [
              "'35/180'"
            ]
          },
          "metadata": {
            "tags": []
          }
        },
        {
          "output_type": "stream",
          "text": [
            "2021-07-29 07:38:48\n",
            "instagram/2021-07-29_07-38-48_UTC.jpg [only kolcutta and calkata are…] json \n"
          ],
          "name": "stdout"
        },
        {
          "output_type": "display_data",
          "data": {
            "application/vnd.google.colaboratory.intrinsic+json": {
              "type": "string"
            },
            "text/plain": [
              "'36/180'"
            ]
          },
          "metadata": {
            "tags": []
          }
        },
        {
          "output_type": "stream",
          "text": [
            "2021-07-28 16:27:38\n",
            "instagram/2021-07-28_16-27-38_UTC.jpg [phat moooood. you're valid, a…] json \n"
          ],
          "name": "stdout"
        },
        {
          "output_type": "display_data",
          "data": {
            "application/vnd.google.colaboratory.intrinsic+json": {
              "type": "string"
            },
            "text/plain": [
              "'37/180'"
            ]
          },
          "metadata": {
            "tags": []
          }
        },
        {
          "output_type": "stream",
          "text": [
            "2021-07-28 16:23:47\n",
            "instagram/2021-07-28_16-23-47_UTC.jpg [love is in the air. and covid…] json \n"
          ],
          "name": "stdout"
        },
        {
          "output_type": "display_data",
          "data": {
            "application/vnd.google.colaboratory.intrinsic+json": {
              "type": "string"
            },
            "text/plain": [
              "'38/180'"
            ]
          },
          "metadata": {
            "tags": []
          }
        },
        {
          "output_type": "stream",
          "text": [
            "2021-07-28 16:16:46\n",
            "instagram/2021-07-28_16-16-46_UTC.jpg [cal me maybe 😏] json \n"
          ],
          "name": "stdout"
        },
        {
          "output_type": "display_data",
          "data": {
            "application/vnd.google.colaboratory.intrinsic+json": {
              "type": "string"
            },
            "text/plain": [
              "'39/180'"
            ]
          },
          "metadata": {
            "tags": []
          }
        },
        {
          "output_type": "stream",
          "text": [
            "2021-07-28 16:15:09\n",
            "instagram/2021-07-28_16-15-09_UTC.jpg [the clarity and brevity is wo…] json \n"
          ],
          "name": "stdout"
        },
        {
          "output_type": "display_data",
          "data": {
            "application/vnd.google.colaboratory.intrinsic+json": {
              "type": "string"
            },
            "text/plain": [
              "'40/180'"
            ]
          },
          "metadata": {
            "tags": []
          }
        },
        {
          "output_type": "stream",
          "text": [
            "2021-07-28 16:12:11\n",
            "instagram/2021-07-28_16-12-11_UTC.jpg [ooooooh, fun. should be inch …] json \n"
          ],
          "name": "stdout"
        },
        {
          "output_type": "display_data",
          "data": {
            "application/vnd.google.colaboratory.intrinsic+json": {
              "type": "string"
            },
            "text/plain": [
              "'41/180'"
            ]
          },
          "metadata": {
            "tags": []
          }
        },
        {
          "output_type": "stream",
          "text": [
            "2021-07-28 16:10:54\n",
            "instagram/2021-07-28_16-10-54_UTC.jpg [sheesh. you'll be fine, anon.…] json \n"
          ],
          "name": "stdout"
        },
        {
          "output_type": "display_data",
          "data": {
            "application/vnd.google.colaboratory.intrinsic+json": {
              "type": "string"
            },
            "text/plain": [
              "'42/180'"
            ]
          },
          "metadata": {
            "tags": []
          }
        },
        {
          "output_type": "stream",
          "text": [
            "2021-07-28 16:09:27\n",
            "instagram/2021-07-28_16-09-27_UTC.jpg [i don't do readings on any de…] json \n"
          ],
          "name": "stdout"
        },
        {
          "output_type": "display_data",
          "data": {
            "application/vnd.google.colaboratory.intrinsic+json": {
              "type": "string"
            },
            "text/plain": [
              "'43/180'"
            ]
          },
          "metadata": {
            "tags": []
          }
        },
        {
          "output_type": "stream",
          "text": [
            "2021-07-28 16:07:35\n",
            "instagram/2021-07-28_16-07-35_UTC_1.jpg instagram/2021-07-28_16-07-35_UTC_2.jpg [💔💔💔💔💔] json \n"
          ],
          "name": "stdout"
        },
        {
          "output_type": "display_data",
          "data": {
            "application/vnd.google.colaboratory.intrinsic+json": {
              "type": "string"
            },
            "text/plain": [
              "'44/180'"
            ]
          },
          "metadata": {
            "tags": []
          }
        },
        {
          "output_type": "stream",
          "text": [
            "2021-07-28 16:06:46\n",
            "instagram/2021-07-28_16-06-46_UTC_1.jpg instagram/2021-07-28_16-06-46_UTC_2.jpg [it sucks that it's come to th…] json \n"
          ],
          "name": "stdout"
        },
        {
          "output_type": "display_data",
          "data": {
            "application/vnd.google.colaboratory.intrinsic+json": {
              "type": "string"
            },
            "text/plain": [
              "'45/180'"
            ]
          },
          "metadata": {
            "tags": []
          }
        },
        {
          "output_type": "stream",
          "text": [
            "2021-07-28 05:40:18\n",
            "instagram/2021-07-28_05-40-18_UTC.jpg ['cause that's just the way of…] json \n"
          ],
          "name": "stdout"
        },
        {
          "output_type": "display_data",
          "data": {
            "application/vnd.google.colaboratory.intrinsic+json": {
              "type": "string"
            },
            "text/plain": [
              "'46/180'"
            ]
          },
          "metadata": {
            "tags": []
          }
        },
        {
          "output_type": "stream",
          "text": [
            "2021-07-28 05:39:32\n",
            "instagram/2021-07-28_05-39-32_UTC.jpg [👁👄👁] json \n"
          ],
          "name": "stdout"
        },
        {
          "output_type": "display_data",
          "data": {
            "application/vnd.google.colaboratory.intrinsic+json": {
              "type": "string"
            },
            "text/plain": [
              "'47/180'"
            ]
          },
          "metadata": {
            "tags": []
          }
        },
        {
          "output_type": "stream",
          "text": [
            "2021-07-28 05:38:22\n",
            "instagram/2021-07-28_05-38-22_UTC.jpg [you heard anon. 👆] json \n"
          ],
          "name": "stdout"
        },
        {
          "output_type": "display_data",
          "data": {
            "application/vnd.google.colaboratory.intrinsic+json": {
              "type": "string"
            },
            "text/plain": [
              "'48/180'"
            ]
          },
          "metadata": {
            "tags": []
          }
        },
        {
          "output_type": "stream",
          "text": [
            "2021-07-28 05:36:29\n",
            "instagram/2021-07-28_05-36-29_UTC.jpg [embrace your desperation, ano…] json \n"
          ],
          "name": "stdout"
        },
        {
          "output_type": "display_data",
          "data": {
            "application/vnd.google.colaboratory.intrinsic+json": {
              "type": "string"
            },
            "text/plain": [
              "'49/180'"
            ]
          },
          "metadata": {
            "tags": []
          }
        },
        {
          "output_type": "stream",
          "text": [
            "2021-07-28 05:35:06\n",
            "instagram/2021-07-28_05-35-06_UTC.jpg [a business prospect worth exp…] json \n"
          ],
          "name": "stdout"
        },
        {
          "output_type": "display_data",
          "data": {
            "application/vnd.google.colaboratory.intrinsic+json": {
              "type": "string"
            },
            "text/plain": [
              "'50/180'"
            ]
          },
          "metadata": {
            "tags": []
          }
        },
        {
          "output_type": "stream",
          "text": [
            "2021-07-28 05:30:36\n",
            "instagram/2021-07-28_05-30-36_UTC.jpg [well, anon, you're not wrong. 🤓] json \n"
          ],
          "name": "stdout"
        },
        {
          "output_type": "display_data",
          "data": {
            "application/vnd.google.colaboratory.intrinsic+json": {
              "type": "string"
            },
            "text/plain": [
              "'51/180'"
            ]
          },
          "metadata": {
            "tags": []
          }
        },
        {
          "output_type": "stream",
          "text": [
            "2021-07-28 05:29:03\n",
            "instagram/2021-07-28_05-29-03_UTC.jpg [go forth, comment section!] json \n"
          ],
          "name": "stdout"
        },
        {
          "output_type": "display_data",
          "data": {
            "application/vnd.google.colaboratory.intrinsic+json": {
              "type": "string"
            },
            "text/plain": [
              "'52/180'"
            ]
          },
          "metadata": {
            "tags": []
          }
        },
        {
          "output_type": "stream",
          "text": [
            "2021-07-28 05:27:20\n",
            "instagram/2021-07-28_05-27-20_UTC_1.jpg instagram/2021-07-28_05-27-20_UTC_2.jpg [firstly, anon, congratulation…] json \n"
          ],
          "name": "stdout"
        },
        {
          "output_type": "display_data",
          "data": {
            "application/vnd.google.colaboratory.intrinsic+json": {
              "type": "string"
            },
            "text/plain": [
              "'53/180'"
            ]
          },
          "metadata": {
            "tags": []
          }
        },
        {
          "output_type": "stream",
          "text": [
            "2021-07-28 05:21:05\n",
            "instagram/2021-07-28_05-21-05_UTC_1.jpg instagram/2021-07-28_05-21-05_UTC_2.jpg instagram/2021-07-28_05-21-05_UTC_3.jpg [points were made. 🤔] json \n"
          ],
          "name": "stdout"
        },
        {
          "output_type": "display_data",
          "data": {
            "application/vnd.google.colaboratory.intrinsic+json": {
              "type": "string"
            },
            "text/plain": [
              "'54/180'"
            ]
          },
          "metadata": {
            "tags": []
          }
        },
        {
          "output_type": "stream",
          "text": [
            "2021-07-27 09:28:46\n",
            "instagram/2021-07-27_09-28-46_UTC_1.jpg instagram/2021-07-27_09-28-46_UTC_2.jpg [SDFHSHSHSSHSBSHSVS 🥺❤️] json \n"
          ],
          "name": "stdout"
        },
        {
          "output_type": "display_data",
          "data": {
            "application/vnd.google.colaboratory.intrinsic+json": {
              "type": "string"
            },
            "text/plain": [
              "'55/180'"
            ]
          },
          "metadata": {
            "tags": []
          }
        },
        {
          "output_type": "stream",
          "text": [
            "2021-07-27 09:26:37\n",
            "instagram/2021-07-27_09-26-37_UTC.jpg [an incurable romantic 😭❤] json \n"
          ],
          "name": "stdout"
        },
        {
          "output_type": "display_data",
          "data": {
            "application/vnd.google.colaboratory.intrinsic+json": {
              "type": "string"
            },
            "text/plain": [
              "'56/180'"
            ]
          },
          "metadata": {
            "tags": []
          }
        },
        {
          "output_type": "stream",
          "text": [
            "2021-07-27 09:20:27\n",
            "instagram/2021-07-27_09-20-27_UTC.jpg [#recoursediscourse] json \n"
          ],
          "name": "stdout"
        },
        {
          "output_type": "display_data",
          "data": {
            "application/vnd.google.colaboratory.intrinsic+json": {
              "type": "string"
            },
            "text/plain": [
              "'57/180'"
            ]
          },
          "metadata": {
            "tags": []
          }
        },
        {
          "output_type": "stream",
          "text": [
            "2021-07-27 09:17:16\n",
            "instagram/2021-07-27_09-17-16_UTC.jpg [which curry came first, tho?] json \n"
          ],
          "name": "stdout"
        },
        {
          "output_type": "display_data",
          "data": {
            "application/vnd.google.colaboratory.intrinsic+json": {
              "type": "string"
            },
            "text/plain": [
              "'58/180'"
            ]
          },
          "metadata": {
            "tags": []
          }
        },
        {
          "output_type": "stream",
          "text": [
            "2021-07-27 09:16:04\n",
            "instagram/2021-07-27_09-16-04_UTC.jpg [*cricket chirping* 🦗🏏] json \n"
          ],
          "name": "stdout"
        },
        {
          "output_type": "display_data",
          "data": {
            "application/vnd.google.colaboratory.intrinsic+json": {
              "type": "string"
            },
            "text/plain": [
              "'59/180'"
            ]
          },
          "metadata": {
            "tags": []
          }
        },
        {
          "output_type": "stream",
          "text": [
            "2021-07-27 09:15:36\n",
            "instagram/2021-07-27_09-15-36_UTC.jpg [😶] json \n"
          ],
          "name": "stdout"
        },
        {
          "output_type": "display_data",
          "data": {
            "application/vnd.google.colaboratory.intrinsic+json": {
              "type": "string"
            },
            "text/plain": [
              "'60/180'"
            ]
          },
          "metadata": {
            "tags": []
          }
        },
        {
          "output_type": "stream",
          "text": [
            "2021-07-27 09:15:06\n",
            "instagram/2021-07-27_09-15-06_UTC.jpg [we talking honey-ish or more …] json \n"
          ],
          "name": "stdout"
        },
        {
          "output_type": "display_data",
          "data": {
            "application/vnd.google.colaboratory.intrinsic+json": {
              "type": "string"
            },
            "text/plain": [
              "'61/180'"
            ]
          },
          "metadata": {
            "tags": []
          }
        },
        {
          "output_type": "stream",
          "text": [
            "2021-07-27 09:12:48\n",
            "instagram/2021-07-27_09-12-48_UTC.jpg [she's just a torch and she's …] json \n"
          ],
          "name": "stdout"
        },
        {
          "output_type": "display_data",
          "data": {
            "application/vnd.google.colaboratory.intrinsic+json": {
              "type": "string"
            },
            "text/plain": [
              "'62/180'"
            ]
          },
          "metadata": {
            "tags": []
          }
        },
        {
          "output_type": "stream",
          "text": [
            "2021-07-27 09:11:45\n",
            "instagram/2021-07-27_09-11-45_UTC.jpg [i was a businessman.... doing…] json \n"
          ],
          "name": "stdout"
        },
        {
          "output_type": "display_data",
          "data": {
            "application/vnd.google.colaboratory.intrinsic+json": {
              "type": "string"
            },
            "text/plain": [
              "'63/180'"
            ]
          },
          "metadata": {
            "tags": []
          }
        },
        {
          "output_type": "stream",
          "text": [
            "2021-07-27 02:39:18\n",
            "instagram/2021-07-27_02-39-18_UTC.jpg [The Ashokan Ring. Samara is q…] json \n"
          ],
          "name": "stdout"
        },
        {
          "output_type": "display_data",
          "data": {
            "application/vnd.google.colaboratory.intrinsic+json": {
              "type": "string"
            },
            "text/plain": [
              "'64/180'"
            ]
          },
          "metadata": {
            "tags": []
          }
        },
        {
          "output_type": "stream",
          "text": [
            "2021-07-27 02:37:56\n",
            "instagram/2021-07-27_02-37-56_UTC.jpg [idk about you, anon, but i've…] json \n"
          ],
          "name": "stdout"
        },
        {
          "output_type": "display_data",
          "data": {
            "application/vnd.google.colaboratory.intrinsic+json": {
              "type": "string"
            },
            "text/plain": [
              "'65/180'"
            ]
          },
          "metadata": {
            "tags": []
          }
        },
        {
          "output_type": "stream",
          "text": [
            "2021-07-27 02:36:56\n",
            "instagram/2021-07-27_02-36-56_UTC.jpg [points were made. 🤔] json \n"
          ],
          "name": "stdout"
        },
        {
          "output_type": "display_data",
          "data": {
            "application/vnd.google.colaboratory.intrinsic+json": {
              "type": "string"
            },
            "text/plain": [
              "'66/180'"
            ]
          },
          "metadata": {
            "tags": []
          }
        },
        {
          "output_type": "stream",
          "text": [
            "2021-07-27 02:25:49\n",
            "instagram/2021-07-27_02-25-49_UTC.jpg [there are no stupid questions…] json \n"
          ],
          "name": "stdout"
        },
        {
          "output_type": "display_data",
          "data": {
            "application/vnd.google.colaboratory.intrinsic+json": {
              "type": "string"
            },
            "text/plain": [
              "'67/180'"
            ]
          },
          "metadata": {
            "tags": []
          }
        },
        {
          "output_type": "stream",
          "text": [
            "2021-07-27 02:23:57\n",
            "instagram/2021-07-27_02-23-57_UTC.jpg [is this a pun because thought…] json \n"
          ],
          "name": "stdout"
        },
        {
          "output_type": "display_data",
          "data": {
            "application/vnd.google.colaboratory.intrinsic+json": {
              "type": "string"
            },
            "text/plain": [
              "'68/180'"
            ]
          },
          "metadata": {
            "tags": []
          }
        },
        {
          "output_type": "stream",
          "text": [
            "2021-07-27 02:21:38\n",
            "instagram/2021-07-27_02-21-38_UTC.jpg [LMAO. at your service.✋] json \n"
          ],
          "name": "stdout"
        },
        {
          "output_type": "display_data",
          "data": {
            "application/vnd.google.colaboratory.intrinsic+json": {
              "type": "string"
            },
            "text/plain": [
              "'69/180'"
            ]
          },
          "metadata": {
            "tags": []
          }
        },
        {
          "output_type": "stream",
          "text": [
            "2021-07-27 02:20:22\n",
            "instagram/2021-07-27_02-20-22_UTC.jpg [💔💔💔] json \n"
          ],
          "name": "stdout"
        },
        {
          "output_type": "display_data",
          "data": {
            "application/vnd.google.colaboratory.intrinsic+json": {
              "type": "string"
            },
            "text/plain": [
              "'70/180'"
            ]
          },
          "metadata": {
            "tags": []
          }
        },
        {
          "output_type": "stream",
          "text": [
            "2021-07-27 02:19:37\n",
            "instagram/2021-07-27_02-19-37_UTC.jpg [it's funny because this confe…] json \n"
          ],
          "name": "stdout"
        },
        {
          "output_type": "display_data",
          "data": {
            "application/vnd.google.colaboratory.intrinsic+json": {
              "type": "string"
            },
            "text/plain": [
              "'71/180'"
            ]
          },
          "metadata": {
            "tags": []
          }
        },
        {
          "output_type": "stream",
          "text": [
            "2021-07-27 02:18:51\n",
            "instagram/2021-07-27_02-18-51_UTC.jpg [so you just going for the sou…] json \n"
          ],
          "name": "stdout"
        },
        {
          "output_type": "display_data",
          "data": {
            "application/vnd.google.colaboratory.intrinsic+json": {
              "type": "string"
            },
            "text/plain": [
              "'72/180'"
            ]
          },
          "metadata": {
            "tags": []
          }
        },
        {
          "output_type": "stream",
          "text": [
            "2021-07-26 08:43:14\n",
            "instagram/2021-07-26_08-43-14_UTC.jpg [yes, anon, they are in the pr…] json \n"
          ],
          "name": "stdout"
        },
        {
          "output_type": "display_data",
          "data": {
            "application/vnd.google.colaboratory.intrinsic+json": {
              "type": "string"
            },
            "text/plain": [
              "'73/180'"
            ]
          },
          "metadata": {
            "tags": []
          }
        },
        {
          "output_type": "stream",
          "text": [
            "2021-07-26 08:39:23\n",
            "instagram/2021-07-26_08-39-23_UTC.jpg [nah fam, just gryphons and ga…] json \n"
          ],
          "name": "stdout"
        },
        {
          "output_type": "display_data",
          "data": {
            "application/vnd.google.colaboratory.intrinsic+json": {
              "type": "string"
            },
            "text/plain": [
              "'74/180'"
            ]
          },
          "metadata": {
            "tags": []
          }
        },
        {
          "output_type": "stream",
          "text": [
            "2021-07-26 08:38:01\n",
            "instagram/2021-07-26_08-38-01_UTC.jpg [not the out-of-body experienc…] json \n"
          ],
          "name": "stdout"
        },
        {
          "output_type": "display_data",
          "data": {
            "application/vnd.google.colaboratory.intrinsic+json": {
              "type": "string"
            },
            "text/plain": [
              "'75/180'"
            ]
          },
          "metadata": {
            "tags": []
          }
        },
        {
          "output_type": "stream",
          "text": [
            "2021-07-26 08:35:59\n",
            "instagram/2021-07-26_08-35-59_UTC.jpg [the next minecraft movie will…] json \n"
          ],
          "name": "stdout"
        },
        {
          "output_type": "display_data",
          "data": {
            "application/vnd.google.colaboratory.intrinsic+json": {
              "type": "string"
            },
            "text/plain": [
              "'76/180'"
            ]
          },
          "metadata": {
            "tags": []
          }
        },
        {
          "output_type": "stream",
          "text": [
            "2021-07-26 08:31:31\n",
            "instagram/2021-07-26_08-31-31_UTC.jpg [fear not, anon. there shall b…] json \n"
          ],
          "name": "stdout"
        },
        {
          "output_type": "display_data",
          "data": {
            "application/vnd.google.colaboratory.intrinsic+json": {
              "type": "string"
            },
            "text/plain": [
              "'77/180'"
            ]
          },
          "metadata": {
            "tags": []
          }
        },
        {
          "output_type": "stream",
          "text": [
            "2021-07-26 08:30:26\n",
            "instagram/2021-07-26_08-30-26_UTC.jpg [good luck, fam. you're gonna …] json \n"
          ],
          "name": "stdout"
        },
        {
          "output_type": "display_data",
          "data": {
            "application/vnd.google.colaboratory.intrinsic+json": {
              "type": "string"
            },
            "text/plain": [
              "'78/180'"
            ]
          },
          "metadata": {
            "tags": []
          }
        },
        {
          "output_type": "stream",
          "text": [
            "2021-07-26 08:28:52\n",
            "instagram/2021-07-26_08-28-52_UTC.jpg [horny (/ˈhɔːni/) adjective of…] json \n"
          ],
          "name": "stdout"
        },
        {
          "output_type": "display_data",
          "data": {
            "application/vnd.google.colaboratory.intrinsic+json": {
              "type": "string"
            },
            "text/plain": [
              "'79/180'"
            ]
          },
          "metadata": {
            "tags": []
          }
        },
        {
          "output_type": "stream",
          "text": [
            "2021-07-26 08:27:25\n",
            "instagram/2021-07-26_08-27-25_UTC.jpg [does she even lift, bro? 🏋️‍♀️] json \n"
          ],
          "name": "stdout"
        },
        {
          "output_type": "display_data",
          "data": {
            "application/vnd.google.colaboratory.intrinsic+json": {
              "type": "string"
            },
            "text/plain": [
              "'80/180'"
            ]
          },
          "metadata": {
            "tags": []
          }
        },
        {
          "output_type": "stream",
          "text": [
            "2021-07-26 08:26:51\n",
            "instagram/2021-07-26_08-26-51_UTC.jpg [cute and cuddly, boys. cute a…] json \n"
          ],
          "name": "stdout"
        },
        {
          "output_type": "display_data",
          "data": {
            "application/vnd.google.colaboratory.intrinsic+json": {
              "type": "string"
            },
            "text/plain": [
              "'81/180'"
            ]
          },
          "metadata": {
            "tags": []
          }
        },
        {
          "output_type": "stream",
          "text": [
            "2021-07-26 02:21:05\n",
            "instagram/2021-07-26_02-21-05_UTC.jpg [this is precisely why being a…] json \n"
          ],
          "name": "stdout"
        },
        {
          "output_type": "display_data",
          "data": {
            "application/vnd.google.colaboratory.intrinsic+json": {
              "type": "string"
            },
            "text/plain": [
              "'82/180'"
            ]
          },
          "metadata": {
            "tags": []
          }
        },
        {
          "output_type": "stream",
          "text": [
            "2021-07-26 02:18:37\n",
            "instagram/2021-07-26_02-18-37_UTC.jpg [wholesomenessnessness. ❤] json \n"
          ],
          "name": "stdout"
        },
        {
          "output_type": "display_data",
          "data": {
            "application/vnd.google.colaboratory.intrinsic+json": {
              "type": "string"
            },
            "text/plain": [
              "'83/180'"
            ]
          },
          "metadata": {
            "tags": []
          }
        },
        {
          "output_type": "stream",
          "text": [
            "2021-07-26 02:17:50\n",
            "instagram/2021-07-26_02-17-50_UTC.jpg [it's vv chaotic, yes. full su…] json \n"
          ],
          "name": "stdout"
        },
        {
          "output_type": "display_data",
          "data": {
            "application/vnd.google.colaboratory.intrinsic+json": {
              "type": "string"
            },
            "text/plain": [
              "'84/180'"
            ]
          },
          "metadata": {
            "tags": []
          }
        },
        {
          "output_type": "stream",
          "text": [
            "2021-07-26 02:16:15\n",
            "instagram/2021-07-26_02-16-15_UTC.jpg [🐝👄🐝] json \n"
          ],
          "name": "stdout"
        },
        {
          "output_type": "display_data",
          "data": {
            "application/vnd.google.colaboratory.intrinsic+json": {
              "type": "string"
            },
            "text/plain": [
              "'85/180'"
            ]
          },
          "metadata": {
            "tags": []
          }
        },
        {
          "output_type": "stream",
          "text": [
            "2021-07-26 02:14:52\n",
            "instagram/2021-07-26_02-14-52_UTC.jpg [it really shouldn't be, anon,…] json \n"
          ],
          "name": "stdout"
        },
        {
          "output_type": "display_data",
          "data": {
            "application/vnd.google.colaboratory.intrinsic+json": {
              "type": "string"
            },
            "text/plain": [
              "'86/180'"
            ]
          },
          "metadata": {
            "tags": []
          }
        },
        {
          "output_type": "stream",
          "text": [
            "2021-07-26 02:14:13\n",
            "instagram/2021-07-26_02-14-13_UTC.jpg [self-awareness is sexy. 🤘] json \n"
          ],
          "name": "stdout"
        },
        {
          "output_type": "display_data",
          "data": {
            "application/vnd.google.colaboratory.intrinsic+json": {
              "type": "string"
            },
            "text/plain": [
              "'87/180'"
            ]
          },
          "metadata": {
            "tags": []
          }
        },
        {
          "output_type": "stream",
          "text": [
            "2021-07-26 02:12:35\n",
            "instagram/2021-07-26_02-12-35_UTC.jpg [faculty be like \"take a chanc…] json \n"
          ],
          "name": "stdout"
        },
        {
          "output_type": "display_data",
          "data": {
            "application/vnd.google.colaboratory.intrinsic+json": {
              "type": "string"
            },
            "text/plain": [
              "'88/180'"
            ]
          },
          "metadata": {
            "tags": []
          }
        },
        {
          "output_type": "stream",
          "text": [
            "2021-07-26 02:11:28\n",
            "instagram/2021-07-26_02-11-28_UTC.jpg [don't be afraid to hit that b…] json \n"
          ],
          "name": "stdout"
        },
        {
          "output_type": "display_data",
          "data": {
            "application/vnd.google.colaboratory.intrinsic+json": {
              "type": "string"
            },
            "text/plain": [
              "'89/180'"
            ]
          },
          "metadata": {
            "tags": []
          }
        },
        {
          "output_type": "stream",
          "text": [
            "2021-07-26 02:10:41\n",
            "instagram/2021-07-26_02-10-41_UTC.jpg [if doing this is wrong, i don…] json \n"
          ],
          "name": "stdout"
        },
        {
          "output_type": "display_data",
          "data": {
            "application/vnd.google.colaboratory.intrinsic+json": {
              "type": "string"
            },
            "text/plain": [
              "'90/180'"
            ]
          },
          "metadata": {
            "tags": []
          }
        },
        {
          "output_type": "stream",
          "text": [
            "2021-07-25 11:44:28\n",
            "instagram/2021-07-25_11-44-28_UTC.jpg [🤷‍♂️] json \n"
          ],
          "name": "stdout"
        },
        {
          "output_type": "display_data",
          "data": {
            "application/vnd.google.colaboratory.intrinsic+json": {
              "type": "string"
            },
            "text/plain": [
              "'91/180'"
            ]
          },
          "metadata": {
            "tags": []
          }
        },
        {
          "output_type": "stream",
          "text": [
            "2021-07-25 11:41:39\n",
            "instagram/2021-07-25_11-41-39_UTC.jpg [change.org, we need you. 🙏] json \n"
          ],
          "name": "stdout"
        },
        {
          "output_type": "display_data",
          "data": {
            "application/vnd.google.colaboratory.intrinsic+json": {
              "type": "string"
            },
            "text/plain": [
              "'92/180'"
            ]
          },
          "metadata": {
            "tags": []
          }
        },
        {
          "output_type": "stream",
          "text": [
            "2021-07-25 11:37:58\n",
            "instagram/2021-07-25_11-37-58_UTC.jpg [same. ❤] json \n"
          ],
          "name": "stdout"
        },
        {
          "output_type": "display_data",
          "data": {
            "application/vnd.google.colaboratory.intrinsic+json": {
              "type": "string"
            },
            "text/plain": [
              "'93/180'"
            ]
          },
          "metadata": {
            "tags": []
          }
        },
        {
          "output_type": "stream",
          "text": [
            "2021-07-25 11:37:37\n",
            "instagram/2021-07-25_11-37-37_UTC.jpg [i assume anon has spoken to a…] json \n"
          ],
          "name": "stdout"
        },
        {
          "output_type": "display_data",
          "data": {
            "application/vnd.google.colaboratory.intrinsic+json": {
              "type": "string"
            },
            "text/plain": [
              "'94/180'"
            ]
          },
          "metadata": {
            "tags": []
          }
        },
        {
          "output_type": "stream",
          "text": [
            "2021-07-25 11:36:32\n",
            "instagram/2021-07-25_11-36-32_UTC.jpg [i genuinely hope it isn't the…] json \n"
          ],
          "name": "stdout"
        },
        {
          "output_type": "display_data",
          "data": {
            "application/vnd.google.colaboratory.intrinsic+json": {
              "type": "string"
            },
            "text/plain": [
              "'95/180'"
            ]
          },
          "metadata": {
            "tags": []
          }
        },
        {
          "output_type": "stream",
          "text": [
            "2021-07-25 11:35:08\n",
            "instagram/2021-07-25_11-35-08_UTC.jpg [i'm severely unqualified. wha…] json \n"
          ],
          "name": "stdout"
        },
        {
          "output_type": "display_data",
          "data": {
            "application/vnd.google.colaboratory.intrinsic+json": {
              "type": "string"
            },
            "text/plain": [
              "'96/180'"
            ]
          },
          "metadata": {
            "tags": []
          }
        },
        {
          "output_type": "stream",
          "text": [
            "2021-07-25 11:34:19\n",
            "instagram/2021-07-25_11-34-19_UTC.jpg [if it involves food, i can ge…] json \n"
          ],
          "name": "stdout"
        },
        {
          "output_type": "display_data",
          "data": {
            "application/vnd.google.colaboratory.intrinsic+json": {
              "type": "string"
            },
            "text/plain": [
              "'97/180'"
            ]
          },
          "metadata": {
            "tags": []
          }
        },
        {
          "output_type": "stream",
          "text": [
            "2021-07-25 11:33:16\n",
            "instagram/2021-07-25_11-33-16_UTC.jpg [they been there for months, h…] json \n"
          ],
          "name": "stdout"
        },
        {
          "output_type": "display_data",
          "data": {
            "application/vnd.google.colaboratory.intrinsic+json": {
              "type": "string"
            },
            "text/plain": [
              "'98/180'"
            ]
          },
          "metadata": {
            "tags": []
          }
        },
        {
          "output_type": "stream",
          "text": [
            "2021-07-25 11:31:33\n",
            "instagram/2021-07-25_11-31-33_UTC.jpg [nobody is going anywhere, hon…] json \n"
          ],
          "name": "stdout"
        },
        {
          "output_type": "display_data",
          "data": {
            "application/vnd.google.colaboratory.intrinsic+json": {
              "type": "string"
            },
            "text/plain": [
              "'99/180'"
            ]
          },
          "metadata": {
            "tags": []
          }
        },
        {
          "output_type": "stream",
          "text": [
            "2021-07-25 02:28:04\n",
            "instagram/2021-07-25_02-28-04_UTC.jpg [i think we ALL want tips.] json \n"
          ],
          "name": "stdout"
        },
        {
          "output_type": "display_data",
          "data": {
            "application/vnd.google.colaboratory.intrinsic+json": {
              "type": "string"
            },
            "text/plain": [
              "'100/180'"
            ]
          },
          "metadata": {
            "tags": []
          }
        },
        {
          "output_type": "stream",
          "text": [
            "2021-07-25 02:26:37\n",
            "instagram/2021-07-25_02-26-37_UTC_1.jpg instagram/2021-07-25_02-26-37_UTC_2.jpg [tldr: stop calling people tra…] json \n"
          ],
          "name": "stdout"
        },
        {
          "output_type": "display_data",
          "data": {
            "application/vnd.google.colaboratory.intrinsic+json": {
              "type": "string"
            },
            "text/plain": [
              "'101/180'"
            ]
          },
          "metadata": {
            "tags": []
          }
        },
        {
          "output_type": "stream",
          "text": [
            "2021-07-25 02:25:19\n",
            "instagram/2021-07-25_02-25-19_UTC.jpg [*nods passionately, while loo…] json \n"
          ],
          "name": "stdout"
        },
        {
          "output_type": "display_data",
          "data": {
            "application/vnd.google.colaboratory.intrinsic+json": {
              "type": "string"
            },
            "text/plain": [
              "'102/180'"
            ]
          },
          "metadata": {
            "tags": []
          }
        },
        {
          "output_type": "stream",
          "text": [
            "2021-07-25 02:21:11\n",
            "instagram/2021-07-25_02-21-11_UTC.jpg [reddit go! can't hold it back…] json \n"
          ],
          "name": "stdout"
        },
        {
          "output_type": "display_data",
          "data": {
            "application/vnd.google.colaboratory.intrinsic+json": {
              "type": "string"
            },
            "text/plain": [
              "'103/180'"
            ]
          },
          "metadata": {
            "tags": []
          }
        },
        {
          "output_type": "stream",
          "text": [
            "2021-07-25 02:18:29\n",
            "instagram/2021-07-25_02-18-29_UTC.jpg [sheesh, anon. hit me right in…] json \n"
          ],
          "name": "stdout"
        },
        {
          "output_type": "display_data",
          "data": {
            "application/vnd.google.colaboratory.intrinsic+json": {
              "type": "string"
            },
            "text/plain": [
              "'104/180'"
            ]
          },
          "metadata": {
            "tags": []
          }
        },
        {
          "output_type": "stream",
          "text": [
            "2021-07-25 02:17:32\n",
            "instagram/2021-07-25_02-17-32_UTC.jpg [what's weird is the fact that…] json \n"
          ],
          "name": "stdout"
        },
        {
          "output_type": "display_data",
          "data": {
            "application/vnd.google.colaboratory.intrinsic+json": {
              "type": "string"
            },
            "text/plain": [
              "'105/180'"
            ]
          },
          "metadata": {
            "tags": []
          }
        },
        {
          "output_type": "stream",
          "text": [
            "2021-07-25 02:16:42\n",
            "instagram/2021-07-25_02-16-42_UTC.jpg [hey, that's my morning mantra…] json \n"
          ],
          "name": "stdout"
        },
        {
          "output_type": "display_data",
          "data": {
            "application/vnd.google.colaboratory.intrinsic+json": {
              "type": "string"
            },
            "text/plain": [
              "'106/180'"
            ]
          },
          "metadata": {
            "tags": []
          }
        },
        {
          "output_type": "stream",
          "text": [
            "2021-07-25 02:12:44\n",
            "instagram/2021-07-25_02-12-44_UTC.jpg [occasional misanthropism is h…] json \n"
          ],
          "name": "stdout"
        },
        {
          "output_type": "display_data",
          "data": {
            "application/vnd.google.colaboratory.intrinsic+json": {
              "type": "string"
            },
            "text/plain": [
              "'107/180'"
            ]
          },
          "metadata": {
            "tags": []
          }
        },
        {
          "output_type": "stream",
          "text": [
            "2021-07-25 02:11:50\n",
            "instagram/2021-07-25_02-11-50_UTC.jpg [points were made. 🤔] json \n"
          ],
          "name": "stdout"
        },
        {
          "output_type": "display_data",
          "data": {
            "application/vnd.google.colaboratory.intrinsic+json": {
              "type": "string"
            },
            "text/plain": [
              "'108/180'"
            ]
          },
          "metadata": {
            "tags": []
          }
        },
        {
          "output_type": "stream",
          "text": [
            "2021-07-24 08:41:40\n",
            "instagram/2021-07-24_08-41-40_UTC.jpg [this is probably the first ti…] json \n"
          ],
          "name": "stdout"
        },
        {
          "output_type": "display_data",
          "data": {
            "application/vnd.google.colaboratory.intrinsic+json": {
              "type": "string"
            },
            "text/plain": [
              "'109/180'"
            ]
          },
          "metadata": {
            "tags": []
          }
        },
        {
          "output_type": "stream",
          "text": [
            "2021-07-24 08:37:38\n",
            "instagram/2021-07-24_08-37-38_UTC.jpg [admin.exe has stopped working 👾] json \n"
          ],
          "name": "stdout"
        },
        {
          "output_type": "display_data",
          "data": {
            "application/vnd.google.colaboratory.intrinsic+json": {
              "type": "string"
            },
            "text/plain": [
              "'110/180'"
            ]
          },
          "metadata": {
            "tags": []
          }
        },
        {
          "output_type": "stream",
          "text": [
            "2021-07-24 08:35:49\n",
            "instagram/2021-07-24_08-35-49_UTC.jpg [you're plenty coherent, anon!…] json \n"
          ],
          "name": "stdout"
        },
        {
          "output_type": "display_data",
          "data": {
            "application/vnd.google.colaboratory.intrinsic+json": {
              "type": "string"
            },
            "text/plain": [
              "'111/180'"
            ]
          },
          "metadata": {
            "tags": []
          }
        },
        {
          "output_type": "stream",
          "text": [
            "2021-07-24 08:27:53\n",
            "instagram/2021-07-24_08-27-53_UTC.jpg [i've gotchu, fam. ❤] json \n"
          ],
          "name": "stdout"
        },
        {
          "output_type": "display_data",
          "data": {
            "application/vnd.google.colaboratory.intrinsic+json": {
              "type": "string"
            },
            "text/plain": [
              "'112/180'"
            ]
          },
          "metadata": {
            "tags": []
          }
        },
        {
          "output_type": "stream",
          "text": [
            "2021-07-24 08:27:07\n",
            "instagram/2021-07-24_08-27-07_UTC.jpg [👀] json \n"
          ],
          "name": "stdout"
        },
        {
          "output_type": "display_data",
          "data": {
            "application/vnd.google.colaboratory.intrinsic+json": {
              "type": "string"
            },
            "text/plain": [
              "'113/180'"
            ]
          },
          "metadata": {
            "tags": []
          }
        },
        {
          "output_type": "stream",
          "text": [
            "2021-07-24 08:25:12\n",
            "instagram/2021-07-24_08-25-12_UTC.jpg [what do you call a hot girl f…] json \n"
          ],
          "name": "stdout"
        },
        {
          "output_type": "display_data",
          "data": {
            "application/vnd.google.colaboratory.intrinsic+json": {
              "type": "string"
            },
            "text/plain": [
              "'114/180'"
            ]
          },
          "metadata": {
            "tags": []
          }
        },
        {
          "output_type": "stream",
          "text": [
            "2021-07-24 08:22:02\n",
            "instagram/2021-07-24_08-22-02_UTC.jpg [well, some people find that m…] json \n"
          ],
          "name": "stdout"
        },
        {
          "output_type": "display_data",
          "data": {
            "application/vnd.google.colaboratory.intrinsic+json": {
              "type": "string"
            },
            "text/plain": [
              "'115/180'"
            ]
          },
          "metadata": {
            "tags": []
          }
        },
        {
          "output_type": "stream",
          "text": [
            "2021-07-24 08:19:35\n",
            "instagram/2021-07-24_08-19-35_UTC.jpg [A little gratitude goes a lon…] json \n"
          ],
          "name": "stdout"
        },
        {
          "output_type": "display_data",
          "data": {
            "application/vnd.google.colaboratory.intrinsic+json": {
              "type": "string"
            },
            "text/plain": [
              "'116/180'"
            ]
          },
          "metadata": {
            "tags": []
          }
        },
        {
          "output_type": "stream",
          "text": [
            "2021-07-24 08:18:10\n",
            "instagram/2021-07-24_08-18-10_UTC.jpg [I saw the first season and...…] json \n"
          ],
          "name": "stdout"
        },
        {
          "output_type": "display_data",
          "data": {
            "application/vnd.google.colaboratory.intrinsic+json": {
              "type": "string"
            },
            "text/plain": [
              "'117/180'"
            ]
          },
          "metadata": {
            "tags": []
          }
        },
        {
          "output_type": "stream",
          "text": [
            "2021-07-23 09:15:35\n",
            "instagram/2021-07-23_09-15-35_UTC.jpg [we stan controversial opinion…] json \n"
          ],
          "name": "stdout"
        },
        {
          "output_type": "display_data",
          "data": {
            "application/vnd.google.colaboratory.intrinsic+json": {
              "type": "string"
            },
            "text/plain": [
              "'118/180'"
            ]
          },
          "metadata": {
            "tags": []
          }
        },
        {
          "output_type": "stream",
          "text": [
            "2021-07-23 09:13:22\n",
            "instagram/2021-07-23_09-13-22_UTC.jpg [i was also confused about thi…] json \n"
          ],
          "name": "stdout"
        },
        {
          "output_type": "display_data",
          "data": {
            "application/vnd.google.colaboratory.intrinsic+json": {
              "type": "string"
            },
            "text/plain": [
              "'119/180'"
            ]
          },
          "metadata": {
            "tags": []
          }
        },
        {
          "output_type": "stream",
          "text": [
            "2021-07-23 09:12:08\n",
            "instagram/2021-07-23_09-12-08_UTC.jpg [yes, traitors, please tell us…] json \n"
          ],
          "name": "stdout"
        },
        {
          "output_type": "display_data",
          "data": {
            "application/vnd.google.colaboratory.intrinsic+json": {
              "type": "string"
            },
            "text/plain": [
              "'120/180'"
            ]
          },
          "metadata": {
            "tags": []
          }
        },
        {
          "output_type": "stream",
          "text": [
            "2021-07-23 09:10:54\n",
            "instagram/2021-07-23_09-10-54_UTC.jpg [yikes. and i cry if my crush …] json \n"
          ],
          "name": "stdout"
        },
        {
          "output_type": "display_data",
          "data": {
            "application/vnd.google.colaboratory.intrinsic+json": {
              "type": "string"
            },
            "text/plain": [
              "'121/180'"
            ]
          },
          "metadata": {
            "tags": []
          }
        },
        {
          "output_type": "stream",
          "text": [
            "2021-07-23 09:04:18\n",
            "instagram/2021-07-23_09-04-18_UTC.jpg [this is extremely specific an…] json \n"
          ],
          "name": "stdout"
        },
        {
          "output_type": "display_data",
          "data": {
            "application/vnd.google.colaboratory.intrinsic+json": {
              "type": "string"
            },
            "text/plain": [
              "'122/180'"
            ]
          },
          "metadata": {
            "tags": []
          }
        },
        {
          "output_type": "stream",
          "text": [
            "2021-07-23 09:03:31\n",
            "instagram/2021-07-23_09-03-31_UTC.jpg [you're not alone in feeling t…] json \n"
          ],
          "name": "stdout"
        },
        {
          "output_type": "display_data",
          "data": {
            "application/vnd.google.colaboratory.intrinsic+json": {
              "type": "string"
            },
            "text/plain": [
              "'123/180'"
            ]
          },
          "metadata": {
            "tags": []
          }
        },
        {
          "output_type": "stream",
          "text": [
            "2021-07-23 09:01:27\n",
            "instagram/2021-07-23_09-01-27_UTC.jpg [it shouldn't be, honestly. th…] json \n"
          ],
          "name": "stdout"
        },
        {
          "output_type": "display_data",
          "data": {
            "application/vnd.google.colaboratory.intrinsic+json": {
              "type": "string"
            },
            "text/plain": [
              "'124/180'"
            ]
          },
          "metadata": {
            "tags": []
          }
        },
        {
          "output_type": "stream",
          "text": [
            "2021-07-23 09:00:04\n",
            "instagram/2021-07-23_09-00-04_UTC.jpg [it's definitely not something…] json \n"
          ],
          "name": "stdout"
        },
        {
          "output_type": "display_data",
          "data": {
            "application/vnd.google.colaboratory.intrinsic+json": {
              "type": "string"
            },
            "text/plain": [
              "'125/180'"
            ]
          },
          "metadata": {
            "tags": []
          }
        },
        {
          "output_type": "stream",
          "text": [
            "2021-07-23 08:57:55\n",
            "instagram/2021-07-23_08-57-55_UTC.jpg [oof. i know how that feels. i…] json \n"
          ],
          "name": "stdout"
        },
        {
          "output_type": "display_data",
          "data": {
            "application/vnd.google.colaboratory.intrinsic+json": {
              "type": "string"
            },
            "text/plain": [
              "'126/180'"
            ]
          },
          "metadata": {
            "tags": []
          }
        },
        {
          "output_type": "stream",
          "text": [
            "2021-07-23 08:50:40\n",
            "instagram/2021-07-23_08-50-40_UTC.jpg [well, well, well, someone pai…] json \n"
          ],
          "name": "stdout"
        },
        {
          "output_type": "display_data",
          "data": {
            "application/vnd.google.colaboratory.intrinsic+json": {
              "type": "string"
            },
            "text/plain": [
              "'127/180'"
            ]
          },
          "metadata": {
            "tags": []
          }
        },
        {
          "output_type": "stream",
          "text": [
            "2021-07-23 08:46:10\n",
            "instagram/2021-07-23_08-46-10_UTC.jpg [smart, up-to-date ashonks, we…] json \n"
          ],
          "name": "stdout"
        },
        {
          "output_type": "display_data",
          "data": {
            "application/vnd.google.colaboratory.intrinsic+json": {
              "type": "string"
            },
            "text/plain": [
              "'128/180'"
            ]
          },
          "metadata": {
            "tags": []
          }
        },
        {
          "output_type": "stream",
          "text": [
            "2021-07-23 08:45:01\n",
            "instagram/2021-07-23_08-45-01_UTC.jpg [i kinda ship ug23 and ug24 tb…] json \n"
          ],
          "name": "stdout"
        },
        {
          "output_type": "display_data",
          "data": {
            "application/vnd.google.colaboratory.intrinsic+json": {
              "type": "string"
            },
            "text/plain": [
              "'129/180'"
            ]
          },
          "metadata": {
            "tags": []
          }
        },
        {
          "output_type": "stream",
          "text": [
            "2021-07-23 08:43:47\n",
            "instagram/2021-07-23_08-43-47_UTC.jpg [so am i. would someone be kin…] json \n"
          ],
          "name": "stdout"
        },
        {
          "output_type": "display_data",
          "data": {
            "application/vnd.google.colaboratory.intrinsic+json": {
              "type": "string"
            },
            "text/plain": [
              "'130/180'"
            ]
          },
          "metadata": {
            "tags": []
          }
        },
        {
          "output_type": "stream",
          "text": [
            "2021-07-23 08:41:57\n",
            "instagram/2021-07-23_08-41-57_UTC.jpg [if ug24 exists and nobody is …] json \n"
          ],
          "name": "stdout"
        },
        {
          "output_type": "display_data",
          "data": {
            "application/vnd.google.colaboratory.intrinsic+json": {
              "type": "string"
            },
            "text/plain": [
              "'131/180'"
            ]
          },
          "metadata": {
            "tags": []
          }
        },
        {
          "output_type": "stream",
          "text": [
            "2021-07-23 08:39:23\n",
            "instagram/2021-07-23_08-39-23_UTC.jpg [controversial, but i believe …] json \n"
          ],
          "name": "stdout"
        },
        {
          "output_type": "display_data",
          "data": {
            "application/vnd.google.colaboratory.intrinsic+json": {
              "type": "string"
            },
            "text/plain": [
              "'132/180'"
            ]
          },
          "metadata": {
            "tags": []
          }
        },
        {
          "output_type": "stream",
          "text": [
            "2021-07-23 08:37:28\n",
            "instagram/2021-07-23_08-37-28_UTC.jpg [what would i do in this situa…] json \n"
          ],
          "name": "stdout"
        },
        {
          "output_type": "display_data",
          "data": {
            "application/vnd.google.colaboratory.intrinsic+json": {
              "type": "string"
            },
            "text/plain": [
              "'133/180'"
            ]
          },
          "metadata": {
            "tags": []
          }
        },
        {
          "output_type": "stream",
          "text": [
            "2021-07-23 08:35:40\n",
            "instagram/2021-07-23_08-35-40_UTC.jpg [do you actually want to trans…] json \n"
          ],
          "name": "stdout"
        },
        {
          "output_type": "display_data",
          "data": {
            "application/vnd.google.colaboratory.intrinsic+json": {
              "type": "string"
            },
            "text/plain": [
              "'134/180'"
            ]
          },
          "metadata": {
            "tags": []
          }
        },
        {
          "output_type": "stream",
          "text": [
            "2021-07-23 08:34:39\n",
            "instagram/2021-07-23_08-34-39_UTC.jpg [I've already made my peace wi…] json \n"
          ],
          "name": "stdout"
        },
        {
          "output_type": "display_data",
          "data": {
            "application/vnd.google.colaboratory.intrinsic+json": {
              "type": "string"
            },
            "text/plain": [
              "'135/180'"
            ]
          },
          "metadata": {
            "tags": []
          }
        },
        {
          "output_type": "stream",
          "text": [
            "2021-07-22 17:30:06\n",
            "instagram/2021-07-22_17-30-06_UTC.jpg [The \"you make me happy\" Part …] json \n"
          ],
          "name": "stdout"
        },
        {
          "output_type": "display_data",
          "data": {
            "application/vnd.google.colaboratory.intrinsic+json": {
              "type": "string"
            },
            "text/plain": [
              "'136/180'"
            ]
          },
          "metadata": {
            "tags": []
          }
        },
        {
          "output_type": "stream",
          "text": [
            "2021-07-22 17:28:14\n",
            "instagram/2021-07-22_17-28-14_UTC.jpg [💐🌷🌹🥀🌻🌼🌸🌺] json \n"
          ],
          "name": "stdout"
        },
        {
          "output_type": "display_data",
          "data": {
            "application/vnd.google.colaboratory.intrinsic+json": {
              "type": "string"
            },
            "text/plain": [
              "'137/180'"
            ]
          },
          "metadata": {
            "tags": []
          }
        },
        {
          "output_type": "stream",
          "text": [
            "2021-07-22 17:27:45\n",
            "instagram/2021-07-22_17-27-45_UTC.jpg [If you say so anon] json \n"
          ],
          "name": "stdout"
        },
        {
          "output_type": "display_data",
          "data": {
            "application/vnd.google.colaboratory.intrinsic+json": {
              "type": "string"
            },
            "text/plain": [
              "'138/180'"
            ]
          },
          "metadata": {
            "tags": []
          }
        },
        {
          "output_type": "stream",
          "text": [
            "2021-07-22 17:27:13\n",
            "instagram/2021-07-22_17-27-13_UTC.jpg [Help them out people!!] json \n"
          ],
          "name": "stdout"
        },
        {
          "output_type": "display_data",
          "data": {
            "application/vnd.google.colaboratory.intrinsic+json": {
              "type": "string"
            },
            "text/plain": [
              "'139/180'"
            ]
          },
          "metadata": {
            "tags": []
          }
        },
        {
          "output_type": "stream",
          "text": [
            "2021-07-22 17:26:46\n",
            "instagram/2021-07-22_17-26-46_UTC.jpg [Are you lost babi gurl] json \n"
          ],
          "name": "stdout"
        },
        {
          "output_type": "display_data",
          "data": {
            "application/vnd.google.colaboratory.intrinsic+json": {
              "type": "string"
            },
            "text/plain": [
              "'140/180'"
            ]
          },
          "metadata": {
            "tags": []
          }
        },
        {
          "output_type": "stream",
          "text": [
            "2021-07-22 17:25:48\n",
            "instagram/2021-07-22_17-25-48_UTC.jpg [Hey! The first step is recogn…] json \n"
          ],
          "name": "stdout"
        },
        {
          "output_type": "display_data",
          "data": {
            "application/vnd.google.colaboratory.intrinsic+json": {
              "type": "string"
            },
            "text/plain": [
              "'141/180'"
            ]
          },
          "metadata": {
            "tags": []
          }
        },
        {
          "output_type": "stream",
          "text": [
            "2021-07-21 19:15:32\n",
            "instagram/2021-07-21_19-15-32_UTC.jpg [What is this white people hyg…] json \n"
          ],
          "name": "stdout"
        },
        {
          "output_type": "display_data",
          "data": {
            "application/vnd.google.colaboratory.intrinsic+json": {
              "type": "string"
            },
            "text/plain": [
              "'142/180'"
            ]
          },
          "metadata": {
            "tags": []
          }
        },
        {
          "output_type": "stream",
          "text": [
            "2021-07-21 13:26:27\n",
            "instagram/2021-07-21_13-26-27_UTC.jpg [That's one badass legend 😤 . …] json \n"
          ],
          "name": "stdout"
        },
        {
          "output_type": "display_data",
          "data": {
            "application/vnd.google.colaboratory.intrinsic+json": {
              "type": "string"
            },
            "text/plain": [
              "'143/180'"
            ]
          },
          "metadata": {
            "tags": []
          }
        },
        {
          "output_type": "stream",
          "text": [
            "2021-07-21 08:31:19\n",
            "instagram/2021-07-21_08-31-19_UTC_1.jpg instagram/2021-07-21_08-31-19_UTC_2.jpg instagram/2021-07-21_08-31-19_UTC_3.jpg instagram/2021-07-21_08-31-19_UTC_4.jpg [Thank you so much everyone 🥰 …] json \n"
          ],
          "name": "stdout"
        },
        {
          "output_type": "display_data",
          "data": {
            "application/vnd.google.colaboratory.intrinsic+json": {
              "type": "string"
            },
            "text/plain": [
              "'144/180'"
            ]
          },
          "metadata": {
            "tags": []
          }
        },
        {
          "output_type": "stream",
          "text": [
            "2021-07-21 07:57:40\n",
            "instagram/2021-07-21_07-57-40_UTC.jpg [I feel it too anon. The FOMO …] json \n"
          ],
          "name": "stdout"
        },
        {
          "output_type": "display_data",
          "data": {
            "application/vnd.google.colaboratory.intrinsic+json": {
              "type": "string"
            },
            "text/plain": [
              "'145/180'"
            ]
          },
          "metadata": {
            "tags": []
          }
        },
        {
          "output_type": "stream",
          "text": [
            "2021-07-21 07:44:56\n",
            "instagram/2021-07-21_07-44-56_UTC_1.jpg instagram/2021-07-21_07-44-56_UTC_2.jpg instagram/2021-07-21_07-44-56_UTC_3.jpg [💅] json \n"
          ],
          "name": "stdout"
        },
        {
          "output_type": "display_data",
          "data": {
            "application/vnd.google.colaboratory.intrinsic+json": {
              "type": "string"
            },
            "text/plain": [
              "'146/180'"
            ]
          },
          "metadata": {
            "tags": []
          }
        },
        {
          "output_type": "stream",
          "text": [
            "2021-07-20 14:21:21\n",
            "instagram/2021-07-20_14-21-21_UTC_1.jpg instagram/2021-07-20_14-21-21_UTC_2.jpg json \n"
          ],
          "name": "stdout"
        },
        {
          "output_type": "display_data",
          "data": {
            "application/vnd.google.colaboratory.intrinsic+json": {
              "type": "string"
            },
            "text/plain": [
              "'147/180'"
            ]
          },
          "metadata": {
            "tags": []
          }
        },
        {
          "output_type": "stream",
          "text": [
            "2021-07-20 14:20:13\n",
            "instagram/2021-07-20_14-20-13_UTC.jpg [Or like burning flesh] json \n"
          ],
          "name": "stdout"
        },
        {
          "output_type": "display_data",
          "data": {
            "application/vnd.google.colaboratory.intrinsic+json": {
              "type": "string"
            },
            "text/plain": [
              "'148/180'"
            ]
          },
          "metadata": {
            "tags": []
          }
        },
        {
          "output_type": "stream",
          "text": [
            "2021-07-20 13:59:58\n",
            "instagram/2021-07-20_13-59-58_UTC.jpg [Ooof] json \n"
          ],
          "name": "stdout"
        },
        {
          "output_type": "display_data",
          "data": {
            "application/vnd.google.colaboratory.intrinsic+json": {
              "type": "string"
            },
            "text/plain": [
              "'149/180'"
            ]
          },
          "metadata": {
            "tags": []
          }
        },
        {
          "output_type": "stream",
          "text": [
            "2021-07-20 13:59:14\n",
            "instagram/2021-07-20_13-59-14_UTC.jpg [Good luck with that 🥰] json \n"
          ],
          "name": "stdout"
        },
        {
          "output_type": "display_data",
          "data": {
            "application/vnd.google.colaboratory.intrinsic+json": {
              "type": "string"
            },
            "text/plain": [
              "'150/180'"
            ]
          },
          "metadata": {
            "tags": []
          }
        },
        {
          "output_type": "stream",
          "text": [
            "2021-07-20 13:57:09\n",
            "instagram/2021-07-20_13-57-09_UTC.jpg [My favourite Faridabad person…] json \n"
          ],
          "name": "stdout"
        },
        {
          "output_type": "display_data",
          "data": {
            "application/vnd.google.colaboratory.intrinsic+json": {
              "type": "string"
            },
            "text/plain": [
              "'151/180'"
            ]
          },
          "metadata": {
            "tags": []
          }
        },
        {
          "output_type": "stream",
          "text": [
            "2021-07-20 13:56:11\n",
            "instagram/2021-07-20_13-56-11_UTC.jpg [Ashoka*] json \n"
          ],
          "name": "stdout"
        },
        {
          "output_type": "display_data",
          "data": {
            "application/vnd.google.colaboratory.intrinsic+json": {
              "type": "string"
            },
            "text/plain": [
              "'152/180'"
            ]
          },
          "metadata": {
            "tags": []
          }
        },
        {
          "output_type": "stream",
          "text": [
            "2021-07-20 13:55:49\n",
            "instagram/2021-07-20_13-55-49_UTC.jpg [Wow, okay.] json \n"
          ],
          "name": "stdout"
        },
        {
          "output_type": "display_data",
          "data": {
            "application/vnd.google.colaboratory.intrinsic+json": {
              "type": "string"
            },
            "text/plain": [
              "'153/180'"
            ]
          },
          "metadata": {
            "tags": []
          }
        },
        {
          "output_type": "stream",
          "text": [
            "2021-07-20 13:54:25\n",
            "instagram/2021-07-20_13-54-25_UTC.jpg [Night owls, rise!!] json \n"
          ],
          "name": "stdout"
        },
        {
          "output_type": "display_data",
          "data": {
            "application/vnd.google.colaboratory.intrinsic+json": {
              "type": "string"
            },
            "text/plain": [
              "'154/180'"
            ]
          },
          "metadata": {
            "tags": []
          }
        },
        {
          "output_type": "stream",
          "text": [
            "2021-07-20 13:53:50\n",
            "instagram/2021-07-20_13-53-50_UTC.jpg [I get you, trust me I do 😩] json \n"
          ],
          "name": "stdout"
        },
        {
          "output_type": "display_data",
          "data": {
            "application/vnd.google.colaboratory.intrinsic+json": {
              "type": "string"
            },
            "text/plain": [
              "'155/180'"
            ]
          },
          "metadata": {
            "tags": []
          }
        },
        {
          "output_type": "stream",
          "text": [
            "2021-07-19 14:45:42\n",
            "instagram/2021-07-19_14-45-42_UTC.jpg [I would have advice if I wasn…] instagram/2021-07-19_14-45-42_UTC.mp4 json \n"
          ],
          "name": "stdout"
        },
        {
          "output_type": "display_data",
          "data": {
            "application/vnd.google.colaboratory.intrinsic+json": {
              "type": "string"
            },
            "text/plain": [
              "'156/180'"
            ]
          },
          "metadata": {
            "tags": []
          }
        },
        {
          "output_type": "stream",
          "text": [
            "2021-07-19 11:58:23\n",
            "instagram/2021-07-19_11-58-23_UTC.jpg [Now THIS is wholesome 😭 I'll …] json \n"
          ],
          "name": "stdout"
        },
        {
          "output_type": "display_data",
          "data": {
            "application/vnd.google.colaboratory.intrinsic+json": {
              "type": "string"
            },
            "text/plain": [
              "'157/180'"
            ]
          },
          "metadata": {
            "tags": []
          }
        },
        {
          "output_type": "stream",
          "text": [
            "2021-07-19 11:34:49\n",
            "instagram/2021-07-19_11-34-49_UTC.jpg [What she said.] json \n"
          ],
          "name": "stdout"
        },
        {
          "output_type": "display_data",
          "data": {
            "application/vnd.google.colaboratory.intrinsic+json": {
              "type": "string"
            },
            "text/plain": [
              "'158/180'"
            ]
          },
          "metadata": {
            "tags": []
          }
        },
        {
          "output_type": "stream",
          "text": [
            "2021-07-19 10:36:51\n",
            "instagram/2021-07-19_10-36-51_UTC.jpg [Ok] json \n"
          ],
          "name": "stdout"
        },
        {
          "output_type": "display_data",
          "data": {
            "application/vnd.google.colaboratory.intrinsic+json": {
              "type": "string"
            },
            "text/plain": [
              "'159/180'"
            ]
          },
          "metadata": {
            "tags": []
          }
        },
        {
          "output_type": "stream",
          "text": [
            "2021-07-19 10:10:16\n",
            "instagram/2021-07-19_10-10-16_UTC.jpg [Imagine falling face first in…] json \n"
          ],
          "name": "stdout"
        },
        {
          "output_type": "display_data",
          "data": {
            "application/vnd.google.colaboratory.intrinsic+json": {
              "type": "string"
            },
            "text/plain": [
              "'160/180'"
            ]
          },
          "metadata": {
            "tags": []
          }
        },
        {
          "output_type": "stream",
          "text": [
            "2021-07-19 09:48:10\n",
            "instagram/2021-07-19_09-48-10_UTC.jpg [This is what I aspire to be :…] json \n"
          ],
          "name": "stdout"
        },
        {
          "output_type": "display_data",
          "data": {
            "application/vnd.google.colaboratory.intrinsic+json": {
              "type": "string"
            },
            "text/plain": [
              "'161/180'"
            ]
          },
          "metadata": {
            "tags": []
          }
        },
        {
          "output_type": "stream",
          "text": [
            "2021-07-19 08:40:24\n",
            "instagram/2021-07-19_08-40-24_UTC.jpg [I am rooting for you anon 🌷 G…] json \n"
          ],
          "name": "stdout"
        },
        {
          "output_type": "display_data",
          "data": {
            "application/vnd.google.colaboratory.intrinsic+json": {
              "type": "string"
            },
            "text/plain": [
              "'162/180'"
            ]
          },
          "metadata": {
            "tags": []
          }
        },
        {
          "output_type": "stream",
          "text": [
            "2021-07-17 09:45:27\n",
            "instagram/2021-07-17_09-45-27_UTC.jpg [IKR 😶😶] json \n"
          ],
          "name": "stdout"
        },
        {
          "output_type": "display_data",
          "data": {
            "application/vnd.google.colaboratory.intrinsic+json": {
              "type": "string"
            },
            "text/plain": [
              "'163/180'"
            ]
          },
          "metadata": {
            "tags": []
          }
        },
        {
          "output_type": "stream",
          "text": [
            "2021-07-17 09:44:52\n",
            "instagram/2021-07-17_09-44-52_UTC.jpg [So, hey. I'm so glad and prou…] json \n"
          ],
          "name": "stdout"
        },
        {
          "output_type": "display_data",
          "data": {
            "application/vnd.google.colaboratory.intrinsic+json": {
              "type": "string"
            },
            "text/plain": [
              "'164/180'"
            ]
          },
          "metadata": {
            "tags": []
          }
        },
        {
          "output_type": "stream",
          "text": [
            "2021-07-17 09:41:45\n",
            "instagram/2021-07-17_09-41-45_UTC.jpg [I think it depends on the tim…] json \n"
          ],
          "name": "stdout"
        },
        {
          "output_type": "display_data",
          "data": {
            "application/vnd.google.colaboratory.intrinsic+json": {
              "type": "string"
            },
            "text/plain": [
              "'165/180'"
            ]
          },
          "metadata": {
            "tags": []
          }
        },
        {
          "output_type": "stream",
          "text": [
            "2021-07-17 09:40:50\n",
            "instagram/2021-07-17_09-40-50_UTC.jpg [I'm sorry, anon. But have you…] json \n"
          ],
          "name": "stdout"
        },
        {
          "output_type": "display_data",
          "data": {
            "application/vnd.google.colaboratory.intrinsic+json": {
              "type": "string"
            },
            "text/plain": [
              "'166/180'"
            ]
          },
          "metadata": {
            "tags": []
          }
        },
        {
          "output_type": "stream",
          "text": [
            "2021-07-17 09:40:04\n",
            "instagram/2021-07-17_09-40-04_UTC.jpg [Don't do that. Don't give me …] json \n"
          ],
          "name": "stdout"
        },
        {
          "output_type": "display_data",
          "data": {
            "application/vnd.google.colaboratory.intrinsic+json": {
              "type": "string"
            },
            "text/plain": [
              "'167/180'"
            ]
          },
          "metadata": {
            "tags": []
          }
        },
        {
          "output_type": "stream",
          "text": [
            "2021-07-17 09:39:15\n",
            "instagram/2021-07-17_09-39-15_UTC.jpg [what anon said🥰] json \n"
          ],
          "name": "stdout"
        },
        {
          "output_type": "display_data",
          "data": {
            "application/vnd.google.colaboratory.intrinsic+json": {
              "type": "string"
            },
            "text/plain": [
              "'168/180'"
            ]
          },
          "metadata": {
            "tags": []
          }
        },
        {
          "output_type": "stream",
          "text": [
            "2021-07-17 09:38:37\n",
            "instagram/2021-07-17_09-38-37_UTC.jpg [Oh well] json \n"
          ],
          "name": "stdout"
        },
        {
          "output_type": "display_data",
          "data": {
            "application/vnd.google.colaboratory.intrinsic+json": {
              "type": "string"
            },
            "text/plain": [
              "'169/180'"
            ]
          },
          "metadata": {
            "tags": []
          }
        },
        {
          "output_type": "stream",
          "text": [
            "2021-07-17 09:38:16\n",
            "instagram/2021-07-17_09-38-16_UTC.jpg [Corrections :  •Some people i…] json \n"
          ],
          "name": "stdout"
        },
        {
          "output_type": "display_data",
          "data": {
            "application/vnd.google.colaboratory.intrinsic+json": {
              "type": "string"
            },
            "text/plain": [
              "'170/180'"
            ]
          },
          "metadata": {
            "tags": []
          }
        },
        {
          "output_type": "stream",
          "text": [
            "2021-07-17 09:37:15\n",
            "instagram/2021-07-17_09-37-15_UTC.jpg [Thanks anon. Appreciate 🥰] instagram/2021-07-17_09-37-15_UTC.mp4 json \n"
          ],
          "name": "stdout"
        },
        {
          "output_type": "display_data",
          "data": {
            "application/vnd.google.colaboratory.intrinsic+json": {
              "type": "string"
            },
            "text/plain": [
              "'171/180'"
            ]
          },
          "metadata": {
            "tags": []
          }
        },
        {
          "output_type": "stream",
          "text": [
            "2021-07-16 11:07:27\n",
            "instagram/2021-07-16_11-07-27_UTC.jpg [I don't have a date and I don…] json \n"
          ],
          "name": "stdout"
        },
        {
          "output_type": "display_data",
          "data": {
            "application/vnd.google.colaboratory.intrinsic+json": {
              "type": "string"
            },
            "text/plain": [
              "'172/180'"
            ]
          },
          "metadata": {
            "tags": []
          }
        },
        {
          "output_type": "stream",
          "text": [
            "2021-07-16 11:06:26\n",
            "instagram/2021-07-16_11-06-26_UTC.jpg [Gate ke bahar dharna lagate h…] json \n"
          ],
          "name": "stdout"
        },
        {
          "output_type": "display_data",
          "data": {
            "application/vnd.google.colaboratory.intrinsic+json": {
              "type": "string"
            },
            "text/plain": [
              "'173/180'"
            ]
          },
          "metadata": {
            "tags": []
          }
        },
        {
          "output_type": "stream",
          "text": [
            "2021-07-16 11:05:25\n",
            "instagram/2021-07-16_11-05-25_UTC.jpg [Honestly being in Ashoka just…] json \n"
          ],
          "name": "stdout"
        },
        {
          "output_type": "display_data",
          "data": {
            "application/vnd.google.colaboratory.intrinsic+json": {
              "type": "string"
            },
            "text/plain": [
              "'174/180'"
            ]
          },
          "metadata": {
            "tags": []
          }
        },
        {
          "output_type": "stream",
          "text": [
            "2021-07-16 11:03:51\n",
            "instagram/2021-07-16_11-03-51_UTC.jpg [OHMYGOD ME] json \n"
          ],
          "name": "stdout"
        },
        {
          "output_type": "display_data",
          "data": {
            "application/vnd.google.colaboratory.intrinsic+json": {
              "type": "string"
            },
            "text/plain": [
              "'175/180'"
            ]
          },
          "metadata": {
            "tags": []
          }
        },
        {
          "output_type": "stream",
          "text": [
            "2021-07-16 11:03:15\n",
            "instagram/2021-07-16_11-03-15_UTC.jpg [Y'all have the guts to do that?] json \n"
          ],
          "name": "stdout"
        },
        {
          "output_type": "display_data",
          "data": {
            "application/vnd.google.colaboratory.intrinsic+json": {
              "type": "string"
            },
            "text/plain": [
              "'176/180'"
            ]
          },
          "metadata": {
            "tags": []
          }
        },
        {
          "output_type": "stream",
          "text": [
            "2021-07-16 11:02:37\n",
            "instagram/2021-07-16_11-02-37_UTC.jpg [ke dil abhi, bhara nahi...] json \n"
          ],
          "name": "stdout"
        },
        {
          "output_type": "display_data",
          "data": {
            "application/vnd.google.colaboratory.intrinsic+json": {
              "type": "string"
            },
            "text/plain": [
              "'177/180'"
            ]
          },
          "metadata": {
            "tags": []
          }
        },
        {
          "output_type": "stream",
          "text": [
            "2021-07-16 11:01:34\n",
            "instagram/2021-07-16_11-01-34_UTC.jpg [Why doesn't people capitalisi…] instagram/2021-07-16_11-01-34_UTC.mp4 json \n"
          ],
          "name": "stdout"
        },
        {
          "output_type": "display_data",
          "data": {
            "application/vnd.google.colaboratory.intrinsic+json": {
              "type": "string"
            },
            "text/plain": [
              "'178/180'"
            ]
          },
          "metadata": {
            "tags": []
          }
        },
        {
          "output_type": "stream",
          "text": [
            "2021-07-16 11:00:00\n",
            "instagram/2021-07-16_11-00-00_UTC.jpg [I love how every rant on this…] json \n"
          ],
          "name": "stdout"
        },
        {
          "output_type": "display_data",
          "data": {
            "application/vnd.google.colaboratory.intrinsic+json": {
              "type": "string"
            },
            "text/plain": [
              "'179/180'"
            ]
          },
          "metadata": {
            "tags": []
          }
        },
        {
          "output_type": "stream",
          "text": [
            "2021-07-16 10:58:58\n",
            "instagram/2021-07-16_10-58-58_UTC.jpg [And guess what, it's a bop] json \n"
          ],
          "name": "stdout"
        }
      ]
    },
    {
      "cell_type": "code",
      "metadata": {
        "id": "3s-LVrpQyWO2",
        "colab": {
          "base_uri": "https://localhost:8080/"
        },
        "outputId": "6ae6f551-4060-4e42-83e3-b19dd654e34b"
      },
      "source": [
        "image_list=[]\n",
        "\n",
        "for file in os.listdir(\"/content/instagram\"):\n",
        "    if file.endswith(\".jpg\"):\n",
        "        image_list.append(os.path.join(\"/content/instagram\", file))\n",
        "\n",
        "\n",
        "def reduce_key(fn):\n",
        "    # you can change this according to your definition of \"similar\"\n",
        "    return re.sub('_\\d', '', fn)\n",
        "\n",
        "from collections import defaultdict\n",
        "# this holds the grouped filenames\n",
        "group_dict = defaultdict(list)\n",
        "for fn in image_list:\n",
        "    key = reduce_key(fn)\n",
        "    group_dict[key].append(fn)\n",
        "\n",
        "\n",
        "image_list = list(group_dict.values())\n",
        "\n",
        "len(image_list)"
      ],
      "execution_count": 7,
      "outputs": [
        {
          "output_type": "execute_result",
          "data": {
            "text/plain": [
              "180"
            ]
          },
          "metadata": {
            "tags": []
          },
          "execution_count": 7
        }
      ]
    },
    {
      "cell_type": "markdown",
      "metadata": {
        "id": "l2jWwST-yNUK"
      },
      "source": [
        "Extracting Texts"
      ]
    },
    {
      "cell_type": "code",
      "metadata": {
        "id": "6IarrbH0yx0F"
      },
      "source": [
        "'''\n",
        "Authenticate\n",
        "Authenticates your credentials and creates a client.\n",
        "'''\n",
        "subscription_key = \"ab1b27f9f3fe48a6aac6b3de0224e94a\"\n",
        "endpoint = \"https://ragul.cognitiveservices.azure.com/\"\n",
        "\n",
        "\n",
        "computervision_client = ComputerVisionClient(endpoint, CognitiveServicesCredentials(subscription_key))\n",
        "\n",
        "\n",
        "\n",
        "def read_image(read_image_path):\n",
        "\n",
        "    # Open the image\n",
        "    read_image = open(read_image_path, \"rb\")\n",
        "\n",
        "    # Call API with image and raw response (allows you to get the operation location)\n",
        "    read_response = computervision_client.read_in_stream(read_image, raw=True)\n",
        "    # Get the operation location (URL with ID as last appendage)\n",
        "    read_operation_location = read_response.headers[\"Operation-Location\"]\n",
        "    # Take the ID off and use to get results\n",
        "    operation_id = read_operation_location.split(\"/\")[-1]\n",
        "\n",
        "    # Call the \"GET\" API and wait for the retrieval of the results\n",
        "    while True:\n",
        "        read_result = computervision_client.get_read_result(operation_id)\n",
        "        if read_result.status.lower () not in ['notstarted', 'running']:\n",
        "            break\n",
        "        \n",
        "    # Print results, line by line\n",
        "    string=\"\"\n",
        "    \n",
        "    if read_result.status == OperationStatusCodes.succeeded:\n",
        "        for text_result in read_result.analyze_result.read_results:\n",
        "            for line in text_result.lines:\n",
        "                string = string + \" \" + line.text\n",
        "                #print(line.bounding_box)\n",
        "    return string"
      ],
      "execution_count": 8,
      "outputs": []
    },
    {
      "cell_type": "code",
      "metadata": {
        "id": "swarexgyzh-S",
        "colab": {
          "base_uri": "https://localhost:8080/",
          "height": 35
        },
        "outputId": "1412672f-6ad6-4a43-896e-e1e14f1ef4da"
      },
      "source": [
        "rants=[]\n",
        "\n",
        "count=0\n",
        "length= str(len(image_list))\n",
        "info = display(\"No of files compleated: \"+str(count) + \"/\"+ length, display_id=True)\n",
        "\n",
        "for images in image_list:\n",
        "\n",
        "    match = re.search(r'\\d{4}-\\d{2}-\\d{2}', images[0])\n",
        "    date = datetime.strptime(match.group(), '%Y-%m-%d').date()\n",
        "    id = re.search(r'\\d{4}-\\d{2}-\\d{2}_\\d{2}-\\d{2}-\\d{2}', images[0]).group()\n",
        "    \n",
        "\n",
        "    rant=\"\"\n",
        "    for image in sorted(images):\n",
        "        rant += read_image(image)\n",
        "\n",
        "    rants.append({\"id\":id, \"date\":date, \"rant\":rant})\n",
        "\n",
        "    count+=1\n",
        "    info.update(\"No of files compleated: \"+str(count) + \"/\"+ length)\n",
        "\n",
        "      "
      ],
      "execution_count": 9,
      "outputs": [
        {
          "output_type": "display_data",
          "data": {
            "application/vnd.google.colaboratory.intrinsic+json": {
              "type": "string"
            },
            "text/plain": [
              "'No of files compleated: 180/180'"
            ]
          },
          "metadata": {
            "tags": []
          }
        }
      ]
    },
    {
      "cell_type": "markdown",
      "metadata": {
        "id": "9QBwg6-D1PZ3"
      },
      "source": [
        "## Text Analysis"
      ]
    },
    {
      "cell_type": "code",
      "metadata": {
        "colab": {
          "base_uri": "https://localhost:8080/",
          "height": 35
        },
        "id": "XHI-19xRz2vb",
        "outputId": "caa4810a-67e8-4c4d-e3df-5f9c4c920c81"
      },
      "source": [
        "key = \"384eb6ff06b9458bb15231adce28ba5f\"\n",
        "endpoint = \"https://ragul-text.cognitiveservices.azure.com/\"\n",
        "\n",
        "from azure.ai.textanalytics import TextAnalyticsClient\n",
        "from azure.core.credentials import AzureKeyCredential\n",
        "\n",
        "def authenticate_client():\n",
        "    ta_credential = AzureKeyCredential(key)\n",
        "    text_analytics_client = TextAnalyticsClient(\n",
        "            endpoint=endpoint, \n",
        "            credential=ta_credential)\n",
        "    return text_analytics_client\n",
        "\n",
        "client = authenticate_client()\n",
        "\n",
        "\n",
        "\n",
        "def sentiment_analysis(rant, client):\n",
        "\n",
        "    length=len(rant)\n",
        "    if length  != 0:\n",
        "\n",
        "        if length > 5120:\n",
        "            rant=rant[:5120]\n",
        "\n",
        "        documents = [rant]\n",
        "        response = client.analyze_sentiment(documents=documents)[0]\n",
        "        \n",
        "        sentiment= {\n",
        "            \"positive\":response.confidence_scores.positive,\n",
        "            \"neutral\":response.confidence_scores.neutral,\n",
        "            \"negative\":response.confidence_scores.negative,\n",
        "        }\n",
        "\n",
        "        return sentiment\n",
        "    else:\n",
        "        return {\n",
        "            \"positive\":np.nan,\n",
        "            \"neutral\":np.nan,\n",
        "            \"negative\":np.nan,\n",
        "        }\n",
        "\n",
        "\n",
        "sentiments=[]\n",
        "\n",
        "count=0\n",
        "length= str(len(image_list))\n",
        "info = display(str(count) + \"/\"+ length, display_id=True)\n",
        "\n",
        "\n",
        "for rant in rants:\n",
        "\n",
        "    sentiment = sentiment_analysis(rant[\"rant\"], client)\n",
        "    rant.update(sentiment)\n",
        "    sentiments.append(rant)\n",
        "\n",
        "    count+=1\n",
        "    info.update(str(count) + \"/\"+ length)\n",
        "\n"
      ],
      "execution_count": 10,
      "outputs": [
        {
          "output_type": "display_data",
          "data": {
            "application/vnd.google.colaboratory.intrinsic+json": {
              "type": "string"
            },
            "text/plain": [
              "'180/180'"
            ]
          },
          "metadata": {
            "tags": []
          }
        }
      ]
    },
    {
      "cell_type": "code",
      "metadata": {
        "colab": {
          "base_uri": "https://localhost:8080/",
          "height": 434
        },
        "id": "pQzEuJur1n_Z",
        "outputId": "337f9d79-0f05-41b2-83c9-cbbed9d7f916"
      },
      "source": [
        "\n",
        "data= pd.DataFrame(sentiments)\n",
        "\n",
        "old_data= pd.read_csv(\"/content/drive/MyDrive/au.rants.23/sentiments.csv\")\n",
        "old_data[\"date\"]= pd.to_datetime(old_data.date)\n",
        "old_data= old_data[SINCE > old_data.date]\n",
        "\n",
        "new_data = pd.concat([data, old_data], ignore_index=True)\n",
        "\n",
        "new_data.to_csv(\"/content/drive/MyDrive/au.rants.23/sentiments.csv\")\n",
        "new_data"
      ],
      "execution_count": 31,
      "outputs": [
        {
          "output_type": "execute_result",
          "data": {
            "text/html": [
              "<div>\n",
              "<style scoped>\n",
              "    .dataframe tbody tr th:only-of-type {\n",
              "        vertical-align: middle;\n",
              "    }\n",
              "\n",
              "    .dataframe tbody tr th {\n",
              "        vertical-align: top;\n",
              "    }\n",
              "\n",
              "    .dataframe thead th {\n",
              "        text-align: right;\n",
              "    }\n",
              "</style>\n",
              "<table border=\"1\" class=\"dataframe\">\n",
              "  <thead>\n",
              "    <tr style=\"text-align: right;\">\n",
              "      <th></th>\n",
              "      <th>id</th>\n",
              "      <th>date</th>\n",
              "      <th>rant</th>\n",
              "      <th>positive</th>\n",
              "      <th>neutral</th>\n",
              "      <th>negative</th>\n",
              "      <th>Unnamed: 0</th>\n",
              "    </tr>\n",
              "  </thead>\n",
              "  <tbody>\n",
              "    <tr>\n",
              "      <th>0</th>\n",
              "      <td>2021-07-23_08-39-23</td>\n",
              "      <td>2021-07-23</td>\n",
              "      <td>Why does everyone hate cis-het males? Like ju...</td>\n",
              "      <td>0.00</td>\n",
              "      <td>0.00</td>\n",
              "      <td>1.00</td>\n",
              "      <td>NaN</td>\n",
              "    </tr>\n",
              "    <tr>\n",
              "      <th>1</th>\n",
              "      <td>2021-07-30_07-07-32</td>\n",
              "      <td>2021-07-30</td>\n",
              "      <td>How to pursue gender studies at ashoka? Like ...</td>\n",
              "      <td>0.67</td>\n",
              "      <td>0.30</td>\n",
              "      <td>0.03</td>\n",
              "      <td>NaN</td>\n",
              "    </tr>\n",
              "    <tr>\n",
              "      <th>2</th>\n",
              "      <td>2021-07-23_08-50-40</td>\n",
              "      <td>2021-07-23</td>\n",
              "      <td>I feel like shit.</td>\n",
              "      <td>0.00</td>\n",
              "      <td>0.00</td>\n",
              "      <td>1.00</td>\n",
              "      <td>NaN</td>\n",
              "    </tr>\n",
              "    <tr>\n",
              "      <th>3</th>\n",
              "      <td>2021-07-23_09-12-08</td>\n",
              "      <td>2021-07-23</td>\n",
              "      <td>For people who're transferring out, which uni...</td>\n",
              "      <td>0.14</td>\n",
              "      <td>0.84</td>\n",
              "      <td>0.02</td>\n",
              "      <td>NaN</td>\n",
              "    </tr>\n",
              "    <tr>\n",
              "      <th>4</th>\n",
              "      <td>2021-07-23_08-46-10</td>\n",
              "      <td>2021-07-23</td>\n",
              "      <td>I wanna be a cohort leader. Anyone knows when...</td>\n",
              "      <td>0.24</td>\n",
              "      <td>0.73</td>\n",
              "      <td>0.03</td>\n",
              "      <td>NaN</td>\n",
              "    </tr>\n",
              "    <tr>\n",
              "      <th>...</th>\n",
              "      <td>...</td>\n",
              "      <td>...</td>\n",
              "      <td>...</td>\n",
              "      <td>...</td>\n",
              "      <td>...</td>\n",
              "      <td>...</td>\n",
              "      <td>...</td>\n",
              "    </tr>\n",
              "    <tr>\n",
              "      <th>1409</th>\n",
              "      <td>2021-05-23_06-40-54</td>\n",
              "      <td>2021-05-23 00:00:00</td>\n",
              "      <td>Quite unsettled with CASH. Not seen the campu...</td>\n",
              "      <td>0.00</td>\n",
              "      <td>0.02</td>\n",
              "      <td>0.98</td>\n",
              "      <td>1238.0</td>\n",
              "    </tr>\n",
              "    <tr>\n",
              "      <th>1410</th>\n",
              "      <td>2021-05-23_06-42-42</td>\n",
              "      <td>2021-05-23 00:00:00</td>\n",
              "      <td>Should we be mentally preparing for another s...</td>\n",
              "      <td>0.16</td>\n",
              "      <td>0.46</td>\n",
              "      <td>0.38</td>\n",
              "      <td>1239.0</td>\n",
              "    </tr>\n",
              "    <tr>\n",
              "      <th>1411</th>\n",
              "      <td>2021-05-23_06-44-00</td>\n",
              "      <td>2021-05-23 00:00:00</td>\n",
              "      <td>does anyone else likeo sea shanties</td>\n",
              "      <td>0.00</td>\n",
              "      <td>0.99</td>\n",
              "      <td>0.01</td>\n",
              "      <td>1240.0</td>\n",
              "    </tr>\n",
              "    <tr>\n",
              "      <th>1412</th>\n",
              "      <td>2021-05-23_06-45-26</td>\n",
              "      <td>2021-05-23 00:00:00</td>\n",
              "      <td>Does anyone else feel that CBSE and state boa...</td>\n",
              "      <td>0.06</td>\n",
              "      <td>0.55</td>\n",
              "      <td>0.39</td>\n",
              "      <td>1241.0</td>\n",
              "    </tr>\n",
              "    <tr>\n",
              "      <th>1413</th>\n",
              "      <td>2021-05-23_06-48-11</td>\n",
              "      <td>2021-05-23 00:00:00</td>\n",
              "      <td>why do so many people dislike Ashoka and its ...</td>\n",
              "      <td>0.86</td>\n",
              "      <td>0.00</td>\n",
              "      <td>0.14</td>\n",
              "      <td>1242.0</td>\n",
              "    </tr>\n",
              "  </tbody>\n",
              "</table>\n",
              "<p>1414 rows × 7 columns</p>\n",
              "</div>"
            ],
            "text/plain": [
              "                       id                 date  ... negative  Unnamed: 0\n",
              "0     2021-07-23_08-39-23           2021-07-23  ...     1.00         NaN\n",
              "1     2021-07-30_07-07-32           2021-07-30  ...     0.03         NaN\n",
              "2     2021-07-23_08-50-40           2021-07-23  ...     1.00         NaN\n",
              "3     2021-07-23_09-12-08           2021-07-23  ...     0.02         NaN\n",
              "4     2021-07-23_08-46-10           2021-07-23  ...     0.03         NaN\n",
              "...                   ...                  ...  ...      ...         ...\n",
              "1409  2021-05-23_06-40-54  2021-05-23 00:00:00  ...     0.98      1238.0\n",
              "1410  2021-05-23_06-42-42  2021-05-23 00:00:00  ...     0.38      1239.0\n",
              "1411  2021-05-23_06-44-00  2021-05-23 00:00:00  ...     0.01      1240.0\n",
              "1412  2021-05-23_06-45-26  2021-05-23 00:00:00  ...     0.39      1241.0\n",
              "1413  2021-05-23_06-48-11  2021-05-23 00:00:00  ...     0.14      1242.0\n",
              "\n",
              "[1414 rows x 7 columns]"
            ]
          },
          "metadata": {
            "tags": []
          },
          "execution_count": 31
        }
      ]
    },
    {
      "cell_type": "markdown",
      "metadata": {
        "id": "9C6aGmHgmeRP"
      },
      "source": [
        "## Opnion Mining"
      ]
    },
    {
      "cell_type": "code",
      "metadata": {
        "colab": {
          "base_uri": "https://localhost:8080/",
          "height": 35
        },
        "id": "1aa0FhxxqtTV",
        "outputId": "862b9000-150c-4021-d0e5-d0f70fbe2306"
      },
      "source": [
        "def opinion_mining(id, date, rant, client):\n",
        "\n",
        "    documents = [rant]\n",
        "\n",
        "    if type(rant) ==type(\"\"):\n",
        "        if len(rant) ==0:\n",
        "            return  None\n",
        "    else:\n",
        "        return None\n",
        "    result = client.analyze_sentiment(documents, show_opinion_mining=True)\n",
        "    doc_result = [doc for doc in result if not doc.is_error]\n",
        "\n",
        "    positive_reviews = [doc for doc in doc_result if doc.sentiment == \"positive\"]\n",
        "    negative_reviews = [doc for doc in doc_result if doc.sentiment == \"negative\"]\n",
        "\n",
        "    positive_mined_opinions = []\n",
        "    mixed_mined_opinions = []\n",
        "    negative_mined_opinions = []\n",
        "\n",
        "    for document in doc_result:\n",
        "        \n",
        "        for sentence in document.sentences:\n",
        "          \n",
        "            for mined_opinion in sentence.mined_opinions:\n",
        "                target = mined_opinion.target\n",
        "\n",
        "                for assessment in mined_opinion.assessments:\n",
        "                    opnion= {\n",
        "                        \"rant_id\": id,\n",
        "                        \"date\":date, \n",
        "                        \"target_text\": target.text,\n",
        "                        \"target_sentiment\":target.sentiment,\n",
        "                        \"assesment_text\":assessment.text,\n",
        "                        \"assesment_sentiment\": assessment.sentiment,\n",
        "\n",
        "                        \"target_positive_score\": target.confidence_scores.positive,\n",
        "                        \"target_negative_score\":target.confidence_scores.negative,\n",
        "                        \"assesment_positive_score\": assessment.confidence_scores.positive,\n",
        "                        \"assesment_negative_score\": assessment.confidence_scores.negative\n",
        "                    }\n",
        "\n",
        "                    return opnion\n",
        "\n",
        "\n",
        "opnions=[]\n",
        "\n",
        "count=0\n",
        "length= str(len(new_data))\n",
        "info = display(\"Compleated: \"+str(count) + \"/\"+ length, display_id=True)   \n",
        "          \n",
        "for (rant, id, date) in new_data.loc[: , [\"rant\", \"id\", \"date\"]].values:\n",
        "    \n",
        "    opnion = opinion_mining(id, date, rant, client)\n",
        "    if opnion != None:\n",
        "        opnions.append(opnion)\n",
        "    count+=1\n",
        "    info.update(str(count) + \"/\"+ length)   \n",
        "\n",
        "    \n",
        "opnions = list(filter(None, opnions))\n"
      ],
      "execution_count": 51,
      "outputs": [
        {
          "output_type": "display_data",
          "data": {
            "application/vnd.google.colaboratory.intrinsic+json": {
              "type": "string"
            },
            "text/plain": [
              "'1414/1414'"
            ]
          },
          "metadata": {
            "tags": []
          }
        }
      ]
    },
    {
      "cell_type": "code",
      "metadata": {
        "id": "A4VbNGskuEDR"
      },
      "source": [
        "\n",
        "old_opnions= pd.read_csv(\"/content/drive/MyDrive/au.rants.23/opnions.csv\")\n",
        "old_opnions[\"date\"]= pd.to_datetime(old_opnions.date)\n",
        "old_opnions= old_opnions[SINCE > old_opnions.date]\n",
        "\n",
        "new_opnions = pd.concat([opnions, old_opnions], ignore_index=True)\n",
        "\n",
        "new_opnions.to_csv(\"/content/drive/MyDrive/au.rants.23/opnions.csv\")\n",
        "new_opnions"
      ],
      "execution_count": null,
      "outputs": []
    },
    {
      "cell_type": "markdown",
      "metadata": {
        "id": "6lXryhXT0RQD"
      },
      "source": [
        "## Likes and comments"
      ]
    },
    {
      "cell_type": "code",
      "metadata": {
        "colab": {
          "base_uri": "https://localhost:8080/",
          "height": 35
        },
        "id": "eRdUOfm6yLA2",
        "outputId": "de86a871-1348-43fe-a98f-6121b2c49810"
      },
      "source": [
        "likes=[]\n",
        "\n",
        "count=0\n",
        "length= str(len(new_data))\n",
        "info = display(\"Compleated: \"+str(count) + \"/\"+ length, display_id=True)  \n",
        "\n",
        "for post in posts:\n",
        "    id = str(post.date_utc).replace(\" \", \"_\")\n",
        "    id = id.replace(\":\", \"-\")\n",
        "    likes.append(dict(id = id, date=post.date.date(), likes = post.likes, comments=post.comments))\n",
        "    \n",
        "    count+=1\n",
        "    info.update(\"Compleated: \"+str(count) + \"/\"+ length)  \n",
        "\n",
        "likes= pd.DataFrame(likes)\n"
      ],
      "execution_count": 60,
      "outputs": [
        {
          "output_type": "display_data",
          "data": {
            "application/vnd.google.colaboratory.intrinsic+json": {
              "type": "string"
            },
            "text/plain": [
              "'Compleated: 1413/1414'"
            ]
          },
          "metadata": {
            "tags": []
          }
        }
      ]
    },
    {
      "cell_type": "code",
      "metadata": {
        "id": "32DRy5ec1kvX"
      },
      "source": [
        "likes.to_csv(\"/content/drive/MyDrive/au.rants.23/likes_and_comments.csv\")\n"
      ],
      "execution_count": 67,
      "outputs": []
    },
    {
      "cell_type": "code",
      "metadata": {
        "colab": {
          "base_uri": "https://localhost:8080/",
          "height": 35
        },
        "id": "D5gm9Kaz0gT-",
        "outputId": "83f51159-f415-4ad8-e128-76fe57676ca7"
      },
      "source": [
        "old_likes= pd.read_csv(\"/content/drive/MyDrive/au.rants.23/likes_and_comments.csv\")\n",
        "old_likes[\"date\"]= pd.to_datetime(old_likes.date)\n",
        "old_likes= old_likes[SINCE > old_likes.date]\n",
        "\n",
        "new_likes = pd.concat([likes, old_likes], ignore_index=True)\n",
        "\n",
        "new_likes.to_csv(\"/content/drive/MyDrive/au.rants.23/likes_and_comments.csv\")\n",
        "new_likes"
      ],
      "execution_count": 56,
      "outputs": [
        {
          "output_type": "execute_result",
          "data": {
            "application/vnd.google.colaboratory.intrinsic+json": {
              "type": "string"
            },
            "text/plain": [
              "'2021-07-30_16-00-02'"
            ]
          },
          "metadata": {
            "tags": []
          },
          "execution_count": 56
        }
      ]
    },
    {
      "cell_type": "markdown",
      "metadata": {
        "id": "KRvQkDDi4DSy"
      },
      "source": [
        "## Likes by User"
      ]
    },
    {
      "cell_type": "code",
      "metadata": {
        "colab": {
          "base_uri": "https://localhost:8080/",
          "height": 738
        },
        "id": "PHWSi7Ql4GXq",
        "outputId": "eb5bb599-fc34-486a-edbf-e51489054fc8"
      },
      "source": [
        "likes = {}\n",
        "\n",
        "\n",
        "since = datetime(2021, 1, 16)\n",
        "until = datetime(2021, 8, 5 )\n",
        "\n",
        "recent_posts=list(takewhile(lambda p: p.date > since, dropwhile(lambda p: p.date > until, posts)))\n",
        "\n",
        "print(\"Fetching likes of all posts of profile {}.\".format(profile.username))\n",
        "print(\"Total No. of Posts:\", len(list(recent_posts)))\n",
        "\n",
        "length = str(len(recent_posts))\n",
        "count=1\n",
        "info = display(\"Compleated: \"+str(count) + \"/\"+ length, display_id=True)\n",
        "for post in recent_posts:\n",
        "    date= post.date.date()\n",
        "    for like in post.get_likes():\n",
        "        if like.userid in likes.keys():\n",
        "            if str(date) in likes[like.userid].keys(): \n",
        "                likes[like.userid][str(date)] += 1\n",
        "            else:\n",
        "                likes[like.userid][str(date)]=1\n",
        "        else:\n",
        "            likes[like.userid] = {\"userid\":like.userid}\n",
        "            likes[like.userid][str(date)] = 1\n",
        "            \n",
        "    count+=1\n",
        "    info.update(\"Compleated: \"+str(count) + \"/\"+ length)  \n",
        "    \n",
        "\n"
      ],
      "execution_count": 85,
      "outputs": [
        {
          "output_type": "stream",
          "text": [
            "Fetching likes of all posts of profile au.rants.23.\n",
            "Total No. of Posts: 1413\n"
          ],
          "name": "stdout"
        },
        {
          "output_type": "display_data",
          "data": {
            "application/vnd.google.colaboratory.intrinsic+json": {
              "type": "string"
            },
            "text/plain": [
              "'Compleated: 1414/1413'"
            ]
          },
          "metadata": {
            "tags": []
          }
        },
        {
          "output_type": "stream",
          "text": [
            "\n",
            "Too many queries in the last time. Need to wait 140 seconds, until 16:52.\n",
            "\n",
            "Too many queries in the last time. Need to wait 159 seconds, until 16:54.\n",
            "\n",
            "Too many queries in the last time. Need to wait 132 seconds, until 17:03.\n",
            "\n",
            "Too many queries in the last time. Need to wait 156 seconds, until 17:06.\n",
            "\n",
            "Too many queries in the last time. Need to wait 111 seconds, until 17:14.\n",
            "\n",
            "Too many queries in the last time. Need to wait 154 seconds, until 17:17.\n",
            "\n",
            "Too many queries in the last time. Need to wait 76 seconds, until 17:25.\n",
            "\n",
            "Too many queries in the last time. Need to wait 145 seconds, until 17:28.\n",
            "\n",
            "Too many queries in the last time. Need to wait 71 seconds, until 17:36.\n",
            "\n",
            "Too many queries in the last time. Need to wait 152 seconds, until 17:39.\n",
            "\n",
            "Too many queries in the last time. Need to wait 61 seconds, until 17:47.\n",
            "\n",
            "Too many queries in the last time. Need to wait 154 seconds, until 17:50.\n",
            "\n",
            "Too many queries in the last time. Need to wait 32 seconds, until 17:58.\n",
            "\n",
            "Too many queries in the last time. Need to wait 154 seconds, until 18:01.\n",
            "\n",
            "Too many queries in the last time. Need to wait 17 seconds, until 18:03.\n",
            "\n",
            "Too many queries in the last time. Need to wait 36 seconds, until 18:09.\n",
            "\n",
            "Too many queries in the last time. Need to wait 155 seconds, until 18:12.\n",
            "\n",
            "Too many queries in the last time. Need to wait 35 seconds, until 18:20.\n",
            "\n",
            "Too many queries in the last time. Need to wait 157 seconds, until 18:23.\n"
          ],
          "name": "stdout"
        }
      ]
    },
    {
      "cell_type": "code",
      "metadata": {
        "id": "eBW9n94kIqpM"
      },
      "source": [
        "likes_by_user = pd.DataFrame(likes.values())\n",
        "likes_by_user.to_csv(\"/content/drive/MyDrive/au.rants.23/likes_by_user.csv\")"
      ],
      "execution_count": 86,
      "outputs": []
    }
  ]
}