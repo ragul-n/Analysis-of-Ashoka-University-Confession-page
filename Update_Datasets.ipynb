{
  "nbformat": 4,
  "nbformat_minor": 0,
  "metadata": {
    "colab": {
      "name": "Update Datasets.ipynb",
      "provenance": [],
      "collapsed_sections": [],
      "mount_file_id": "https://github.com/ragul-n/Analysis-of-Ashoka-University-Confession-page/blob/master/Update_Datasets.ipynb",
      "authorship_tag": "ABX9TyPJ9OMNQ+Z0ZZMm8XUSrKjX",
      "include_colab_link": true
    },
    "kernelspec": {
      "display_name": "Python 3",
      "name": "python3"
    },
    "language_info": {
      "name": "python"
    }
  },
  "cells": [
    {
      "cell_type": "markdown",
      "metadata": {
        "id": "view-in-github",
        "colab_type": "text"
      },
      "source": [
        "<a href=\"https://colab.research.google.com/github/ragul-n/Analysis-of-Ashoka-University-Confession-page/blob/master/Update_Datasets.ipynb\" target=\"_parent\"><img src=\"https://colab.research.google.com/assets/colab-badge.svg\" alt=\"Open In Colab\"/></a>"
      ]
    },
    {
      "cell_type": "markdown",
      "metadata": {
        "id": "YGfohTdJFvBA"
      },
      "source": [
        "This Notebook updates the the following datasets:\n",
        "1. sentiments.csv\n",
        "2. opnions.csv\n",
        "3. likes_and_comments.csv\n",
        "\n",
        "**Instruction:** \n",
        "1. Set the ```last_update``` and ```today``` to appropriate date and run the Notebook\n",
        "\n",
        "\n"
      ]
    },
    {
      "cell_type": "code",
      "metadata": {
        "id": "AO3jxsHaumVm"
      },
      "source": [
        "import datetime \n",
        "\n",
        "last_update= datetime.datetime(2021, 8, 16)\n",
        "today= datetime.datetime(2021,8,17)\n"
      ],
      "execution_count": null,
      "outputs": []
    },
    {
      "cell_type": "code",
      "metadata": {
        "id": "xP6SU_rFusHU"
      },
      "source": [
        "!pip install instaloader\n",
        "!pip install --upgrade azure-cognitiveservices-vision-computervision\n",
        "!pip install pillow\n",
        "!pip install azure-ai-textanalytics==5.1.0"
      ],
      "execution_count": null,
      "outputs": []
    },
    {
      "cell_type": "code",
      "metadata": {
        "colab": {
          "base_uri": "https://localhost:8080/"
        },
        "id": "1YJ-KR97uyYf",
        "outputId": "c756d63b-994c-4d9c-8d94-e0c171654b34"
      },
      "source": [
        "import pandas as pd\n",
        "import matplotlib.pyplot as plt\n",
        "import numpy as np\n",
        "import seaborn as sns\n",
        "\n",
        "import shutil\n",
        "import os\n",
        "import random\n",
        "try:\n",
        " from PIL import Image\n",
        "except ImportError:\n",
        " import Image\n",
        "import nltk\n",
        "import random\n",
        "import re\n",
        "import IPython.display\n",
        "\n",
        "\n",
        "\n",
        "from azure.cognitiveservices.vision.computervision import ComputerVisionClient\n",
        "from azure.cognitiveservices.vision.computervision.models import OperationStatusCodes\n",
        "from azure.cognitiveservices.vision.computervision.models import VisualFeatureTypes\n",
        "from msrest.authentication import CognitiveServicesCredentials\n",
        "\n",
        "from array import array\n",
        "import os\n",
        "from PIL import Image\n",
        "import sys\n",
        "import time\n",
        "\n",
        "\n",
        "nltk.download(\"vader_lexicon\")\n",
        "\n",
        "from nltk.sentiment.vader import SentimentIntensityAnalyzer"
      ],
      "execution_count": null,
      "outputs": [
        {
          "output_type": "stream",
          "text": [
            "[nltk_data] Downloading package vader_lexicon to /root/nltk_data...\n"
          ],
          "name": "stdout"
        },
        {
          "output_type": "stream",
          "text": [
            "/usr/local/lib/python3.7/dist-packages/nltk/twitter/__init__.py:20: UserWarning: The twython library has not been installed. Some functionality from the twitter package will not be available.\n",
            "  warnings.warn(\"The twython library has not been installed. \"\n"
          ],
          "name": "stderr"
        }
      ]
    },
    {
      "cell_type": "markdown",
      "metadata": {
        "id": "tSrquUz2vYLh"
      },
      "source": [
        "## Downloding Posts"
      ]
    },
    {
      "cell_type": "code",
      "metadata": {
        "id": "lMfvFatRvD2c"
      },
      "source": [
        "import instaloader\n",
        "\n",
        "from datetime import datetime\n",
        "from itertools import dropwhile, takewhile\n",
        "\n",
        "\n",
        "L = instaloader.Instaloader()\n",
        "\n",
        "L.interactive_login(\"ragulnatarajan\") \n",
        "\n",
        "profile = instaloader.Profile.from_username(L.context, \"au.rants.23\")\n",
        "\n",
        "posts= profile.get_posts()\n",
        "posts = list(posts)\n"
      ],
      "execution_count": null,
      "outputs": []
    },
    {
      "cell_type": "code",
      "metadata": {
        "id": "a1ZbnrFyvTrw"
      },
      "source": [
        "\n",
        "SINCE = last_update\n",
        "UNTIL = today\n",
        "\n",
        "\n",
        "new_posts= list(takewhile(lambda p: p.date > SINCE, dropwhile(lambda p: p.date > UNTIL, posts)))\n",
        "\n",
        "count=0\n",
        "length=len(new_posts)\n",
        "info = display(str(count) + \"/\"+ str(length), display_id=True)\n",
        "\n",
        "for post in new_posts:\n",
        "\n",
        "    info = display(str(count) + \"/\"+ str(length), display_id=True)\n",
        "\n",
        "    print(post.date)\n",
        "    L.download_post(post, \"instagram\")\n",
        "    count+=1\n",
        "\n"
      ],
      "execution_count": null,
      "outputs": []
    },
    {
      "cell_type": "code",
      "metadata": {
        "id": "3s-LVrpQyWO2",
        "colab": {
          "base_uri": "https://localhost:8080/"
        },
        "outputId": "a3230ee1-a189-4084-8c42-33a4bfa51220"
      },
      "source": [
        "image_list=[]\n",
        "\n",
        "for file in os.listdir(\"/content/instagram\"):\n",
        "    if file.endswith(\".jpg\"):\n",
        "        image_list.append(os.path.join(\"/content/instagram\", file))\n",
        "\n",
        "\n",
        "def reduce_key(fn):\n",
        "    # you can change this according to your definition of \"similar\"\n",
        "    return re.sub('_\\d', '', fn)\n",
        "\n",
        "from collections import defaultdict\n",
        "# this holds the grouped filenames\n",
        "group_dict = defaultdict(list)\n",
        "for fn in image_list:\n",
        "    key = reduce_key(fn)\n",
        "    group_dict[key].append(fn)\n",
        "\n",
        "\n",
        "image_list = list(group_dict.values())\n",
        "\n",
        "len(image_list)"
      ],
      "execution_count": null,
      "outputs": [
        {
          "output_type": "execute_result",
          "data": {
            "text/plain": [
              "13"
            ]
          },
          "metadata": {
            "tags": []
          },
          "execution_count": 15
        }
      ]
    },
    {
      "cell_type": "markdown",
      "metadata": {
        "id": "l2jWwST-yNUK"
      },
      "source": [
        "Extracting Texts"
      ]
    },
    {
      "cell_type": "code",
      "metadata": {
        "id": "6IarrbH0yx0F"
      },
      "source": [
        "'''\n",
        "Authenticate\n",
        "Authenticates your credentials and creates a client.\n",
        "'''\n",
        "subscription_key = \"ab1b27f9f3fe48a6aac6b3de0224e94a\"\n",
        "endpoint = \"https://ragul.cognitiveservices.azure.com/\"\n",
        "\n",
        "\n",
        "computervision_client = ComputerVisionClient(endpoint, CognitiveServicesCredentials(subscription_key))\n",
        "\n",
        "\n",
        "\n",
        "def read_image(read_image_path):\n",
        "\n",
        "    # Open the image\n",
        "    read_image = open(read_image_path, \"rb\")\n",
        "\n",
        "    # Call API with image and raw response (allows you to get the operation location)\n",
        "    read_response = computervision_client.read_in_stream(read_image, raw=True)\n",
        "    # Get the operation location (URL with ID as last appendage)\n",
        "    read_operation_location = read_response.headers[\"Operation-Location\"]\n",
        "    # Take the ID off and use to get results\n",
        "    operation_id = read_operation_location.split(\"/\")[-1]\n",
        "\n",
        "    # Call the \"GET\" API and wait for the retrieval of the results\n",
        "    while True:\n",
        "        read_result = computervision_client.get_read_result(operation_id)\n",
        "        if read_result.status.lower () not in ['notstarted', 'running']:\n",
        "            break\n",
        "        \n",
        "    # Print results, line by line\n",
        "    string=\"\"\n",
        "    \n",
        "    if read_result.status == OperationStatusCodes.succeeded:\n",
        "        for text_result in read_result.analyze_result.read_results:\n",
        "            for line in text_result.lines:\n",
        "                string = string + \" \" + line.text\n",
        "                #print(line.bounding_box)\n",
        "    return string"
      ],
      "execution_count": null,
      "outputs": []
    },
    {
      "cell_type": "code",
      "metadata": {
        "id": "swarexgyzh-S",
        "colab": {
          "base_uri": "https://localhost:8080/",
          "height": 35
        },
        "outputId": "4dcbae68-8902-46aa-cd31-bc3a3b1901e8"
      },
      "source": [
        "rants=[]\n",
        "\n",
        "count=0\n",
        "length= str(len(image_list))\n",
        "info = display(\"No of files compleated: \"+str(count) + \"/\"+ length, display_id=True)\n",
        "\n",
        "for images in image_list:\n",
        "\n",
        "    match = re.search(r'\\d{4}-\\d{2}-\\d{2}', images[0])\n",
        "    date = datetime.strptime(match.group(), '%Y-%m-%d').date()\n",
        "    id = re.search(r'\\d{4}-\\d{2}-\\d{2}_\\d{2}-\\d{2}-\\d{2}', images[0]).group()\n",
        "    \n",
        "\n",
        "    rant=\"\"\n",
        "    for image in sorted(images):\n",
        "        rant += read_image(image)\n",
        "\n",
        "    rants.append({\"id\":id, \"date\":date, \"rant\":rant})\n",
        "\n",
        "    count+=1\n",
        "    info.update(\"No of files compleated: \"+str(count) + \"/\"+ length)\n",
        "\n",
        "      "
      ],
      "execution_count": null,
      "outputs": [
        {
          "output_type": "display_data",
          "data": {
            "application/vnd.google.colaboratory.intrinsic+json": {
              "type": "string"
            },
            "text/plain": [
              "'No of files compleated: 13/13'"
            ]
          },
          "metadata": {
            "tags": []
          }
        }
      ]
    },
    {
      "cell_type": "markdown",
      "metadata": {
        "id": "9QBwg6-D1PZ3"
      },
      "source": [
        "## Text Analysis"
      ]
    },
    {
      "cell_type": "code",
      "metadata": {
        "colab": {
          "base_uri": "https://localhost:8080/",
          "height": 35
        },
        "id": "XHI-19xRz2vb",
        "outputId": "fe6eeb58-c5de-4ffa-ff5d-650021360e71"
      },
      "source": [
        "key = \"384eb6ff06b9458bb15231adce28ba5f\"\n",
        "endpoint = \"https://ragul-text.cognitiveservices.azure.com/\"\n",
        "\n",
        "from azure.ai.textanalytics import TextAnalyticsClient\n",
        "from azure.core.credentials import AzureKeyCredential\n",
        "\n",
        "def authenticate_client():\n",
        "    ta_credential = AzureKeyCredential(key)\n",
        "    text_analytics_client = TextAnalyticsClient(\n",
        "            endpoint=endpoint, \n",
        "            credential=ta_credential)\n",
        "    return text_analytics_client\n",
        "\n",
        "client = authenticate_client()\n",
        "\n",
        "\n",
        "\n",
        "def sentiment_analysis(rant, client):\n",
        "\n",
        "    length=len(rant)\n",
        "    if length  != 0:\n",
        "\n",
        "        if length > 5120:\n",
        "            rant=rant[:5120]\n",
        "\n",
        "        documents = [rant]\n",
        "        response = client.analyze_sentiment(documents=documents)[0]\n",
        "        \n",
        "        sentiment= {\n",
        "            \"sentiment\":responce.sentiment,\n",
        "            \"positive\":response.confidence_scores.positive,\n",
        "            \"neutral\":response.confidence_scores.neutral,\n",
        "            \"negative\":response.confidence_scores.negative,\n",
        "        }\n",
        "\n",
        "        return sentiment\n",
        "    else:\n",
        "        return {\n",
        "            \"positive\":np.nan,\n",
        "            \"neutral\":np.nan,\n",
        "            \"negative\":np.nan,\n",
        "        }\n",
        "\n",
        "\n",
        "sentiments=[]\n",
        "\n",
        "count=0\n",
        "length= str(len(image_list))\n",
        "info = display(str(count) + \"/\"+ length, display_id=True)\n",
        "\n",
        "\n",
        "for rant in rants:\n",
        "\n",
        "    sentiment = sentiment_analysis(rant[\"rant\"], client)\n",
        "    rant.update(sentiment)\n",
        "    sentiments.append(rant)\n",
        "\n",
        "    count+=1\n",
        "    info.update(str(count) + \"/\"+ length)\n",
        "\n"
      ],
      "execution_count": null,
      "outputs": [
        {
          "output_type": "display_data",
          "data": {
            "application/vnd.google.colaboratory.intrinsic+json": {
              "type": "string"
            },
            "text/plain": [
              "'13/13'"
            ]
          },
          "metadata": {
            "tags": []
          }
        }
      ]
    },
    {
      "cell_type": "code",
      "metadata": {
        "colab": {
          "base_uri": "https://localhost:8080/"
        },
        "id": "tW5MO430J0Df",
        "outputId": "9e4e3456-6042-41a3-ef20-7a0adb040d16"
      },
      "source": [
        "len(sentiments)"
      ],
      "execution_count": null,
      "outputs": [
        {
          "output_type": "execute_result",
          "data": {
            "text/plain": [
              "13"
            ]
          },
          "metadata": {
            "tags": []
          },
          "execution_count": 22
        }
      ]
    },
    {
      "cell_type": "code",
      "metadata": {
        "colab": {
          "base_uri": "https://localhost:8080/",
          "height": 621
        },
        "id": "pQzEuJur1n_Z",
        "outputId": "4f99d391-1bc7-4c33-f0ea-a3aacd3d5109"
      },
      "source": [
        "\n",
        "data= pd.DataFrame(sentiments)\n",
        "\n",
        "old_data= pd.read_csv(\"/content/drive/MyDrive/au.rants.23/sentiments.csv\")\n",
        "old_data[\"date\"]= pd.to_datetime(old_data.date)\n",
        "old_data= old_data[SINCE > old_data.date]\n",
        "\n",
        "new_data = pd.concat([data, old_data], ignore_index=True)\n",
        "\n",
        "new_data.to_csv(\"/content/drive/MyDrive/au.rants.23/sentiments.csv\")\n",
        "new_data"
      ],
      "execution_count": null,
      "outputs": [
        {
          "output_type": "execute_result",
          "data": {
            "text/html": [
              "<div>\n",
              "<style scoped>\n",
              "    .dataframe tbody tr th:only-of-type {\n",
              "        vertical-align: middle;\n",
              "    }\n",
              "\n",
              "    .dataframe tbody tr th {\n",
              "        vertical-align: top;\n",
              "    }\n",
              "\n",
              "    .dataframe thead th {\n",
              "        text-align: right;\n",
              "    }\n",
              "</style>\n",
              "<table border=\"1\" class=\"dataframe\">\n",
              "  <thead>\n",
              "    <tr style=\"text-align: right;\">\n",
              "      <th></th>\n",
              "      <th>id</th>\n",
              "      <th>date</th>\n",
              "      <th>rant</th>\n",
              "      <th>positive</th>\n",
              "      <th>neutral</th>\n",
              "      <th>negative</th>\n",
              "      <th>Unnamed: 0</th>\n",
              "      <th>Unnamed: 0.1</th>\n",
              "      <th>Unnamed: 0.1.1</th>\n",
              "    </tr>\n",
              "  </thead>\n",
              "  <tbody>\n",
              "    <tr>\n",
              "      <th>0</th>\n",
              "      <td>2021-08-10_18-16-37</td>\n",
              "      <td>2021-08-10</td>\n",
              "      <td>Can someone going to campus please share how ...</td>\n",
              "      <td>0.04</td>\n",
              "      <td>0.12</td>\n",
              "      <td>0.84</td>\n",
              "      <td>NaN</td>\n",
              "      <td>NaN</td>\n",
              "      <td>NaN</td>\n",
              "    </tr>\n",
              "    <tr>\n",
              "      <th>1</th>\n",
              "      <td>2021-08-10_18-13-48</td>\n",
              "      <td>2021-08-10</td>\n",
              "      <td>Do you guys have free mobile game recs?</td>\n",
              "      <td>0.99</td>\n",
              "      <td>0.01</td>\n",
              "      <td>0.00</td>\n",
              "      <td>NaN</td>\n",
              "      <td>NaN</td>\n",
              "      <td>NaN</td>\n",
              "    </tr>\n",
              "    <tr>\n",
              "      <th>2</th>\n",
              "      <td>2021-08-09_18-52-29</td>\n",
              "      <td>2021-08-09</td>\n",
              "      <td>WHY ARE ALL OF US NOT COMING TO CAMPUS ?? I W...</td>\n",
              "      <td>0.09</td>\n",
              "      <td>0.84</td>\n",
              "      <td>0.07</td>\n",
              "      <td>NaN</td>\n",
              "      <td>NaN</td>\n",
              "      <td>NaN</td>\n",
              "    </tr>\n",
              "    <tr>\n",
              "      <th>3</th>\n",
              "      <td>2021-08-07_17-20-00</td>\n",
              "      <td>2021-08-07</td>\n",
              "      <td>I think I have feelings for my best friend an...</td>\n",
              "      <td>0.98</td>\n",
              "      <td>0.00</td>\n",
              "      <td>0.02</td>\n",
              "      <td>NaN</td>\n",
              "      <td>NaN</td>\n",
              "      <td>NaN</td>\n",
              "    </tr>\n",
              "    <tr>\n",
              "      <th>4</th>\n",
              "      <td>2021-08-09_18-53-53</td>\n",
              "      <td>2021-08-09</td>\n",
              "      <td>My friend's being very stupid about this guy,...</td>\n",
              "      <td>0.50</td>\n",
              "      <td>0.00</td>\n",
              "      <td>0.50</td>\n",
              "      <td>NaN</td>\n",
              "      <td>NaN</td>\n",
              "      <td>NaN</td>\n",
              "    </tr>\n",
              "    <tr>\n",
              "      <th>...</th>\n",
              "      <td>...</td>\n",
              "      <td>...</td>\n",
              "      <td>...</td>\n",
              "      <td>...</td>\n",
              "      <td>...</td>\n",
              "      <td>...</td>\n",
              "      <td>...</td>\n",
              "      <td>...</td>\n",
              "      <td>...</td>\n",
              "    </tr>\n",
              "    <tr>\n",
              "      <th>1422</th>\n",
              "      <td>2021-05-23_06-40-54</td>\n",
              "      <td>2021-05-23 00:00:00</td>\n",
              "      <td>Quite unsettled with CASH. Not seen the campu...</td>\n",
              "      <td>0.00</td>\n",
              "      <td>0.02</td>\n",
              "      <td>0.98</td>\n",
              "      <td>1422.0</td>\n",
              "      <td>1409.0</td>\n",
              "      <td>1238.0</td>\n",
              "    </tr>\n",
              "    <tr>\n",
              "      <th>1423</th>\n",
              "      <td>2021-05-23_06-42-42</td>\n",
              "      <td>2021-05-23 00:00:00</td>\n",
              "      <td>Should we be mentally preparing for another s...</td>\n",
              "      <td>0.16</td>\n",
              "      <td>0.46</td>\n",
              "      <td>0.38</td>\n",
              "      <td>1423.0</td>\n",
              "      <td>1410.0</td>\n",
              "      <td>1239.0</td>\n",
              "    </tr>\n",
              "    <tr>\n",
              "      <th>1424</th>\n",
              "      <td>2021-05-23_06-44-00</td>\n",
              "      <td>2021-05-23 00:00:00</td>\n",
              "      <td>does anyone else likeo sea shanties</td>\n",
              "      <td>0.00</td>\n",
              "      <td>0.99</td>\n",
              "      <td>0.01</td>\n",
              "      <td>1424.0</td>\n",
              "      <td>1411.0</td>\n",
              "      <td>1240.0</td>\n",
              "    </tr>\n",
              "    <tr>\n",
              "      <th>1425</th>\n",
              "      <td>2021-05-23_06-45-26</td>\n",
              "      <td>2021-05-23 00:00:00</td>\n",
              "      <td>Does anyone else feel that CBSE and state boa...</td>\n",
              "      <td>0.06</td>\n",
              "      <td>0.55</td>\n",
              "      <td>0.39</td>\n",
              "      <td>1425.0</td>\n",
              "      <td>1412.0</td>\n",
              "      <td>1241.0</td>\n",
              "    </tr>\n",
              "    <tr>\n",
              "      <th>1426</th>\n",
              "      <td>2021-05-23_06-48-11</td>\n",
              "      <td>2021-05-23 00:00:00</td>\n",
              "      <td>why do so many people dislike Ashoka and its ...</td>\n",
              "      <td>0.86</td>\n",
              "      <td>0.00</td>\n",
              "      <td>0.14</td>\n",
              "      <td>1426.0</td>\n",
              "      <td>1413.0</td>\n",
              "      <td>1242.0</td>\n",
              "    </tr>\n",
              "  </tbody>\n",
              "</table>\n",
              "<p>1427 rows × 9 columns</p>\n",
              "</div>"
            ],
            "text/plain": [
              "                       id                 date  ... Unnamed: 0.1  Unnamed: 0.1.1\n",
              "0     2021-08-10_18-16-37           2021-08-10  ...          NaN             NaN\n",
              "1     2021-08-10_18-13-48           2021-08-10  ...          NaN             NaN\n",
              "2     2021-08-09_18-52-29           2021-08-09  ...          NaN             NaN\n",
              "3     2021-08-07_17-20-00           2021-08-07  ...          NaN             NaN\n",
              "4     2021-08-09_18-53-53           2021-08-09  ...          NaN             NaN\n",
              "...                   ...                  ...  ...          ...             ...\n",
              "1422  2021-05-23_06-40-54  2021-05-23 00:00:00  ...       1409.0          1238.0\n",
              "1423  2021-05-23_06-42-42  2021-05-23 00:00:00  ...       1410.0          1239.0\n",
              "1424  2021-05-23_06-44-00  2021-05-23 00:00:00  ...       1411.0          1240.0\n",
              "1425  2021-05-23_06-45-26  2021-05-23 00:00:00  ...       1412.0          1241.0\n",
              "1426  2021-05-23_06-48-11  2021-05-23 00:00:00  ...       1413.0          1242.0\n",
              "\n",
              "[1427 rows x 9 columns]"
            ]
          },
          "metadata": {
            "tags": []
          },
          "execution_count": 19
        }
      ]
    },
    {
      "cell_type": "code",
      "metadata": {
        "colab": {
          "base_uri": "https://localhost:8080/",
          "height": 451
        },
        "id": "3oLkUGXmJ9PQ",
        "outputId": "4efc6658-60ed-4226-fcf2-189159cfad2a"
      },
      "source": [
        "data"
      ],
      "execution_count": null,
      "outputs": [
        {
          "output_type": "execute_result",
          "data": {
            "text/html": [
              "<div>\n",
              "<style scoped>\n",
              "    .dataframe tbody tr th:only-of-type {\n",
              "        vertical-align: middle;\n",
              "    }\n",
              "\n",
              "    .dataframe tbody tr th {\n",
              "        vertical-align: top;\n",
              "    }\n",
              "\n",
              "    .dataframe thead th {\n",
              "        text-align: right;\n",
              "    }\n",
              "</style>\n",
              "<table border=\"1\" class=\"dataframe\">\n",
              "  <thead>\n",
              "    <tr style=\"text-align: right;\">\n",
              "      <th></th>\n",
              "      <th>id</th>\n",
              "      <th>date</th>\n",
              "      <th>rant</th>\n",
              "      <th>positive</th>\n",
              "      <th>neutral</th>\n",
              "      <th>negative</th>\n",
              "    </tr>\n",
              "  </thead>\n",
              "  <tbody>\n",
              "    <tr>\n",
              "      <th>0</th>\n",
              "      <td>2021-08-10_18-16-37</td>\n",
              "      <td>2021-08-10</td>\n",
              "      <td>Can someone going to campus please share how ...</td>\n",
              "      <td>0.04</td>\n",
              "      <td>0.12</td>\n",
              "      <td>0.84</td>\n",
              "    </tr>\n",
              "    <tr>\n",
              "      <th>1</th>\n",
              "      <td>2021-08-10_18-13-48</td>\n",
              "      <td>2021-08-10</td>\n",
              "      <td>Do you guys have free mobile game recs?</td>\n",
              "      <td>0.99</td>\n",
              "      <td>0.01</td>\n",
              "      <td>0.00</td>\n",
              "    </tr>\n",
              "    <tr>\n",
              "      <th>2</th>\n",
              "      <td>2021-08-09_18-52-29</td>\n",
              "      <td>2021-08-09</td>\n",
              "      <td>WHY ARE ALL OF US NOT COMING TO CAMPUS ?? I W...</td>\n",
              "      <td>0.09</td>\n",
              "      <td>0.84</td>\n",
              "      <td>0.07</td>\n",
              "    </tr>\n",
              "    <tr>\n",
              "      <th>3</th>\n",
              "      <td>2021-08-07_17-20-00</td>\n",
              "      <td>2021-08-07</td>\n",
              "      <td>I think I have feelings for my best friend an...</td>\n",
              "      <td>0.98</td>\n",
              "      <td>0.00</td>\n",
              "      <td>0.02</td>\n",
              "    </tr>\n",
              "    <tr>\n",
              "      <th>4</th>\n",
              "      <td>2021-08-09_18-53-53</td>\n",
              "      <td>2021-08-09</td>\n",
              "      <td>My friend's being very stupid about this guy,...</td>\n",
              "      <td>0.50</td>\n",
              "      <td>0.00</td>\n",
              "      <td>0.50</td>\n",
              "    </tr>\n",
              "    <tr>\n",
              "      <th>5</th>\n",
              "      <td>2021-08-09_18-55-55</td>\n",
              "      <td>2021-08-09</td>\n",
              "      <td>aurants I can't understand why admin sucks an...</td>\n",
              "      <td>0.38</td>\n",
              "      <td>0.11</td>\n",
              "      <td>0.51</td>\n",
              "    </tr>\n",
              "    <tr>\n",
              "      <th>6</th>\n",
              "      <td>2021-08-10_18-15-58</td>\n",
              "      <td>2021-08-10</td>\n",
              "      <td>Honest question, why are ppl so hyped up bout...</td>\n",
              "      <td>0.64</td>\n",
              "      <td>0.05</td>\n",
              "      <td>0.31</td>\n",
              "    </tr>\n",
              "    <tr>\n",
              "      <th>7</th>\n",
              "      <td>2021-08-07_17-51-59</td>\n",
              "      <td>2021-08-07</td>\n",
              "      <td>ARE THERE ACADEMIC COUNSELLORS YOU COULD GET ...</td>\n",
              "      <td>0.41</td>\n",
              "      <td>0.56</td>\n",
              "      <td>0.03</td>\n",
              "    </tr>\n",
              "    <tr>\n",
              "      <th>8</th>\n",
              "      <td>2021-08-10_18-15-05</td>\n",
              "      <td>2021-08-10</td>\n",
              "      <td>My friends think he's ugly and I sort of get ...</td>\n",
              "      <td>0.46</td>\n",
              "      <td>0.04</td>\n",
              "      <td>0.50</td>\n",
              "    </tr>\n",
              "    <tr>\n",
              "      <th>9</th>\n",
              "      <td>2021-08-09_18-54-37</td>\n",
              "      <td>2021-08-09</td>\n",
              "      <td>tag your fav ashoka friends in the comments a...</td>\n",
              "      <td>0.93</td>\n",
              "      <td>0.06</td>\n",
              "      <td>0.01</td>\n",
              "    </tr>\n",
              "    <tr>\n",
              "      <th>10</th>\n",
              "      <td>2021-08-10_18-12-26</td>\n",
              "      <td>2021-08-10</td>\n",
              "      <td>I've had a couple of people from Ashoka liter...</td>\n",
              "      <td>0.00</td>\n",
              "      <td>0.00</td>\n",
              "      <td>1.00</td>\n",
              "    </tr>\n",
              "    <tr>\n",
              "      <th>11</th>\n",
              "      <td>2021-08-09_18-55-32</td>\n",
              "      <td>2021-08-09</td>\n",
              "      <td>\"MUTING ALL PEOPLE WHO SUPPORT NEERAJ CHOPRA....</td>\n",
              "      <td>0.86</td>\n",
              "      <td>0.12</td>\n",
              "      <td>0.02</td>\n",
              "    </tr>\n",
              "    <tr>\n",
              "      <th>12</th>\n",
              "      <td>2021-08-07_17-27-37</td>\n",
              "      <td>2021-08-07</td>\n",
              "      <td>i am putting these words here for the first t...</td>\n",
              "      <td>0.00</td>\n",
              "      <td>0.00</td>\n",
              "      <td>1.00</td>\n",
              "    </tr>\n",
              "  </tbody>\n",
              "</table>\n",
              "</div>"
            ],
            "text/plain": [
              "                     id        date  ... neutral  negative\n",
              "0   2021-08-10_18-16-37  2021-08-10  ...    0.12      0.84\n",
              "1   2021-08-10_18-13-48  2021-08-10  ...    0.01      0.00\n",
              "2   2021-08-09_18-52-29  2021-08-09  ...    0.84      0.07\n",
              "3   2021-08-07_17-20-00  2021-08-07  ...    0.00      0.02\n",
              "4   2021-08-09_18-53-53  2021-08-09  ...    0.00      0.50\n",
              "5   2021-08-09_18-55-55  2021-08-09  ...    0.11      0.51\n",
              "6   2021-08-10_18-15-58  2021-08-10  ...    0.05      0.31\n",
              "7   2021-08-07_17-51-59  2021-08-07  ...    0.56      0.03\n",
              "8   2021-08-10_18-15-05  2021-08-10  ...    0.04      0.50\n",
              "9   2021-08-09_18-54-37  2021-08-09  ...    0.06      0.01\n",
              "10  2021-08-10_18-12-26  2021-08-10  ...    0.00      1.00\n",
              "11  2021-08-09_18-55-32  2021-08-09  ...    0.12      0.02\n",
              "12  2021-08-07_17-27-37  2021-08-07  ...    0.00      1.00\n",
              "\n",
              "[13 rows x 6 columns]"
            ]
          },
          "metadata": {
            "tags": []
          },
          "execution_count": 23
        }
      ]
    },
    {
      "cell_type": "markdown",
      "metadata": {
        "id": "9C6aGmHgmeRP"
      },
      "source": [
        "## Opnion Mining"
      ]
    },
    {
      "cell_type": "code",
      "metadata": {
        "colab": {
          "base_uri": "https://localhost:8080/",
          "height": 35
        },
        "id": "1aa0FhxxqtTV",
        "outputId": "56642df6-bdde-48f3-8856-2681b4096378"
      },
      "source": [
        "def opinion_mining(id, date, rant, client):\n",
        "\n",
        "    documents = [rant]\n",
        "\n",
        "    if type(rant) ==type(\"\"):\n",
        "        if len(rant) ==0:\n",
        "            return  None\n",
        "    else:\n",
        "        return None\n",
        "    result = client.analyze_sentiment(documents, show_opinion_mining=True)\n",
        "    doc_result = [doc for doc in result if not doc.is_error]\n",
        "\n",
        "    positive_reviews = [doc for doc in doc_result if doc.sentiment == \"positive\"]\n",
        "    negative_reviews = [doc for doc in doc_result if doc.sentiment == \"negative\"]\n",
        "\n",
        "    positive_mined_opinions = []\n",
        "    mixed_mined_opinions = []\n",
        "    negative_mined_opinions = []\n",
        "\n",
        "    for document in doc_result:\n",
        "        \n",
        "        for sentence in document.sentences:\n",
        "          \n",
        "            for mined_opinion in sentence.mined_opinions:\n",
        "                target = mined_opinion.target\n",
        "\n",
        "                for assessment in mined_opinion.assessments:\n",
        "                    opnion= {\n",
        "                        \"rant_id\": id,\n",
        "                        \"date\":date, \n",
        "                        \"target_text\": target.text,\n",
        "                        \"target_sentiment\":target.sentiment,\n",
        "                        \"assesment_text\":assessment.text,\n",
        "                        \"assesment_sentiment\": assessment.sentiment,\n",
        "\n",
        "                        \"target_positive_score\": target.confidence_scores.positive,\n",
        "                        \"target_negative_score\":target.confidence_scores.negative,\n",
        "                        \"assesment_positive_score\": assessment.confidence_scores.positive,\n",
        "                        \"assesment_negative_score\": assessment.confidence_scores.negative\n",
        "                    }\n",
        "\n",
        "                    return opnion\n",
        "\n",
        "\n",
        "opnions=[]\n",
        "\n",
        "count=0\n",
        "length= str(len(data))\n",
        "info = display(\"Compleated: \"+str(count) + \"/\"+ length, display_id=True)   \n",
        "          \n",
        "for (rant, id, date) in data.loc[: , [\"rant\", \"id\", \"date\"]].values:\n",
        "    \n",
        "    opnion = opinion_mining(id, date, rant, client)\n",
        "    if opnion != None:\n",
        "        opnions.append(opnion)\n",
        "    count+=1\n",
        "    info.update(str(count) + \"/\"+ length)   \n",
        "\n",
        "    \n",
        "opnions = list(filter(None, opnions))\n"
      ],
      "execution_count": null,
      "outputs": [
        {
          "output_type": "display_data",
          "data": {
            "application/vnd.google.colaboratory.intrinsic+json": {
              "type": "string"
            },
            "text/plain": [
              "'13/13'"
            ]
          },
          "metadata": {
            "tags": []
          }
        }
      ]
    },
    {
      "cell_type": "code",
      "metadata": {
        "id": "A4VbNGskuEDR",
        "colab": {
          "base_uri": "https://localhost:8080/",
          "height": 980
        },
        "outputId": "fe5fa2e5-5217-4dfb-b80e-6c103df440e2"
      },
      "source": [
        "\n",
        "\n",
        "\n",
        "old_opnions= pd.read_csv(\"/content/drive/MyDrive/au.rants.23/opnions.csv\")\n",
        "old_opnions[\"date\"]= pd.to_datetime(old_opnions.date)\n",
        "old_opnions= old_opnions[SINCE > old_opnions.date]\n",
        "\n",
        "new_opnions = pd.concat([pd.DataFrame(opnions), old_opnions], ignore_index=True)\n",
        "\n",
        "new_opnions.to_csv(\"/content/drive/MyDrive/au.rants.23/opnions.csv\")\n",
        "new_opnions"
      ],
      "execution_count": null,
      "outputs": [
        {
          "output_type": "execute_result",
          "data": {
            "text/html": [
              "<div>\n",
              "<style scoped>\n",
              "    .dataframe tbody tr th:only-of-type {\n",
              "        vertical-align: middle;\n",
              "    }\n",
              "\n",
              "    .dataframe tbody tr th {\n",
              "        vertical-align: top;\n",
              "    }\n",
              "\n",
              "    .dataframe thead th {\n",
              "        text-align: right;\n",
              "    }\n",
              "</style>\n",
              "<table border=\"1\" class=\"dataframe\">\n",
              "  <thead>\n",
              "    <tr style=\"text-align: right;\">\n",
              "      <th></th>\n",
              "      <th>rant_id</th>\n",
              "      <th>date</th>\n",
              "      <th>target_text</th>\n",
              "      <th>target_sentiment</th>\n",
              "      <th>assesment_text</th>\n",
              "      <th>assesment_sentiment</th>\n",
              "      <th>target_positive_score</th>\n",
              "      <th>target_negative_score</th>\n",
              "      <th>assesment_positive_score</th>\n",
              "      <th>assesment_negative_score</th>\n",
              "      <th>Unnamed: 0</th>\n",
              "      <th>id</th>\n",
              "    </tr>\n",
              "  </thead>\n",
              "  <tbody>\n",
              "    <tr>\n",
              "      <th>0</th>\n",
              "      <td>2021-08-10_18-12-26</td>\n",
              "      <td>2021-08-10</td>\n",
              "      <td>sounds</td>\n",
              "      <td>negative</td>\n",
              "      <td>stupid</td>\n",
              "      <td>negative</td>\n",
              "      <td>0.01</td>\n",
              "      <td>0.99</td>\n",
              "      <td>0.01</td>\n",
              "      <td>0.99</td>\n",
              "      <td>NaN</td>\n",
              "      <td>NaN</td>\n",
              "    </tr>\n",
              "    <tr>\n",
              "      <th>1</th>\n",
              "      <td>NaN</td>\n",
              "      <td>2021-07-30 00:00:00</td>\n",
              "      <td>job</td>\n",
              "      <td>positive</td>\n",
              "      <td>great</td>\n",
              "      <td>positive</td>\n",
              "      <td>1.00</td>\n",
              "      <td>0.00</td>\n",
              "      <td>1.00</td>\n",
              "      <td>0.00</td>\n",
              "      <td>0.0</td>\n",
              "      <td>2021-07-30_15-18-10</td>\n",
              "    </tr>\n",
              "    <tr>\n",
              "      <th>2</th>\n",
              "      <td>NaN</td>\n",
              "      <td>2021-07-28 00:00:00</td>\n",
              "      <td>topic</td>\n",
              "      <td>negative</td>\n",
              "      <td>off</td>\n",
              "      <td>negative</td>\n",
              "      <td>0.08</td>\n",
              "      <td>0.92</td>\n",
              "      <td>0.08</td>\n",
              "      <td>0.92</td>\n",
              "      <td>1.0</td>\n",
              "      <td>2021-07-28_16-09-27</td>\n",
              "    </tr>\n",
              "    <tr>\n",
              "      <th>3</th>\n",
              "      <td>NaN</td>\n",
              "      <td>2021-07-28 00:00:00</td>\n",
              "      <td>systems</td>\n",
              "      <td>negative</td>\n",
              "      <td>misogynistic</td>\n",
              "      <td>negative</td>\n",
              "      <td>0.01</td>\n",
              "      <td>0.99</td>\n",
              "      <td>0.01</td>\n",
              "      <td>0.99</td>\n",
              "      <td>2.0</td>\n",
              "      <td>2021-07-28_05-21-05</td>\n",
              "    </tr>\n",
              "    <tr>\n",
              "      <th>4</th>\n",
              "      <td>NaN</td>\n",
              "      <td>2021-07-23 00:00:00</td>\n",
              "      <td>question</td>\n",
              "      <td>positive</td>\n",
              "      <td>genuine</td>\n",
              "      <td>positive</td>\n",
              "      <td>1.00</td>\n",
              "      <td>0.00</td>\n",
              "      <td>1.00</td>\n",
              "      <td>0.00</td>\n",
              "      <td>3.0</td>\n",
              "      <td>2021-07-23_08-43-47</td>\n",
              "    </tr>\n",
              "    <tr>\n",
              "      <th>...</th>\n",
              "      <td>...</td>\n",
              "      <td>...</td>\n",
              "      <td>...</td>\n",
              "      <td>...</td>\n",
              "      <td>...</td>\n",
              "      <td>...</td>\n",
              "      <td>...</td>\n",
              "      <td>...</td>\n",
              "      <td>...</td>\n",
              "      <td>...</td>\n",
              "      <td>...</td>\n",
              "      <td>...</td>\n",
              "    </tr>\n",
              "    <tr>\n",
              "      <th>194</th>\n",
              "      <td>NaN</td>\n",
              "      <td>2021-05-22 00:00:00</td>\n",
              "      <td>memes</td>\n",
              "      <td>negative</td>\n",
              "      <td>match</td>\n",
              "      <td>negative</td>\n",
              "      <td>0.06</td>\n",
              "      <td>0.94</td>\n",
              "      <td>0.06</td>\n",
              "      <td>0.94</td>\n",
              "      <td>193.0</td>\n",
              "      <td>2021-05-22_16-39-56</td>\n",
              "    </tr>\n",
              "    <tr>\n",
              "      <th>195</th>\n",
              "      <td>NaN</td>\n",
              "      <td>2021-05-22 00:00:00</td>\n",
              "      <td>Professor</td>\n",
              "      <td>negative</td>\n",
              "      <td>failed</td>\n",
              "      <td>negative</td>\n",
              "      <td>0.01</td>\n",
              "      <td>0.99</td>\n",
              "      <td>0.01</td>\n",
              "      <td>0.99</td>\n",
              "      <td>194.0</td>\n",
              "      <td>2021-05-22_16-45-16</td>\n",
              "    </tr>\n",
              "    <tr>\n",
              "      <th>196</th>\n",
              "      <td>NaN</td>\n",
              "      <td>2021-05-23 00:00:00</td>\n",
              "      <td>nipun</td>\n",
              "      <td>positive</td>\n",
              "      <td>cute</td>\n",
              "      <td>positive</td>\n",
              "      <td>1.00</td>\n",
              "      <td>0.00</td>\n",
              "      <td>1.00</td>\n",
              "      <td>0.00</td>\n",
              "      <td>195.0</td>\n",
              "      <td>2021-05-23_06-35-35</td>\n",
              "    </tr>\n",
              "    <tr>\n",
              "      <th>197</th>\n",
              "      <td>NaN</td>\n",
              "      <td>2021-05-23 00:00:00</td>\n",
              "      <td>place</td>\n",
              "      <td>negative</td>\n",
              "      <td>toxic</td>\n",
              "      <td>negative</td>\n",
              "      <td>0.01</td>\n",
              "      <td>0.99</td>\n",
              "      <td>0.01</td>\n",
              "      <td>0.99</td>\n",
              "      <td>196.0</td>\n",
              "      <td>2021-05-23_06-36-20</td>\n",
              "    </tr>\n",
              "    <tr>\n",
              "      <th>198</th>\n",
              "      <td>NaN</td>\n",
              "      <td>2021-05-23 00:00:00</td>\n",
              "      <td>professors</td>\n",
              "      <td>positive</td>\n",
              "      <td>open minded</td>\n",
              "      <td>positive</td>\n",
              "      <td>1.00</td>\n",
              "      <td>0.00</td>\n",
              "      <td>0.99</td>\n",
              "      <td>0.01</td>\n",
              "      <td>197.0</td>\n",
              "      <td>2021-05-23_06-48-11</td>\n",
              "    </tr>\n",
              "  </tbody>\n",
              "</table>\n",
              "<p>199 rows × 12 columns</p>\n",
              "</div>"
            ],
            "text/plain": [
              "                 rant_id                 date  ... Unnamed: 0                   id\n",
              "0    2021-08-10_18-12-26           2021-08-10  ...        NaN                  NaN\n",
              "1                    NaN  2021-07-30 00:00:00  ...        0.0  2021-07-30_15-18-10\n",
              "2                    NaN  2021-07-28 00:00:00  ...        1.0  2021-07-28_16-09-27\n",
              "3                    NaN  2021-07-28 00:00:00  ...        2.0  2021-07-28_05-21-05\n",
              "4                    NaN  2021-07-23 00:00:00  ...        3.0  2021-07-23_08-43-47\n",
              "..                   ...                  ...  ...        ...                  ...\n",
              "194                  NaN  2021-05-22 00:00:00  ...      193.0  2021-05-22_16-39-56\n",
              "195                  NaN  2021-05-22 00:00:00  ...      194.0  2021-05-22_16-45-16\n",
              "196                  NaN  2021-05-23 00:00:00  ...      195.0  2021-05-23_06-35-35\n",
              "197                  NaN  2021-05-23 00:00:00  ...      196.0  2021-05-23_06-36-20\n",
              "198                  NaN  2021-05-23 00:00:00  ...      197.0  2021-05-23_06-48-11\n",
              "\n",
              "[199 rows x 12 columns]"
            ]
          },
          "metadata": {
            "tags": []
          },
          "execution_count": 26
        }
      ]
    },
    {
      "cell_type": "markdown",
      "metadata": {
        "id": "6lXryhXT0RQD"
      },
      "source": [
        "## Likes and comments"
      ]
    },
    {
      "cell_type": "code",
      "metadata": {
        "colab": {
          "base_uri": "https://localhost:8080/",
          "height": 35
        },
        "id": "eRdUOfm6yLA2",
        "outputId": "74062e8e-c269-480f-92f1-6884019ffc37"
      },
      "source": [
        "likes=[]\n",
        "\n",
        "count=0\n",
        "length= str(len(new_data))\n",
        "info = display(\"Compleated: \"+str(count) + \"/\"+ length, display_id=True)  \n",
        "\n",
        "for post in posts:\n",
        "    id = str(post.date_utc).replace(\" \", \"_\")\n",
        "    id = id.replace(\":\", \"-\")\n",
        "    likes.append(dict(id = id, date=post.date.date(), likes = post.likes, comments=post.comments))\n",
        "    \n",
        "    count+=1\n",
        "    info.update(\"Compleated: \"+str(count) + \"/\"+ length)  \n",
        "\n",
        "likes= pd.DataFrame(likes)\n"
      ],
      "execution_count": null,
      "outputs": [
        {
          "output_type": "display_data",
          "data": {
            "application/vnd.google.colaboratory.intrinsic+json": {
              "type": "string"
            },
            "text/plain": [
              "'Compleated: 1426/1427'"
            ]
          },
          "metadata": {
            "tags": []
          }
        }
      ]
    },
    {
      "cell_type": "code",
      "metadata": {
        "id": "32DRy5ec1kvX"
      },
      "source": [
        "likes.to_csv(\"/content/drive/MyDrive/au.rants.23/likes_and_comments.csv\")\n"
      ],
      "execution_count": null,
      "outputs": []
    }
  ]
}