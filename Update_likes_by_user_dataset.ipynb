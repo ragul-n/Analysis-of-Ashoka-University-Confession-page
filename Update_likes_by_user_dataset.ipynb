{
  "nbformat": 4,
  "nbformat_minor": 0,
  "metadata": {
    "colab": {
      "name": "Update likes_by_user dataset.ipynb",
      "provenance": [],
      "authorship_tag": "ABX9TyN9yA0IIgAKkze17k1qjR0E",
      "include_colab_link": true
    },
    "kernelspec": {
      "name": "python3",
      "display_name": "Python 3"
    },
    "language_info": {
      "name": "python"
    }
  },
  "cells": [
    {
      "cell_type": "markdown",
      "metadata": {
        "id": "view-in-github",
        "colab_type": "text"
      },
      "source": [
        "<a href=\"https://colab.research.google.com/github/ragul-n/Analysis-of-Ashoka-University-Confession-page/blob/master/Update_likes_by_user_dataset.ipynb\" target=\"_parent\"><img src=\"https://colab.research.google.com/assets/colab-badge.svg\" alt=\"Open In Colab\"/></a>"
      ]
    },
    {
      "cell_type": "markdown",
      "metadata": {
        "id": "YGfohTdJFvBA"
      },
      "source": [
        "\n",
        "\n",
        "This Notebook updates the likes_by_user.csv Dataset.\n",
        "\n",
        "**Instruction:**\n",
        "\n",
        "1. Run the Notebook and **wait for some time** \n",
        "\n",
        "\n"
      ]
    },
    {
      "cell_type": "code",
      "metadata": {
        "id": "7kCiYWZdSP8h"
      },
      "source": [
        "import instaloader\n",
        "\n",
        "from datetime import datetime\n",
        "from itertools import dropwhile, takewhile\n",
        "\n",
        "\n",
        "L = instaloader.Instaloader()\n",
        "\n",
        "L.interactive_login(\"ragulnatarajan\") \n",
        "\n",
        "profile = instaloader.Profile.from_username(L.context, \"au.rants.23\")\n",
        "\n",
        "posts= profile.get_posts()\n",
        "posts = list(posts)\n"
      ],
      "execution_count": null,
      "outputs": []
    },
    {
      "cell_type": "code",
      "metadata": {
        "colab": {
          "base_uri": "https://localhost:8080/",
          "height": 738
        },
        "id": "PHWSi7Ql4GXq",
        "outputId": "eb5bb599-fc34-486a-edbf-e51489054fc8"
      },
      "source": [
        "likes = {}\n",
        "\n",
        "\n",
        "\n",
        "recent_posts=posts\n",
        "\n",
        "print(\"Fetching likes of all posts of profile {}.\".format(profile.username))\n",
        "print(\"Total No. of Posts:\", len(list(recent_posts)))\n",
        "\n",
        "length = str(len(recent_posts))\n",
        "count=1\n",
        "info = display(\"Compleated: \"+str(count) + \"/\"+ length, display_id=True)\n",
        "for post in recent_posts:\n",
        "    date= post.date.date()\n",
        "    for like in post.get_likes():\n",
        "        if like.userid in likes.keys():\n",
        "            if str(date) in likes[like.userid].keys(): \n",
        "                likes[like.userid][str(date)] += 1\n",
        "            else:\n",
        "                likes[like.userid][str(date)]=1\n",
        "        else:\n",
        "            likes[like.userid] = {\"userid\":like.userid}\n",
        "            likes[like.userid][str(date)] = 1\n",
        "            \n",
        "    count+=1\n",
        "    info.update(\"Compleated: \"+str(count) + \"/\"+ length)  \n",
        "    \n",
        "\n"
      ],
      "execution_count": null,
      "outputs": [
        {
          "output_type": "stream",
          "text": [
            "Fetching likes of all posts of profile au.rants.23.\n",
            "Total No. of Posts: 1413\n"
          ],
          "name": "stdout"
        },
        {
          "output_type": "display_data",
          "data": {
            "application/vnd.google.colaboratory.intrinsic+json": {
              "type": "string"
            },
            "text/plain": [
              "'Compleated: 1414/1413'"
            ]
          },
          "metadata": {
            "tags": []
          }
        },
        {
          "output_type": "stream",
          "text": [
            "\n",
            "Too many queries in the last time. Need to wait 140 seconds, until 16:52.\n",
            "\n",
            "Too many queries in the last time. Need to wait 159 seconds, until 16:54.\n",
            "\n",
            "Too many queries in the last time. Need to wait 132 seconds, until 17:03.\n",
            "\n",
            "Too many queries in the last time. Need to wait 156 seconds, until 17:06.\n",
            "\n",
            "Too many queries in the last time. Need to wait 111 seconds, until 17:14.\n",
            "\n",
            "Too many queries in the last time. Need to wait 154 seconds, until 17:17.\n",
            "\n",
            "Too many queries in the last time. Need to wait 76 seconds, until 17:25.\n",
            "\n",
            "Too many queries in the last time. Need to wait 145 seconds, until 17:28.\n",
            "\n",
            "Too many queries in the last time. Need to wait 71 seconds, until 17:36.\n",
            "\n",
            "Too many queries in the last time. Need to wait 152 seconds, until 17:39.\n",
            "\n",
            "Too many queries in the last time. Need to wait 61 seconds, until 17:47.\n",
            "\n",
            "Too many queries in the last time. Need to wait 154 seconds, until 17:50.\n",
            "\n",
            "Too many queries in the last time. Need to wait 32 seconds, until 17:58.\n",
            "\n",
            "Too many queries in the last time. Need to wait 154 seconds, until 18:01.\n",
            "\n",
            "Too many queries in the last time. Need to wait 17 seconds, until 18:03.\n",
            "\n",
            "Too many queries in the last time. Need to wait 36 seconds, until 18:09.\n",
            "\n",
            "Too many queries in the last time. Need to wait 155 seconds, until 18:12.\n",
            "\n",
            "Too many queries in the last time. Need to wait 35 seconds, until 18:20.\n",
            "\n",
            "Too many queries in the last time. Need to wait 157 seconds, until 18:23.\n"
          ],
          "name": "stdout"
        }
      ]
    }
  ]
}